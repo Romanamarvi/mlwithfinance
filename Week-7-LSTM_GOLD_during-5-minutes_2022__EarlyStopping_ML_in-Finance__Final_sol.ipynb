{
 "cells": [
  {
   "cell_type": "markdown",
   "metadata": {},
   "source": [
    "<html> <h1 style=\"font-style:bold; color:blue;\"> Machine Learning in Finance </h1> </html>"
   ]
  },
  {
   "cell_type": "markdown",
   "metadata": {},
   "source": [
    "<html> <h1 style=\"font-style:italic; color:blue;\"> Week-7 </h1> </html>"
   ]
  },
  {
   "cell_type": "markdown",
   "metadata": {},
   "source": [
    "## LSTM (Long Short-Term Memory)\n",
    "\n",
    "## GOLD-2022 dataset \n",
    "     \n",
    "### Predictions of The Highest & Lowest prices DURING five(5) following minutes\n",
    "- Early-Stopping\n",
    "- Loss function: MSE\n",
    "\n",
    "### length of analysed history (sliding window)- 50 minutes ago\n",
    "\n",
    "#### dataset for training: 30.000 rows (minutes) ~ 1 month\n",
    "#### train / test = 90 /10"
   ]
  },
  {
   "attachments": {
    "a5936ca3-0185-4703-98ee-66f8d6404486.png": {
     "image/png": "[encoded data removed]"
    }
   },
   "cell_type": "markdown",
   "metadata": {},
   "source": [
    "___________________________![image.png](attachment:a5936ca3-0185-4703-98ee-66f8d6404486.png)"
   ]
  },
  {
   "cell_type": "code",
   "execution_count": 1,
   "metadata": {},
   "outputs": [],
   "source": [
    "import numpy as np\n",
    "import pandas as pd\n",
    "\n",
    "import matplotlib.pyplot as plt\n",
    "%matplotlib inline\n",
    "\n",
    "from matplotlib import *\n",
    "import seaborn as sns"
   ]
  },
  {
   "cell_type": "code",
   "execution_count": null,
   "metadata": {
    "id": "Ixx8yjyPc3q7"
   },
   "outputs": [],
   "source": []
  },
  {
   "attachments": {
    "32a2c2ad-40e3-41b4-843b-19fa5bc69678.png": {
     "image/png": "[encoded data removed]"
    }
   },
   "cell_type": "markdown",
   "metadata": {},
   "source": [
    "_____________________![image.png](attachment:32a2c2ad-40e3-41b4-843b-19fa5bc69678.png)"
   ]
  },
  {
   "cell_type": "code",
   "execution_count": 2,
   "metadata": {},
   "outputs": [],
   "source": [
    "import tensorflow as tf\n",
    "from tensorflow import keras"
   ]
  },
  {
   "cell_type": "code",
   "execution_count": 2,
   "metadata": {
    "id": "y_oezUv8c8MJ"
   },
   "outputs": [],
   "source": []
  },
  {
   "attachments": {
    "35d39cff-5be9-4339-8a7b-93d059e86283.png": {
     "image/png": "[encoded data removed]"
    }
   },
   "cell_type": "markdown",
   "metadata": {},
   "source": [
    "__________________![image.png](attachment:35d39cff-5be9-4339-8a7b-93d059e86283.png)"
   ]
  },
  {
   "cell_type": "code",
   "execution_count": 4,
   "metadata": {},
   "outputs": [
    {
     "name": "stdout",
     "output_type": "stream",
     "text": [
      "2.18.0\n"
     ]
    }
   ],
   "source": [
    "print(tf.__version__)"
   ]
  },
  {
   "cell_type": "code",
   "execution_count": 3,
   "metadata": {
    "colab": {
     "base_uri": "https://localhost:8080/"
    },
    "id": "oUBN_opVdAaP",
    "outputId": "b835da15-c062-4526-d335-2c215c28d49c"
   },
   "outputs": [
    {
     "name": "stdout",
     "output_type": "stream",
     "text": [
      "2.17.0\n"
     ]
    }
   ],
   "source": []
  },
  {
   "attachments": {
    "1565fe56-e25f-426a-b31d-492e53260440.png": {
     "image/png": "[encoded data removed]"
    }
   },
   "cell_type": "markdown",
   "metadata": {},
   "source": [
    "_____________________![image.png](attachment:1565fe56-e25f-426a-b31d-492e53260440.png)"
   ]
  },
  {
   "cell_type": "code",
   "execution_count": 5,
   "metadata": {},
   "outputs": [],
   "source": [
    "from tensorflow.keras.callbacks import EarlyStopping\n",
    "from tensorflow.keras.callbacks import ModelCheckpoint"
   ]
  },
  {
   "cell_type": "code",
   "execution_count": 4,
   "metadata": {},
   "outputs": [],
   "source": []
  },
  {
   "attachments": {
    "b64170db-97a0-4e8d-9b75-c05033a49f46.png": {
     "image/png": "[encoded data removed]"
    }
   },
   "cell_type": "markdown",
   "metadata": {},
   "source": [
    "___________________![image.png](attachment:b64170db-97a0-4e8d-9b75-c05033a49f46.png)"
   ]
  },
  {
   "cell_type": "code",
   "execution_count": 6,
   "metadata": {},
   "outputs": [],
   "source": [
    "np.random.seed(19)"
   ]
  },
  {
   "cell_type": "code",
   "execution_count": 5,
   "metadata": {
    "id": "bde2CkpTdDej"
   },
   "outputs": [],
   "source": []
  },
  {
   "cell_type": "markdown",
   "metadata": {},
   "source": [
    "<html> <h2 style=\" color:blue;\"> Data </h2> </html>"
   ]
  },
  {
   "cell_type": "code",
   "execution_count": 9,
   "metadata": {},
   "outputs": [],
   "source": [
    "# We use a slightly different normalisation principle for prices.\n",
    "# We use the same principle as in the practical session in Week-6 for Volumes and Deltas.\n",
    "\n",
    "# For normalisation, it is not necessary for the normalised columns' values to be in the range between [0,1].\n",
    "# What is more important is that all the values ​​in these columns are approximately the same order of magnitude, \n",
    "# i.e. do not differ by hundreds or more times."
   ]
  },
  {
   "attachments": {
    "e1d0b29b-673f-4a1a-9cfc-af75e18f3797.png": {
     "image/png": "[encoded data removed]"
    }
   },
   "cell_type": "markdown",
   "metadata": {},
   "source": [
    "_____________________________![image.png](attachment:e1d0b29b-673f-4a1a-9cfc-af75e18f3797.png)"
   ]
  },
  {
   "cell_type": "code",
   "execution_count": 11,
   "metadata": {},
   "outputs": [
    {
     "data": {
      "text/html": [
       "<div>\n",
       "<style scoped>\n",
       "    .dataframe tbody tr th:only-of-type {\n",
       "        vertical-align: middle;\n",
       "    }\n",
       "\n",
       "    .dataframe tbody tr th {\n",
       "        vertical-align: top;\n",
       "    }\n",
       "\n",
       "    .dataframe thead th {\n",
       "        text-align: right;\n",
       "    }\n",
       "</style>\n",
       "<table border=\"1\" class=\"dataframe\">\n",
       "  <thead>\n",
       "    <tr style=\"text-align: right;\">\n",
       "      <th></th>\n",
       "      <th>Open_Bid</th>\n",
       "      <th>High_Bid</th>\n",
       "      <th>Low_Bid</th>\n",
       "      <th>Close_Bid</th>\n",
       "      <th>Volume_Bid</th>\n",
       "      <th>Open_Ask</th>\n",
       "      <th>High_Ask</th>\n",
       "      <th>Low_Ask</th>\n",
       "      <th>Close_Ask</th>\n",
       "      <th>Volume_Ask</th>\n",
       "      <th>Volume_Delta</th>\n",
       "      <th>Volume_Delta_abs</th>\n",
       "      <th>Open_Delta</th>\n",
       "      <th>High_Delta</th>\n",
       "      <th>Low_Delta</th>\n",
       "      <th>Close_Delta</th>\n",
       "      <th>New_day</th>\n",
       "      <th>New_week</th>\n",
       "      <th>Y_High_Bid</th>\n",
       "      <th>Y_Low_Ask</th>\n",
       "    </tr>\n",
       "  </thead>\n",
       "  <tbody>\n",
       "    <tr>\n",
       "      <th>0</th>\n",
       "      <td>1.828604</td>\n",
       "      <td>1.829628</td>\n",
       "      <td>1.828544</td>\n",
       "      <td>1.829504</td>\n",
       "      <td>0.009718</td>\n",
       "      <td>1.829656</td>\n",
       "      <td>1.830936</td>\n",
       "      <td>1.829386</td>\n",
       "      <td>1.830196</td>\n",
       "      <td>0.009050</td>\n",
       "      <td>0.629054</td>\n",
       "      <td>0.000709</td>\n",
       "      <td>0.751830</td>\n",
       "      <td>0.691381</td>\n",
       "      <td>0.801417</td>\n",
       "      <td>0.836836</td>\n",
       "      <td>1</td>\n",
       "      <td>1</td>\n",
       "      <td>1.829628</td>\n",
       "      <td>1.829386</td>\n",
       "    </tr>\n",
       "    <tr>\n",
       "      <th>1</th>\n",
       "      <td>1.829504</td>\n",
       "      <td>1.830104</td>\n",
       "      <td>1.829398</td>\n",
       "      <td>1.830004</td>\n",
       "      <td>0.007151</td>\n",
       "      <td>1.829936</td>\n",
       "      <td>1.830676</td>\n",
       "      <td>1.829916</td>\n",
       "      <td>1.830632</td>\n",
       "      <td>0.009946</td>\n",
       "      <td>0.631369</td>\n",
       "      <td>0.002969</td>\n",
       "      <td>0.898229</td>\n",
       "      <td>0.865171</td>\n",
       "      <td>0.877922</td>\n",
       "      <td>0.851948</td>\n",
       "      <td>0</td>\n",
       "      <td>0</td>\n",
       "      <td>1.830104</td>\n",
       "      <td>1.829916</td>\n",
       "    </tr>\n",
       "    <tr>\n",
       "      <th>2</th>\n",
       "      <td>1.830098</td>\n",
       "      <td>1.830604</td>\n",
       "      <td>1.829998</td>\n",
       "      <td>1.830534</td>\n",
       "      <td>0.011126</td>\n",
       "      <td>1.830612</td>\n",
       "      <td>1.831226</td>\n",
       "      <td>1.830516</td>\n",
       "      <td>1.831146</td>\n",
       "      <td>0.016555</td>\n",
       "      <td>0.633130</td>\n",
       "      <td>0.005766</td>\n",
       "      <td>0.878867</td>\n",
       "      <td>0.853365</td>\n",
       "      <td>0.877922</td>\n",
       "      <td>0.855726</td>\n",
       "      <td>0</td>\n",
       "      <td>0</td>\n",
       "      <td>1.830604</td>\n",
       "      <td>1.830516</td>\n",
       "    </tr>\n",
       "    <tr>\n",
       "      <th>3</th>\n",
       "      <td>1.830534</td>\n",
       "      <td>1.830704</td>\n",
       "      <td>1.830504</td>\n",
       "      <td>1.830674</td>\n",
       "      <td>0.001991</td>\n",
       "      <td>1.831156</td>\n",
       "      <td>1.831306</td>\n",
       "      <td>1.831046</td>\n",
       "      <td>1.831046</td>\n",
       "      <td>0.006808</td>\n",
       "      <td>0.632720</td>\n",
       "      <td>0.005116</td>\n",
       "      <td>0.853365</td>\n",
       "      <td>0.858087</td>\n",
       "      <td>0.872255</td>\n",
       "      <td>0.912397</td>\n",
       "      <td>0</td>\n",
       "      <td>0</td>\n",
       "      <td>1.830704</td>\n",
       "      <td>1.831046</td>\n",
       "    </tr>\n",
       "    <tr>\n",
       "      <th>4</th>\n",
       "      <td>1.830674</td>\n",
       "      <td>1.830674</td>\n",
       "      <td>1.830448</td>\n",
       "      <td>1.830508</td>\n",
       "      <td>0.006660</td>\n",
       "      <td>1.831026</td>\n",
       "      <td>1.831181</td>\n",
       "      <td>1.830886</td>\n",
       "      <td>1.831086</td>\n",
       "      <td>0.010739</td>\n",
       "      <td>0.632227</td>\n",
       "      <td>0.004332</td>\n",
       "      <td>0.917119</td>\n",
       "      <td>0.880520</td>\n",
       "      <td>0.896812</td>\n",
       "      <td>0.863754</td>\n",
       "      <td>0</td>\n",
       "      <td>0</td>\n",
       "      <td>1.830674</td>\n",
       "      <td>1.830886</td>\n",
       "    </tr>\n",
       "  </tbody>\n",
       "</table>\n",
       "</div>"
      ],
      "text/plain": [
       "   Open_Bid  High_Bid   Low_Bid  Close_Bid  Volume_Bid  Open_Ask  High_Ask  \\\n",
       "0  1.828604  1.829628  1.828544   1.829504    0.009718  1.829656  1.830936   \n",
       "1  1.829504  1.830104  1.829398   1.830004    0.007151  1.829936  1.830676   \n",
       "2  1.830098  1.830604  1.829998   1.830534    0.011126  1.830612  1.831226   \n",
       "3  1.830534  1.830704  1.830504   1.830674    0.001991  1.831156  1.831306   \n",
       "4  1.830674  1.830674  1.830448   1.830508    0.006660  1.831026  1.831181   \n",
       "\n",
       "    Low_Ask  Close_Ask  Volume_Ask  Volume_Delta  Volume_Delta_abs  \\\n",
       "0  1.829386   1.830196    0.009050      0.629054          0.000709   \n",
       "1  1.829916   1.830632    0.009946      0.631369          0.002969   \n",
       "2  1.830516   1.831146    0.016555      0.633130          0.005766   \n",
       "3  1.831046   1.831046    0.006808      0.632720          0.005116   \n",
       "4  1.830886   1.831086    0.010739      0.632227          0.004332   \n",
       "\n",
       "   Open_Delta  High_Delta  Low_Delta  Close_Delta  New_day  New_week  \\\n",
       "0    0.751830    0.691381   0.801417     0.836836        1         1   \n",
       "1    0.898229    0.865171   0.877922     0.851948        0         0   \n",
       "2    0.878867    0.853365   0.877922     0.855726        0         0   \n",
       "3    0.853365    0.858087   0.872255     0.912397        0         0   \n",
       "4    0.917119    0.880520   0.896812     0.863754        0         0   \n",
       "\n",
       "   Y_High_Bid  Y_Low_Ask  \n",
       "0    1.829628   1.829386  \n",
       "1    1.830104   1.829916  \n",
       "2    1.830604   1.830516  \n",
       "3    1.830704   1.831046  \n",
       "4    1.830674   1.830886  "
      ]
     },
     "execution_count": 11,
     "metadata": {},
     "output_type": "execute_result"
    }
   ],
   "source": [
    "data = pd.read_csv('GOLD_2022_normalised_NEW-1000.csv', low_memory=False, sep=',')\n",
    "data.head()"
   ]
  },
  {
   "cell_type": "code",
   "execution_count": 10,
   "metadata": {},
   "outputs": [
    {
     "data": {
      "text/html": [
       "<div>\n",
       "<style scoped>\n",
       "    .dataframe tbody tr th:only-of-type {\n",
       "        vertical-align: middle;\n",
       "    }\n",
       "\n",
       "    .dataframe tbody tr th {\n",
       "        vertical-align: top;\n",
       "    }\n",
       "\n",
       "    .dataframe thead th {\n",
       "        text-align: right;\n",
       "    }\n",
       "</style>\n",
       "<table border=\"1\" class=\"dataframe\">\n",
       "  <thead>\n",
       "    <tr style=\"text-align: right;\">\n",
       "      <th></th>\n",
       "      <th>Open_Bid</th>\n",
       "      <th>High_Bid</th>\n",
       "      <th>Low_Bid</th>\n",
       "      <th>Close_Bid</th>\n",
       "      <th>Volume_Bid</th>\n",
       "      <th>Open_Ask</th>\n",
       "      <th>High_Ask</th>\n",
       "      <th>Low_Ask</th>\n",
       "      <th>Close_Ask</th>\n",
       "      <th>Volume_Ask</th>\n",
       "      <th>Volume_Delta</th>\n",
       "      <th>Volume_Delta_abs</th>\n",
       "      <th>Open_Delta</th>\n",
       "      <th>High_Delta</th>\n",
       "      <th>Low_Delta</th>\n",
       "      <th>Close_Delta</th>\n",
       "      <th>New_day</th>\n",
       "      <th>New_week</th>\n",
       "      <th>Y_High_Bid</th>\n",
       "      <th>Y_Low_Ask</th>\n",
       "    </tr>\n",
       "  </thead>\n",
       "  <tbody>\n",
       "    <tr>\n",
       "      <th>0</th>\n",
       "      <td>1.828604</td>\n",
       "      <td>1.829628</td>\n",
       "      <td>1.828544</td>\n",
       "      <td>1.829504</td>\n",
       "      <td>0.009718</td>\n",
       "      <td>1.829656</td>\n",
       "      <td>1.830936</td>\n",
       "      <td>1.829386</td>\n",
       "      <td>1.830196</td>\n",
       "      <td>0.009050</td>\n",
       "      <td>0.629054</td>\n",
       "      <td>0.000709</td>\n",
       "      <td>0.751830</td>\n",
       "      <td>0.691381</td>\n",
       "      <td>0.801417</td>\n",
       "      <td>0.836836</td>\n",
       "      <td>1</td>\n",
       "      <td>1</td>\n",
       "      <td>1.829628</td>\n",
       "      <td>1.829386</td>\n",
       "    </tr>\n",
       "    <tr>\n",
       "      <th>1</th>\n",
       "      <td>1.829504</td>\n",
       "      <td>1.830104</td>\n",
       "      <td>1.829398</td>\n",
       "      <td>1.830004</td>\n",
       "      <td>0.007151</td>\n",
       "      <td>1.829936</td>\n",
       "      <td>1.830676</td>\n",
       "      <td>1.829916</td>\n",
       "      <td>1.830632</td>\n",
       "      <td>0.009946</td>\n",
       "      <td>0.631369</td>\n",
       "      <td>0.002969</td>\n",
       "      <td>0.898229</td>\n",
       "      <td>0.865171</td>\n",
       "      <td>0.877922</td>\n",
       "      <td>0.851948</td>\n",
       "      <td>0</td>\n",
       "      <td>0</td>\n",
       "      <td>1.830104</td>\n",
       "      <td>1.829916</td>\n",
       "    </tr>\n",
       "    <tr>\n",
       "      <th>2</th>\n",
       "      <td>1.830098</td>\n",
       "      <td>1.830604</td>\n",
       "      <td>1.829998</td>\n",
       "      <td>1.830534</td>\n",
       "      <td>0.011126</td>\n",
       "      <td>1.830612</td>\n",
       "      <td>1.831226</td>\n",
       "      <td>1.830516</td>\n",
       "      <td>1.831146</td>\n",
       "      <td>0.016555</td>\n",
       "      <td>0.633130</td>\n",
       "      <td>0.005766</td>\n",
       "      <td>0.878867</td>\n",
       "      <td>0.853365</td>\n",
       "      <td>0.877922</td>\n",
       "      <td>0.855726</td>\n",
       "      <td>0</td>\n",
       "      <td>0</td>\n",
       "      <td>1.830604</td>\n",
       "      <td>1.830516</td>\n",
       "    </tr>\n",
       "    <tr>\n",
       "      <th>3</th>\n",
       "      <td>1.830534</td>\n",
       "      <td>1.830704</td>\n",
       "      <td>1.830504</td>\n",
       "      <td>1.830674</td>\n",
       "      <td>0.001991</td>\n",
       "      <td>1.831156</td>\n",
       "      <td>1.831306</td>\n",
       "      <td>1.831046</td>\n",
       "      <td>1.831046</td>\n",
       "      <td>0.006808</td>\n",
       "      <td>0.632720</td>\n",
       "      <td>0.005116</td>\n",
       "      <td>0.853365</td>\n",
       "      <td>0.858087</td>\n",
       "      <td>0.872255</td>\n",
       "      <td>0.912397</td>\n",
       "      <td>0</td>\n",
       "      <td>0</td>\n",
       "      <td>1.830704</td>\n",
       "      <td>1.831046</td>\n",
       "    </tr>\n",
       "    <tr>\n",
       "      <th>4</th>\n",
       "      <td>1.830674</td>\n",
       "      <td>1.830674</td>\n",
       "      <td>1.830448</td>\n",
       "      <td>1.830508</td>\n",
       "      <td>0.006660</td>\n",
       "      <td>1.831026</td>\n",
       "      <td>1.831181</td>\n",
       "      <td>1.830886</td>\n",
       "      <td>1.831086</td>\n",
       "      <td>0.010739</td>\n",
       "      <td>0.632227</td>\n",
       "      <td>0.004332</td>\n",
       "      <td>0.917119</td>\n",
       "      <td>0.880520</td>\n",
       "      <td>0.896812</td>\n",
       "      <td>0.863754</td>\n",
       "      <td>0</td>\n",
       "      <td>0</td>\n",
       "      <td>1.830674</td>\n",
       "      <td>1.830886</td>\n",
       "    </tr>\n",
       "  </tbody>\n",
       "</table>\n",
       "</div>"
      ],
      "text/plain": [
       "   Open_Bid  High_Bid   Low_Bid  Close_Bid  Volume_Bid  Open_Ask  High_Ask  \\\n",
       "0  1.828604  1.829628  1.828544   1.829504    0.009718  1.829656  1.830936   \n",
       "1  1.829504  1.830104  1.829398   1.830004    0.007151  1.829936  1.830676   \n",
       "2  1.830098  1.830604  1.829998   1.830534    0.011126  1.830612  1.831226   \n",
       "3  1.830534  1.830704  1.830504   1.830674    0.001991  1.831156  1.831306   \n",
       "4  1.830674  1.830674  1.830448   1.830508    0.006660  1.831026  1.831181   \n",
       "\n",
       "    Low_Ask  Close_Ask  Volume_Ask  Volume_Delta  Volume_Delta_abs  \\\n",
       "0  1.829386   1.830196    0.009050      0.629054          0.000709   \n",
       "1  1.829916   1.830632    0.009946      0.631369          0.002969   \n",
       "2  1.830516   1.831146    0.016555      0.633130          0.005766   \n",
       "3  1.831046   1.831046    0.006808      0.632720          0.005116   \n",
       "4  1.830886   1.831086    0.010739      0.632227          0.004332   \n",
       "\n",
       "   Open_Delta  High_Delta  Low_Delta  Close_Delta  New_day  New_week  \\\n",
       "0    0.751830    0.691381   0.801417     0.836836        1         1   \n",
       "1    0.898229    0.865171   0.877922     0.851948        0         0   \n",
       "2    0.878867    0.853365   0.877922     0.855726        0         0   \n",
       "3    0.853365    0.858087   0.872255     0.912397        0         0   \n",
       "4    0.917119    0.880520   0.896812     0.863754        0         0   \n",
       "\n",
       "   Y_High_Bid  Y_Low_Ask  \n",
       "0    1.829628   1.829386  \n",
       "1    1.830104   1.829916  \n",
       "2    1.830604   1.830516  \n",
       "3    1.830704   1.831046  \n",
       "4    1.830674   1.830886  "
      ]
     },
     "execution_count": 10,
     "metadata": {},
     "output_type": "execute_result"
    }
   ],
   "source": []
  },
  {
   "attachments": {
    "2f2d7f99-0e2f-4660-9f62-4bbeeb6caca1.png": {
     "image/png": "[encoded data removed]"
    }
   },
   "cell_type": "markdown",
   "metadata": {},
   "source": [
    "_____________________________![image.png](attachment:2f2d7f99-0e2f-4660-9f62-4bbeeb6caca1.png)"
   ]
  },
  {
   "cell_type": "code",
   "execution_count": 13,
   "metadata": {},
   "outputs": [
    {
     "data": {
      "text/html": [
       "<div>\n",
       "<style scoped>\n",
       "    .dataframe tbody tr th:only-of-type {\n",
       "        vertical-align: middle;\n",
       "    }\n",
       "\n",
       "    .dataframe tbody tr th {\n",
       "        vertical-align: top;\n",
       "    }\n",
       "\n",
       "    .dataframe thead th {\n",
       "        text-align: right;\n",
       "    }\n",
       "</style>\n",
       "<table border=\"1\" class=\"dataframe\">\n",
       "  <thead>\n",
       "    <tr style=\"text-align: right;\">\n",
       "      <th></th>\n",
       "      <th>Open_Bid</th>\n",
       "      <th>High_Bid</th>\n",
       "      <th>Low_Bid</th>\n",
       "      <th>Close_Bid</th>\n",
       "      <th>Volume_Bid</th>\n",
       "      <th>Open_Ask</th>\n",
       "      <th>High_Ask</th>\n",
       "      <th>Low_Ask</th>\n",
       "      <th>Close_Ask</th>\n",
       "      <th>Volume_Ask</th>\n",
       "      <th>Volume_Delta</th>\n",
       "      <th>Volume_Delta_abs</th>\n",
       "      <th>Open_Delta</th>\n",
       "      <th>High_Delta</th>\n",
       "      <th>Low_Delta</th>\n",
       "      <th>Close_Delta</th>\n",
       "      <th>New_day</th>\n",
       "      <th>New_week</th>\n",
       "      <th>Y_High_Bid</th>\n",
       "      <th>Y_Low_Ask</th>\n",
       "    </tr>\n",
       "  </thead>\n",
       "  <tbody>\n",
       "    <tr>\n",
       "      <th>354689</th>\n",
       "      <td>1.824248</td>\n",
       "      <td>1.824348</td>\n",
       "      <td>1.824148</td>\n",
       "      <td>1.824248</td>\n",
       "      <td>0.001962</td>\n",
       "      <td>1.824852</td>\n",
       "      <td>1.825052</td>\n",
       "      <td>1.824752</td>\n",
       "      <td>1.824852</td>\n",
       "      <td>0.001409</td>\n",
       "      <td>0.629130</td>\n",
       "      <td>0.000588</td>\n",
       "      <td>0.857615</td>\n",
       "      <td>0.834002</td>\n",
       "      <td>0.857615</td>\n",
       "      <td>0.857615</td>\n",
       "      <td>0</td>\n",
       "      <td>0</td>\n",
       "      <td>1.824348</td>\n",
       "      <td>1.824752</td>\n",
       "    </tr>\n",
       "    <tr>\n",
       "      <th>354690</th>\n",
       "      <td>1.824148</td>\n",
       "      <td>1.824148</td>\n",
       "      <td>1.823737</td>\n",
       "      <td>1.823948</td>\n",
       "      <td>0.002202</td>\n",
       "      <td>1.824752</td>\n",
       "      <td>1.824752</td>\n",
       "      <td>1.824552</td>\n",
       "      <td>1.824552</td>\n",
       "      <td>0.001165</td>\n",
       "      <td>0.628807</td>\n",
       "      <td>0.001101</td>\n",
       "      <td>0.857615</td>\n",
       "      <td>0.857615</td>\n",
       "      <td>0.807792</td>\n",
       "      <td>0.857615</td>\n",
       "      <td>0</td>\n",
       "      <td>0</td>\n",
       "      <td>1.824148</td>\n",
       "      <td>1.824552</td>\n",
       "    </tr>\n",
       "    <tr>\n",
       "      <th>354691</th>\n",
       "      <td>1.823948</td>\n",
       "      <td>1.824090</td>\n",
       "      <td>1.823347</td>\n",
       "      <td>1.823848</td>\n",
       "      <td>0.003087</td>\n",
       "      <td>1.824505</td>\n",
       "      <td>1.824675</td>\n",
       "      <td>1.824252</td>\n",
       "      <td>1.824452</td>\n",
       "      <td>0.002884</td>\n",
       "      <td>0.629365</td>\n",
       "      <td>0.000215</td>\n",
       "      <td>0.868713</td>\n",
       "      <td>0.862102</td>\n",
       "      <td>0.786541</td>\n",
       "      <td>0.857615</td>\n",
       "      <td>0</td>\n",
       "      <td>0</td>\n",
       "      <td>1.824090</td>\n",
       "      <td>1.824252</td>\n",
       "    </tr>\n",
       "    <tr>\n",
       "      <th>354692</th>\n",
       "      <td>1.823748</td>\n",
       "      <td>1.823748</td>\n",
       "      <td>1.823023</td>\n",
       "      <td>1.823025</td>\n",
       "      <td>0.003976</td>\n",
       "      <td>1.824452</td>\n",
       "      <td>1.824452</td>\n",
       "      <td>1.823852</td>\n",
       "      <td>1.823852</td>\n",
       "      <td>0.001494</td>\n",
       "      <td>0.627841</td>\n",
       "      <td>0.002636</td>\n",
       "      <td>0.834002</td>\n",
       "      <td>0.834002</td>\n",
       "      <td>0.804486</td>\n",
       "      <td>0.804959</td>\n",
       "      <td>0</td>\n",
       "      <td>0</td>\n",
       "      <td>1.823748</td>\n",
       "      <td>1.823852</td>\n",
       "    </tr>\n",
       "    <tr>\n",
       "      <th>354693</th>\n",
       "      <td>1.823448</td>\n",
       "      <td>1.823463</td>\n",
       "      <td>1.823006</td>\n",
       "      <td>1.823463</td>\n",
       "      <td>0.006583</td>\n",
       "      <td>1.823955</td>\n",
       "      <td>1.824252</td>\n",
       "      <td>1.823852</td>\n",
       "      <td>1.824252</td>\n",
       "      <td>0.000892</td>\n",
       "      <td>0.625696</td>\n",
       "      <td>0.006044</td>\n",
       "      <td>0.880520</td>\n",
       "      <td>0.813932</td>\n",
       "      <td>0.800472</td>\n",
       "      <td>0.813932</td>\n",
       "      <td>0</td>\n",
       "      <td>0</td>\n",
       "      <td>1.823463</td>\n",
       "      <td>1.823852</td>\n",
       "    </tr>\n",
       "  </tbody>\n",
       "</table>\n",
       "</div>"
      ],
      "text/plain": [
       "        Open_Bid  High_Bid   Low_Bid  Close_Bid  Volume_Bid  Open_Ask  \\\n",
       "354689  1.824248  1.824348  1.824148   1.824248    0.001962  1.824852   \n",
       "354690  1.824148  1.824148  1.823737   1.823948    0.002202  1.824752   \n",
       "354691  1.823948  1.824090  1.823347   1.823848    0.003087  1.824505   \n",
       "354692  1.823748  1.823748  1.823023   1.823025    0.003976  1.824452   \n",
       "354693  1.823448  1.823463  1.823006   1.823463    0.006583  1.823955   \n",
       "\n",
       "        High_Ask   Low_Ask  Close_Ask  Volume_Ask  Volume_Delta  \\\n",
       "354689  1.825052  1.824752   1.824852    0.001409      0.629130   \n",
       "354690  1.824752  1.824552   1.824552    0.001165      0.628807   \n",
       "354691  1.824675  1.824252   1.824452    0.002884      0.629365   \n",
       "354692  1.824452  1.823852   1.823852    0.001494      0.627841   \n",
       "354693  1.824252  1.823852   1.824252    0.000892      0.625696   \n",
       "\n",
       "        Volume_Delta_abs  Open_Delta  High_Delta  Low_Delta  Close_Delta  \\\n",
       "354689          0.000588    0.857615    0.834002   0.857615     0.857615   \n",
       "354690          0.001101    0.857615    0.857615   0.807792     0.857615   \n",
       "354691          0.000215    0.868713    0.862102   0.786541     0.857615   \n",
       "354692          0.002636    0.834002    0.834002   0.804486     0.804959   \n",
       "354693          0.006044    0.880520    0.813932   0.800472     0.813932   \n",
       "\n",
       "        New_day  New_week  Y_High_Bid  Y_Low_Ask  \n",
       "354689        0         0    1.824348   1.824752  \n",
       "354690        0         0    1.824148   1.824552  \n",
       "354691        0         0    1.824090   1.824252  \n",
       "354692        0         0    1.823748   1.823852  \n",
       "354693        0         0    1.823463   1.823852  "
      ]
     },
     "execution_count": 13,
     "metadata": {},
     "output_type": "execute_result"
    }
   ],
   "source": [
    "data.tail()"
   ]
  },
  {
   "cell_type": "code",
   "execution_count": 11,
   "metadata": {},
   "outputs": [
    {
     "data": {
      "text/html": [
       "<div>\n",
       "<style scoped>\n",
       "    .dataframe tbody tr th:only-of-type {\n",
       "        vertical-align: middle;\n",
       "    }\n",
       "\n",
       "    .dataframe tbody tr th {\n",
       "        vertical-align: top;\n",
       "    }\n",
       "\n",
       "    .dataframe thead th {\n",
       "        text-align: right;\n",
       "    }\n",
       "</style>\n",
       "<table border=\"1\" class=\"dataframe\">\n",
       "  <thead>\n",
       "    <tr style=\"text-align: right;\">\n",
       "      <th></th>\n",
       "      <th>Open_Bid</th>\n",
       "      <th>High_Bid</th>\n",
       "      <th>Low_Bid</th>\n",
       "      <th>Close_Bid</th>\n",
       "      <th>Volume_Bid</th>\n",
       "      <th>Open_Ask</th>\n",
       "      <th>High_Ask</th>\n",
       "      <th>Low_Ask</th>\n",
       "      <th>Close_Ask</th>\n",
       "      <th>Volume_Ask</th>\n",
       "      <th>Volume_Delta</th>\n",
       "      <th>Volume_Delta_abs</th>\n",
       "      <th>Open_Delta</th>\n",
       "      <th>High_Delta</th>\n",
       "      <th>Low_Delta</th>\n",
       "      <th>Close_Delta</th>\n",
       "      <th>New_day</th>\n",
       "      <th>New_week</th>\n",
       "      <th>Y_High_Bid</th>\n",
       "      <th>Y_Low_Ask</th>\n",
       "    </tr>\n",
       "  </thead>\n",
       "  <tbody>\n",
       "    <tr>\n",
       "      <th>354689</th>\n",
       "      <td>1.824248</td>\n",
       "      <td>1.824348</td>\n",
       "      <td>1.824148</td>\n",
       "      <td>1.824248</td>\n",
       "      <td>0.001962</td>\n",
       "      <td>1.824852</td>\n",
       "      <td>1.825052</td>\n",
       "      <td>1.824752</td>\n",
       "      <td>1.824852</td>\n",
       "      <td>0.001409</td>\n",
       "      <td>0.629130</td>\n",
       "      <td>0.000588</td>\n",
       "      <td>0.857615</td>\n",
       "      <td>0.834002</td>\n",
       "      <td>0.857615</td>\n",
       "      <td>0.857615</td>\n",
       "      <td>0</td>\n",
       "      <td>0</td>\n",
       "      <td>1.824348</td>\n",
       "      <td>1.824752</td>\n",
       "    </tr>\n",
       "    <tr>\n",
       "      <th>354690</th>\n",
       "      <td>1.824148</td>\n",
       "      <td>1.824148</td>\n",
       "      <td>1.823737</td>\n",
       "      <td>1.823948</td>\n",
       "      <td>0.002202</td>\n",
       "      <td>1.824752</td>\n",
       "      <td>1.824752</td>\n",
       "      <td>1.824552</td>\n",
       "      <td>1.824552</td>\n",
       "      <td>0.001165</td>\n",
       "      <td>0.628807</td>\n",
       "      <td>0.001101</td>\n",
       "      <td>0.857615</td>\n",
       "      <td>0.857615</td>\n",
       "      <td>0.807792</td>\n",
       "      <td>0.857615</td>\n",
       "      <td>0</td>\n",
       "      <td>0</td>\n",
       "      <td>1.824148</td>\n",
       "      <td>1.824552</td>\n",
       "    </tr>\n",
       "    <tr>\n",
       "      <th>354691</th>\n",
       "      <td>1.823948</td>\n",
       "      <td>1.824090</td>\n",
       "      <td>1.823347</td>\n",
       "      <td>1.823848</td>\n",
       "      <td>0.003087</td>\n",
       "      <td>1.824505</td>\n",
       "      <td>1.824675</td>\n",
       "      <td>1.824252</td>\n",
       "      <td>1.824452</td>\n",
       "      <td>0.002884</td>\n",
       "      <td>0.629365</td>\n",
       "      <td>0.000215</td>\n",
       "      <td>0.868713</td>\n",
       "      <td>0.862102</td>\n",
       "      <td>0.786541</td>\n",
       "      <td>0.857615</td>\n",
       "      <td>0</td>\n",
       "      <td>0</td>\n",
       "      <td>1.824090</td>\n",
       "      <td>1.824252</td>\n",
       "    </tr>\n",
       "    <tr>\n",
       "      <th>354692</th>\n",
       "      <td>1.823748</td>\n",
       "      <td>1.823748</td>\n",
       "      <td>1.823023</td>\n",
       "      <td>1.823025</td>\n",
       "      <td>0.003976</td>\n",
       "      <td>1.824452</td>\n",
       "      <td>1.824452</td>\n",
       "      <td>1.823852</td>\n",
       "      <td>1.823852</td>\n",
       "      <td>0.001494</td>\n",
       "      <td>0.627841</td>\n",
       "      <td>0.002636</td>\n",
       "      <td>0.834002</td>\n",
       "      <td>0.834002</td>\n",
       "      <td>0.804486</td>\n",
       "      <td>0.804959</td>\n",
       "      <td>0</td>\n",
       "      <td>0</td>\n",
       "      <td>1.823748</td>\n",
       "      <td>1.823852</td>\n",
       "    </tr>\n",
       "    <tr>\n",
       "      <th>354693</th>\n",
       "      <td>1.823448</td>\n",
       "      <td>1.823463</td>\n",
       "      <td>1.823006</td>\n",
       "      <td>1.823463</td>\n",
       "      <td>0.006583</td>\n",
       "      <td>1.823955</td>\n",
       "      <td>1.824252</td>\n",
       "      <td>1.823852</td>\n",
       "      <td>1.824252</td>\n",
       "      <td>0.000892</td>\n",
       "      <td>0.625696</td>\n",
       "      <td>0.006044</td>\n",
       "      <td>0.880520</td>\n",
       "      <td>0.813932</td>\n",
       "      <td>0.800472</td>\n",
       "      <td>0.813932</td>\n",
       "      <td>0</td>\n",
       "      <td>0</td>\n",
       "      <td>1.823463</td>\n",
       "      <td>1.823852</td>\n",
       "    </tr>\n",
       "  </tbody>\n",
       "</table>\n",
       "</div>"
      ],
      "text/plain": [
       "        Open_Bid  High_Bid   Low_Bid  Close_Bid  Volume_Bid  Open_Ask  \\\n",
       "354689  1.824248  1.824348  1.824148   1.824248    0.001962  1.824852   \n",
       "354690  1.824148  1.824148  1.823737   1.823948    0.002202  1.824752   \n",
       "354691  1.823948  1.824090  1.823347   1.823848    0.003087  1.824505   \n",
       "354692  1.823748  1.823748  1.823023   1.823025    0.003976  1.824452   \n",
       "354693  1.823448  1.823463  1.823006   1.823463    0.006583  1.823955   \n",
       "\n",
       "        High_Ask   Low_Ask  Close_Ask  Volume_Ask  Volume_Delta  \\\n",
       "354689  1.825052  1.824752   1.824852    0.001409      0.629130   \n",
       "354690  1.824752  1.824552   1.824552    0.001165      0.628807   \n",
       "354691  1.824675  1.824252   1.824452    0.002884      0.629365   \n",
       "354692  1.824452  1.823852   1.823852    0.001494      0.627841   \n",
       "354693  1.824252  1.823852   1.824252    0.000892      0.625696   \n",
       "\n",
       "        Volume_Delta_abs  Open_Delta  High_Delta  Low_Delta  Close_Delta  \\\n",
       "354689          0.000588    0.857615    0.834002   0.857615     0.857615   \n",
       "354690          0.001101    0.857615    0.857615   0.807792     0.857615   \n",
       "354691          0.000215    0.868713    0.862102   0.786541     0.857615   \n",
       "354692          0.002636    0.834002    0.834002   0.804486     0.804959   \n",
       "354693          0.006044    0.880520    0.813932   0.800472     0.813932   \n",
       "\n",
       "        New_day  New_week  Y_High_Bid  Y_Low_Ask  \n",
       "354689        0         0    1.824348   1.824752  \n",
       "354690        0         0    1.824148   1.824552  \n",
       "354691        0         0    1.824090   1.824252  \n",
       "354692        0         0    1.823748   1.823852  \n",
       "354693        0         0    1.823463   1.823852  "
      ]
     },
     "execution_count": 11,
     "metadata": {},
     "output_type": "execute_result"
    }
   ],
   "source": []
  },
  {
   "attachments": {
    "728091c5-6d2a-4256-83c6-b6ee7dd6f4e4.png": {
     "image/png": "[encoded data removed]"
    }
   },
   "cell_type": "markdown",
   "metadata": {},
   "source": [
    "___________________________![image.png](attachment:728091c5-6d2a-4256-83c6-b6ee7dd6f4e4.png)"
   ]
  },
  {
   "cell_type": "code",
   "execution_count": 15,
   "metadata": {},
   "outputs": [
    {
     "name": "stdout",
     "output_type": "stream",
     "text": [
      "<class 'pandas.core.frame.DataFrame'>\n",
      "RangeIndex: 354694 entries, 0 to 354693\n",
      "Data columns (total 20 columns):\n",
      " #   Column            Non-Null Count   Dtype  \n",
      "---  ------            --------------   -----  \n",
      " 0   Open_Bid          354694 non-null  float64\n",
      " 1   High_Bid          354694 non-null  float64\n",
      " 2   Low_Bid           354694 non-null  float64\n",
      " 3   Close_Bid         354694 non-null  float64\n",
      " 4   Volume_Bid        354694 non-null  float64\n",
      " 5   Open_Ask          354694 non-null  float64\n",
      " 6   High_Ask          354694 non-null  float64\n",
      " 7   Low_Ask           354694 non-null  float64\n",
      " 8   Close_Ask         354694 non-null  float64\n",
      " 9   Volume_Ask        354694 non-null  float64\n",
      " 10  Volume_Delta      354694 non-null  float64\n",
      " 11  Volume_Delta_abs  354694 non-null  float64\n",
      " 12  Open_Delta        354694 non-null  float64\n",
      " 13  High_Delta        354694 non-null  float64\n",
      " 14  Low_Delta         354694 non-null  float64\n",
      " 15  Close_Delta       354694 non-null  float64\n",
      " 16  New_day           354694 non-null  int64  \n",
      " 17  New_week          354694 non-null  int64  \n",
      " 18  Y_High_Bid        354694 non-null  float64\n",
      " 19  Y_Low_Ask         354694 non-null  float64\n",
      "dtypes: float64(18), int64(2)\n",
      "memory usage: 54.1 MB\n"
     ]
    }
   ],
   "source": [
    "data.info()"
   ]
  },
  {
   "cell_type": "code",
   "execution_count": 12,
   "metadata": {},
   "outputs": [
    {
     "name": "stdout",
     "output_type": "stream",
     "text": [
      "<class 'pandas.core.frame.DataFrame'>\n",
      "RangeIndex: 354694 entries, 0 to 354693\n",
      "Data columns (total 20 columns):\n",
      " #   Column            Non-Null Count   Dtype  \n",
      "---  ------            --------------   -----  \n",
      " 0   Open_Bid          354694 non-null  float64\n",
      " 1   High_Bid          354694 non-null  float64\n",
      " 2   Low_Bid           354694 non-null  float64\n",
      " 3   Close_Bid         354694 non-null  float64\n",
      " 4   Volume_Bid        354694 non-null  float64\n",
      " 5   Open_Ask          354694 non-null  float64\n",
      " 6   High_Ask          354694 non-null  float64\n",
      " 7   Low_Ask           354694 non-null  float64\n",
      " 8   Close_Ask         354694 non-null  float64\n",
      " 9   Volume_Ask        354694 non-null  float64\n",
      " 10  Volume_Delta      354694 non-null  float64\n",
      " 11  Volume_Delta_abs  354694 non-null  float64\n",
      " 12  Open_Delta        354694 non-null  float64\n",
      " 13  High_Delta        354694 non-null  float64\n",
      " 14  Low_Delta         354694 non-null  float64\n",
      " 15  Close_Delta       354694 non-null  float64\n",
      " 16  New_day           354694 non-null  int64  \n",
      " 17  New_week          354694 non-null  int64  \n",
      " 18  Y_High_Bid        354694 non-null  float64\n",
      " 19  Y_Low_Ask         354694 non-null  float64\n",
      "dtypes: float64(18), int64(2)\n",
      "memory usage: 54.1 MB\n"
     ]
    }
   ],
   "source": []
  },
  {
   "cell_type": "markdown",
   "metadata": {},
   "source": [
    "#### Now just press 'CTRL' and 'ENTER' keys on the next cell."
   ]
  },
  {
   "cell_type": "code",
   "execution_count": 17,
   "metadata": {},
   "outputs": [],
   "source": [
    "# memory size reduction\n",
    "\n",
    "columns_float =['Open_Bid', 'High_Bid', 'Low_Bid', 'Close_Bid', 'Volume_Bid', \n",
    "                'Open_Ask', 'High_Ask', 'Low_Ask', 'Close_Ask', 'Volume_Ask', \n",
    "                'Volume_Delta', 'Volume_Delta_abs', \n",
    "                'Open_Delta', 'High_Delta', 'Low_Delta', 'Close_Delta',\n",
    "                'Y_High_Bid', 'Y_Low_Ask']\n",
    "\n",
    "columns_integer =['New_day', 'New_week']\n",
    "\n"
   ]
  },
  {
   "attachments": {
    "99e84a83-a8b2-47fc-bd3f-bd28c73a7078.png": {
     "image/png": "[encoded data removed]"
    }
   },
   "cell_type": "markdown",
   "metadata": {},
   "source": [
    "_____________________![image.png](attachment:99e84a83-a8b2-47fc-bd3f-bd28c73a7078.png)"
   ]
  },
  {
   "cell_type": "code",
   "execution_count": 19,
   "metadata": {},
   "outputs": [
    {
     "name": "stdout",
     "output_type": "stream",
     "text": [
      "<class 'pandas.core.frame.DataFrame'>\n",
      "RangeIndex: 354694 entries, 0 to 354693\n",
      "Data columns (total 20 columns):\n",
      " #   Column            Non-Null Count   Dtype  \n",
      "---  ------            --------------   -----  \n",
      " 0   Open_Bid          354694 non-null  float32\n",
      " 1   High_Bid          354694 non-null  float32\n",
      " 2   Low_Bid           354694 non-null  float32\n",
      " 3   Close_Bid         354694 non-null  float32\n",
      " 4   Volume_Bid        354694 non-null  float32\n",
      " 5   Open_Ask          354694 non-null  float32\n",
      " 6   High_Ask          354694 non-null  float32\n",
      " 7   Low_Ask           354694 non-null  float32\n",
      " 8   Close_Ask         354694 non-null  float32\n",
      " 9   Volume_Ask        354694 non-null  float32\n",
      " 10  Volume_Delta      354694 non-null  float32\n",
      " 11  Volume_Delta_abs  354694 non-null  float32\n",
      " 12  Open_Delta        354694 non-null  float32\n",
      " 13  High_Delta        354694 non-null  float32\n",
      " 14  Low_Delta         354694 non-null  float32\n",
      " 15  Close_Delta       354694 non-null  float32\n",
      " 16  New_day           354694 non-null  int8   \n",
      " 17  New_week          354694 non-null  int8   \n",
      " 18  Y_High_Bid        354694 non-null  float32\n",
      " 19  Y_Low_Ask         354694 non-null  float32\n",
      "dtypes: float32(18), int8(2)\n",
      "memory usage: 25.0 MB\n"
     ]
    }
   ],
   "source": [
    "for column in columns_float:\n",
    "    data[column] = pd.to_numeric(data[column], downcast='float')\n",
    "\n",
    "for column in columns_integer:\n",
    "    data[column] = pd.to_numeric(data[column], downcast='integer')\n",
    "\n",
    "data.info()"
   ]
  },
  {
   "cell_type": "code",
   "execution_count": 14,
   "metadata": {},
   "outputs": [
    {
     "name": "stdout",
     "output_type": "stream",
     "text": [
      "<class 'pandas.core.frame.DataFrame'>\n",
      "RangeIndex: 354694 entries, 0 to 354693\n",
      "Data columns (total 20 columns):\n",
      " #   Column            Non-Null Count   Dtype  \n",
      "---  ------            --------------   -----  \n",
      " 0   Open_Bid          354694 non-null  float32\n",
      " 1   High_Bid          354694 non-null  float32\n",
      " 2   Low_Bid           354694 non-null  float32\n",
      " 3   Close_Bid         354694 non-null  float32\n",
      " 4   Volume_Bid        354694 non-null  float32\n",
      " 5   Open_Ask          354694 non-null  float32\n",
      " 6   High_Ask          354694 non-null  float32\n",
      " 7   Low_Ask           354694 non-null  float32\n",
      " 8   Close_Ask         354694 non-null  float32\n",
      " 9   Volume_Ask        354694 non-null  float32\n",
      " 10  Volume_Delta      354694 non-null  float32\n",
      " 11  Volume_Delta_abs  354694 non-null  float32\n",
      " 12  Open_Delta        354694 non-null  float32\n",
      " 13  High_Delta        354694 non-null  float32\n",
      " 14  Low_Delta         354694 non-null  float32\n",
      " 15  Close_Delta       354694 non-null  float32\n",
      " 16  New_day           354694 non-null  int8   \n",
      " 17  New_week          354694 non-null  int8   \n",
      " 18  Y_High_Bid        354694 non-null  float32\n",
      " 19  Y_Low_Ask         354694 non-null  float32\n",
      "dtypes: float32(18), int8(2)\n",
      "memory usage: 25.0 MB\n"
     ]
    }
   ],
   "source": []
  },
  {
   "attachments": {
    "b4861676-3b86-4f05-8b1b-1fe0fb1192aa.png": {
     "image/png": "[encoded data removed]"
    }
   },
   "cell_type": "markdown",
   "metadata": {},
   "source": [
    "_____________________________![image.png](attachment:b4861676-3b86-4f05-8b1b-1fe0fb1192aa.png)"
   ]
  },
  {
   "cell_type": "code",
   "execution_count": 21,
   "metadata": {},
   "outputs": [
    {
     "data": {
      "text/html": [
       "<div>\n",
       "<style scoped>\n",
       "    .dataframe tbody tr th:only-of-type {\n",
       "        vertical-align: middle;\n",
       "    }\n",
       "\n",
       "    .dataframe tbody tr th {\n",
       "        vertical-align: top;\n",
       "    }\n",
       "\n",
       "    .dataframe thead th {\n",
       "        text-align: right;\n",
       "    }\n",
       "</style>\n",
       "<table border=\"1\" class=\"dataframe\">\n",
       "  <thead>\n",
       "    <tr style=\"text-align: right;\">\n",
       "      <th></th>\n",
       "      <th>Open_Bid</th>\n",
       "      <th>High_Bid</th>\n",
       "      <th>Low_Bid</th>\n",
       "      <th>Close_Bid</th>\n",
       "      <th>Volume_Bid</th>\n",
       "      <th>Open_Ask</th>\n",
       "      <th>High_Ask</th>\n",
       "      <th>Low_Ask</th>\n",
       "      <th>Close_Ask</th>\n",
       "      <th>Volume_Ask</th>\n",
       "      <th>Volume_Delta</th>\n",
       "      <th>Volume_Delta_abs</th>\n",
       "      <th>Open_Delta</th>\n",
       "      <th>High_Delta</th>\n",
       "      <th>Low_Delta</th>\n",
       "      <th>Close_Delta</th>\n",
       "      <th>New_day</th>\n",
       "      <th>New_week</th>\n",
       "      <th>Y_High_Bid</th>\n",
       "      <th>Y_Low_Ask</th>\n",
       "    </tr>\n",
       "  </thead>\n",
       "  <tbody>\n",
       "    <tr>\n",
       "      <th>count</th>\n",
       "      <td>354694.000000</td>\n",
       "      <td>354694.000000</td>\n",
       "      <td>354694.000000</td>\n",
       "      <td>354694.000000</td>\n",
       "      <td>354694.000000</td>\n",
       "      <td>354694.000000</td>\n",
       "      <td>354694.000000</td>\n",
       "      <td>354694.000000</td>\n",
       "      <td>354694.000000</td>\n",
       "      <td>354694.000000</td>\n",
       "      <td>354694.000000</td>\n",
       "      <td>354694.000000</td>\n",
       "      <td>354694.000000</td>\n",
       "      <td>354694.000000</td>\n",
       "      <td>354694.000000</td>\n",
       "      <td>3.546940e+05</td>\n",
       "      <td>354694.000000</td>\n",
       "      <td>354694.000000</td>\n",
       "      <td>354694.000000</td>\n",
       "      <td>354694.000000</td>\n",
       "    </tr>\n",
       "    <tr>\n",
       "      <th>mean</th>\n",
       "      <td>1.801307</td>\n",
       "      <td>1.801587</td>\n",
       "      <td>1.801030</td>\n",
       "      <td>1.801308</td>\n",
       "      <td>0.013636</td>\n",
       "      <td>1.801681</td>\n",
       "      <td>1.801959</td>\n",
       "      <td>1.801403</td>\n",
       "      <td>1.801681</td>\n",
       "      <td>0.013593</td>\n",
       "      <td>0.629471</td>\n",
       "      <td>0.003893</td>\n",
       "      <td>0.912002</td>\n",
       "      <td>0.912279</td>\n",
       "      <td>0.912270</td>\n",
       "      <td>9.119296e-01</td>\n",
       "      <td>0.000727</td>\n",
       "      <td>0.000147</td>\n",
       "      <td>1.801587</td>\n",
       "      <td>1.801403</td>\n",
       "    </tr>\n",
       "    <tr>\n",
       "      <th>std</th>\n",
       "      <td>0.091688</td>\n",
       "      <td>0.091719</td>\n",
       "      <td>0.091654</td>\n",
       "      <td>0.091687</td>\n",
       "      <td>0.012004</td>\n",
       "      <td>0.091689</td>\n",
       "      <td>0.091719</td>\n",
       "      <td>0.091655</td>\n",
       "      <td>0.091689</td>\n",
       "      <td>0.011920</td>\n",
       "      <td>0.004936</td>\n",
       "      <td>0.006651</td>\n",
       "      <td>0.018467</td>\n",
       "      <td>0.017149</td>\n",
       "      <td>0.017005</td>\n",
       "      <td>1.719723e-02</td>\n",
       "      <td>0.026960</td>\n",
       "      <td>0.012107</td>\n",
       "      <td>0.091719</td>\n",
       "      <td>0.091655</td>\n",
       "    </tr>\n",
       "    <tr>\n",
       "      <th>min</th>\n",
       "      <td>1.614858</td>\n",
       "      <td>1.615848</td>\n",
       "      <td>1.614710</td>\n",
       "      <td>1.614858</td>\n",
       "      <td>0.000000</td>\n",
       "      <td>1.615252</td>\n",
       "      <td>1.616172</td>\n",
       "      <td>1.615092</td>\n",
       "      <td>1.615245</td>\n",
       "      <td>0.000000</td>\n",
       "      <td>0.000000</td>\n",
       "      <td>0.000000</td>\n",
       "      <td>0.484534</td>\n",
       "      <td>0.285714</td>\n",
       "      <td>0.271547</td>\n",
       "      <td>-2.453763e-14</td>\n",
       "      <td>0.000000</td>\n",
       "      <td>0.000000</td>\n",
       "      <td>1.615848</td>\n",
       "      <td>1.615092</td>\n",
       "    </tr>\n",
       "    <tr>\n",
       "      <th>25%</th>\n",
       "      <td>1.734037</td>\n",
       "      <td>1.734294</td>\n",
       "      <td>1.733790</td>\n",
       "      <td>1.734034</td>\n",
       "      <td>0.005797</td>\n",
       "      <td>1.734402</td>\n",
       "      <td>1.734662</td>\n",
       "      <td>1.734153</td>\n",
       "      <td>1.734402</td>\n",
       "      <td>0.005797</td>\n",
       "      <td>0.628112</td>\n",
       "      <td>0.000783</td>\n",
       "      <td>0.902479</td>\n",
       "      <td>0.902479</td>\n",
       "      <td>0.902479</td>\n",
       "      <td>9.024794e-01</td>\n",
       "      <td>0.000000</td>\n",
       "      <td>0.000000</td>\n",
       "      <td>1.734294</td>\n",
       "      <td>1.734153</td>\n",
       "    </tr>\n",
       "    <tr>\n",
       "      <th>50%</th>\n",
       "      <td>1.804496</td>\n",
       "      <td>1.804728</td>\n",
       "      <td>1.804248</td>\n",
       "      <td>1.804492</td>\n",
       "      <td>0.010599</td>\n",
       "      <td>1.804842</td>\n",
       "      <td>1.805075</td>\n",
       "      <td>1.804595</td>\n",
       "      <td>1.804843</td>\n",
       "      <td>0.010555</td>\n",
       "      <td>0.629500</td>\n",
       "      <td>0.002166</td>\n",
       "      <td>0.913577</td>\n",
       "      <td>0.914286</td>\n",
       "      <td>0.914050</td>\n",
       "      <td>9.133412e-01</td>\n",
       "      <td>0.000000</td>\n",
       "      <td>0.000000</td>\n",
       "      <td>1.804728</td>\n",
       "      <td>1.804595</td>\n",
       "    </tr>\n",
       "    <tr>\n",
       "      <th>75%</th>\n",
       "      <td>1.855088</td>\n",
       "      <td>1.855348</td>\n",
       "      <td>1.854847</td>\n",
       "      <td>1.855086</td>\n",
       "      <td>0.017857</td>\n",
       "      <td>1.855442</td>\n",
       "      <td>1.855702</td>\n",
       "      <td>1.855202</td>\n",
       "      <td>1.855442</td>\n",
       "      <td>0.017790</td>\n",
       "      <td>0.630837</td>\n",
       "      <td>0.004939</td>\n",
       "      <td>0.923022</td>\n",
       "      <td>0.923022</td>\n",
       "      <td>0.923022</td>\n",
       "      <td>9.227863e-01</td>\n",
       "      <td>0.000000</td>\n",
       "      <td>0.000000</td>\n",
       "      <td>1.855348</td>\n",
       "      <td>1.855202</td>\n",
       "    </tr>\n",
       "    <tr>\n",
       "      <th>max</th>\n",
       "      <td>2.069368</td>\n",
       "      <td>2.070358</td>\n",
       "      <td>2.066518</td>\n",
       "      <td>2.069358</td>\n",
       "      <td>1.000000</td>\n",
       "      <td>2.069812</td>\n",
       "      <td>2.070778</td>\n",
       "      <td>2.067052</td>\n",
       "      <td>2.069802</td>\n",
       "      <td>0.579609</td>\n",
       "      <td>1.000000</td>\n",
       "      <td>1.000000</td>\n",
       "      <td>0.999056</td>\n",
       "      <td>1.000000</td>\n",
       "      <td>0.999764</td>\n",
       "      <td>9.990555e-01</td>\n",
       "      <td>1.000000</td>\n",
       "      <td>1.000000</td>\n",
       "      <td>2.070358</td>\n",
       "      <td>2.067052</td>\n",
       "    </tr>\n",
       "  </tbody>\n",
       "</table>\n",
       "</div>"
      ],
      "text/plain": [
       "            Open_Bid       High_Bid        Low_Bid      Close_Bid  \\\n",
       "count  354694.000000  354694.000000  354694.000000  354694.000000   \n",
       "mean        1.801307       1.801587       1.801030       1.801308   \n",
       "std         0.091688       0.091719       0.091654       0.091687   \n",
       "min         1.614858       1.615848       1.614710       1.614858   \n",
       "25%         1.734037       1.734294       1.733790       1.734034   \n",
       "50%         1.804496       1.804728       1.804248       1.804492   \n",
       "75%         1.855088       1.855348       1.854847       1.855086   \n",
       "max         2.069368       2.070358       2.066518       2.069358   \n",
       "\n",
       "          Volume_Bid       Open_Ask       High_Ask        Low_Ask  \\\n",
       "count  354694.000000  354694.000000  354694.000000  354694.000000   \n",
       "mean        0.013636       1.801681       1.801959       1.801403   \n",
       "std         0.012004       0.091689       0.091719       0.091655   \n",
       "min         0.000000       1.615252       1.616172       1.615092   \n",
       "25%         0.005797       1.734402       1.734662       1.734153   \n",
       "50%         0.010599       1.804842       1.805075       1.804595   \n",
       "75%         0.017857       1.855442       1.855702       1.855202   \n",
       "max         1.000000       2.069812       2.070778       2.067052   \n",
       "\n",
       "           Close_Ask     Volume_Ask   Volume_Delta  Volume_Delta_abs  \\\n",
       "count  354694.000000  354694.000000  354694.000000     354694.000000   \n",
       "mean        1.801681       0.013593       0.629471          0.003893   \n",
       "std         0.091689       0.011920       0.004936          0.006651   \n",
       "min         1.615245       0.000000       0.000000          0.000000   \n",
       "25%         1.734402       0.005797       0.628112          0.000783   \n",
       "50%         1.804843       0.010555       0.629500          0.002166   \n",
       "75%         1.855442       0.017790       0.630837          0.004939   \n",
       "max         2.069802       0.579609       1.000000          1.000000   \n",
       "\n",
       "          Open_Delta     High_Delta      Low_Delta   Close_Delta  \\\n",
       "count  354694.000000  354694.000000  354694.000000  3.546940e+05   \n",
       "mean        0.912002       0.912279       0.912270  9.119296e-01   \n",
       "std         0.018467       0.017149       0.017005  1.719723e-02   \n",
       "min         0.484534       0.285714       0.271547 -2.453763e-14   \n",
       "25%         0.902479       0.902479       0.902479  9.024794e-01   \n",
       "50%         0.913577       0.914286       0.914050  9.133412e-01   \n",
       "75%         0.923022       0.923022       0.923022  9.227863e-01   \n",
       "max         0.999056       1.000000       0.999764  9.990555e-01   \n",
       "\n",
       "             New_day       New_week     Y_High_Bid      Y_Low_Ask  \n",
       "count  354694.000000  354694.000000  354694.000000  354694.000000  \n",
       "mean        0.000727       0.000147       1.801587       1.801403  \n",
       "std         0.026960       0.012107       0.091719       0.091655  \n",
       "min         0.000000       0.000000       1.615848       1.615092  \n",
       "25%         0.000000       0.000000       1.734294       1.734153  \n",
       "50%         0.000000       0.000000       1.804728       1.804595  \n",
       "75%         0.000000       0.000000       1.855348       1.855202  \n",
       "max         1.000000       1.000000       2.070358       2.067052  "
      ]
     },
     "execution_count": 21,
     "metadata": {},
     "output_type": "execute_result"
    }
   ],
   "source": [
    "data.describe()"
   ]
  },
  {
   "cell_type": "code",
   "execution_count": 15,
   "metadata": {},
   "outputs": [
    {
     "data": {
      "text/html": [
       "<div>\n",
       "<style scoped>\n",
       "    .dataframe tbody tr th:only-of-type {\n",
       "        vertical-align: middle;\n",
       "    }\n",
       "\n",
       "    .dataframe tbody tr th {\n",
       "        vertical-align: top;\n",
       "    }\n",
       "\n",
       "    .dataframe thead th {\n",
       "        text-align: right;\n",
       "    }\n",
       "</style>\n",
       "<table border=\"1\" class=\"dataframe\">\n",
       "  <thead>\n",
       "    <tr style=\"text-align: right;\">\n",
       "      <th></th>\n",
       "      <th>Open_Bid</th>\n",
       "      <th>High_Bid</th>\n",
       "      <th>Low_Bid</th>\n",
       "      <th>Close_Bid</th>\n",
       "      <th>Volume_Bid</th>\n",
       "      <th>Open_Ask</th>\n",
       "      <th>High_Ask</th>\n",
       "      <th>Low_Ask</th>\n",
       "      <th>Close_Ask</th>\n",
       "      <th>Volume_Ask</th>\n",
       "      <th>Volume_Delta</th>\n",
       "      <th>Volume_Delta_abs</th>\n",
       "      <th>Open_Delta</th>\n",
       "      <th>High_Delta</th>\n",
       "      <th>Low_Delta</th>\n",
       "      <th>Close_Delta</th>\n",
       "      <th>New_day</th>\n",
       "      <th>New_week</th>\n",
       "      <th>Y_High_Bid</th>\n",
       "      <th>Y_Low_Ask</th>\n",
       "    </tr>\n",
       "  </thead>\n",
       "  <tbody>\n",
       "    <tr>\n",
       "      <th>count</th>\n",
       "      <td>354694.000000</td>\n",
       "      <td>354694.000000</td>\n",
       "      <td>354694.000000</td>\n",
       "      <td>354694.000000</td>\n",
       "      <td>354694.000000</td>\n",
       "      <td>354694.000000</td>\n",
       "      <td>354694.000000</td>\n",
       "      <td>354694.000000</td>\n",
       "      <td>354694.000000</td>\n",
       "      <td>354694.000000</td>\n",
       "      <td>354694.000000</td>\n",
       "      <td>354694.000000</td>\n",
       "      <td>354694.000000</td>\n",
       "      <td>354694.000000</td>\n",
       "      <td>354694.000000</td>\n",
       "      <td>3.546940e+05</td>\n",
       "      <td>354694.000000</td>\n",
       "      <td>354694.000000</td>\n",
       "      <td>354694.000000</td>\n",
       "      <td>354694.000000</td>\n",
       "    </tr>\n",
       "    <tr>\n",
       "      <th>mean</th>\n",
       "      <td>1.801307</td>\n",
       "      <td>1.801587</td>\n",
       "      <td>1.801030</td>\n",
       "      <td>1.801308</td>\n",
       "      <td>0.013636</td>\n",
       "      <td>1.801681</td>\n",
       "      <td>1.801959</td>\n",
       "      <td>1.801403</td>\n",
       "      <td>1.801681</td>\n",
       "      <td>0.013593</td>\n",
       "      <td>0.629471</td>\n",
       "      <td>0.003893</td>\n",
       "      <td>0.912002</td>\n",
       "      <td>0.912279</td>\n",
       "      <td>0.912270</td>\n",
       "      <td>9.119296e-01</td>\n",
       "      <td>0.000727</td>\n",
       "      <td>0.000147</td>\n",
       "      <td>1.801587</td>\n",
       "      <td>1.801403</td>\n",
       "    </tr>\n",
       "    <tr>\n",
       "      <th>std</th>\n",
       "      <td>0.091688</td>\n",
       "      <td>0.091719</td>\n",
       "      <td>0.091654</td>\n",
       "      <td>0.091687</td>\n",
       "      <td>0.012004</td>\n",
       "      <td>0.091689</td>\n",
       "      <td>0.091719</td>\n",
       "      <td>0.091655</td>\n",
       "      <td>0.091689</td>\n",
       "      <td>0.011920</td>\n",
       "      <td>0.004936</td>\n",
       "      <td>0.006651</td>\n",
       "      <td>0.018467</td>\n",
       "      <td>0.017149</td>\n",
       "      <td>0.017005</td>\n",
       "      <td>1.719723e-02</td>\n",
       "      <td>0.026960</td>\n",
       "      <td>0.012107</td>\n",
       "      <td>0.091719</td>\n",
       "      <td>0.091655</td>\n",
       "    </tr>\n",
       "    <tr>\n",
       "      <th>min</th>\n",
       "      <td>1.614858</td>\n",
       "      <td>1.615848</td>\n",
       "      <td>1.614710</td>\n",
       "      <td>1.614858</td>\n",
       "      <td>0.000000</td>\n",
       "      <td>1.615252</td>\n",
       "      <td>1.616172</td>\n",
       "      <td>1.615092</td>\n",
       "      <td>1.615245</td>\n",
       "      <td>0.000000</td>\n",
       "      <td>0.000000</td>\n",
       "      <td>0.000000</td>\n",
       "      <td>0.484534</td>\n",
       "      <td>0.285714</td>\n",
       "      <td>0.271547</td>\n",
       "      <td>-2.453763e-14</td>\n",
       "      <td>0.000000</td>\n",
       "      <td>0.000000</td>\n",
       "      <td>1.615848</td>\n",
       "      <td>1.615092</td>\n",
       "    </tr>\n",
       "    <tr>\n",
       "      <th>25%</th>\n",
       "      <td>1.734037</td>\n",
       "      <td>1.734294</td>\n",
       "      <td>1.733790</td>\n",
       "      <td>1.734034</td>\n",
       "      <td>0.005797</td>\n",
       "      <td>1.734402</td>\n",
       "      <td>1.734662</td>\n",
       "      <td>1.734153</td>\n",
       "      <td>1.734402</td>\n",
       "      <td>0.005797</td>\n",
       "      <td>0.628112</td>\n",
       "      <td>0.000783</td>\n",
       "      <td>0.902479</td>\n",
       "      <td>0.902479</td>\n",
       "      <td>0.902479</td>\n",
       "      <td>9.024794e-01</td>\n",
       "      <td>0.000000</td>\n",
       "      <td>0.000000</td>\n",
       "      <td>1.734294</td>\n",
       "      <td>1.734153</td>\n",
       "    </tr>\n",
       "    <tr>\n",
       "      <th>50%</th>\n",
       "      <td>1.804496</td>\n",
       "      <td>1.804728</td>\n",
       "      <td>1.804248</td>\n",
       "      <td>1.804492</td>\n",
       "      <td>0.010599</td>\n",
       "      <td>1.804842</td>\n",
       "      <td>1.805075</td>\n",
       "      <td>1.804595</td>\n",
       "      <td>1.804843</td>\n",
       "      <td>0.010555</td>\n",
       "      <td>0.629500</td>\n",
       "      <td>0.002166</td>\n",
       "      <td>0.913577</td>\n",
       "      <td>0.914286</td>\n",
       "      <td>0.914050</td>\n",
       "      <td>9.133412e-01</td>\n",
       "      <td>0.000000</td>\n",
       "      <td>0.000000</td>\n",
       "      <td>1.804728</td>\n",
       "      <td>1.804595</td>\n",
       "    </tr>\n",
       "    <tr>\n",
       "      <th>75%</th>\n",
       "      <td>1.855088</td>\n",
       "      <td>1.855348</td>\n",
       "      <td>1.854847</td>\n",
       "      <td>1.855086</td>\n",
       "      <td>0.017857</td>\n",
       "      <td>1.855442</td>\n",
       "      <td>1.855702</td>\n",
       "      <td>1.855202</td>\n",
       "      <td>1.855442</td>\n",
       "      <td>0.017790</td>\n",
       "      <td>0.630837</td>\n",
       "      <td>0.004939</td>\n",
       "      <td>0.923022</td>\n",
       "      <td>0.923022</td>\n",
       "      <td>0.923022</td>\n",
       "      <td>9.227863e-01</td>\n",
       "      <td>0.000000</td>\n",
       "      <td>0.000000</td>\n",
       "      <td>1.855348</td>\n",
       "      <td>1.855202</td>\n",
       "    </tr>\n",
       "    <tr>\n",
       "      <th>max</th>\n",
       "      <td>2.069368</td>\n",
       "      <td>2.070358</td>\n",
       "      <td>2.066518</td>\n",
       "      <td>2.069358</td>\n",
       "      <td>1.000000</td>\n",
       "      <td>2.069812</td>\n",
       "      <td>2.070778</td>\n",
       "      <td>2.067052</td>\n",
       "      <td>2.069802</td>\n",
       "      <td>0.579609</td>\n",
       "      <td>1.000000</td>\n",
       "      <td>1.000000</td>\n",
       "      <td>0.999056</td>\n",
       "      <td>1.000000</td>\n",
       "      <td>0.999764</td>\n",
       "      <td>9.990555e-01</td>\n",
       "      <td>1.000000</td>\n",
       "      <td>1.000000</td>\n",
       "      <td>2.070358</td>\n",
       "      <td>2.067052</td>\n",
       "    </tr>\n",
       "  </tbody>\n",
       "</table>\n",
       "</div>"
      ],
      "text/plain": [
       "            Open_Bid       High_Bid        Low_Bid      Close_Bid  \\\n",
       "count  354694.000000  354694.000000  354694.000000  354694.000000   \n",
       "mean        1.801307       1.801587       1.801030       1.801308   \n",
       "std         0.091688       0.091719       0.091654       0.091687   \n",
       "min         1.614858       1.615848       1.614710       1.614858   \n",
       "25%         1.734037       1.734294       1.733790       1.734034   \n",
       "50%         1.804496       1.804728       1.804248       1.804492   \n",
       "75%         1.855088       1.855348       1.854847       1.855086   \n",
       "max         2.069368       2.070358       2.066518       2.069358   \n",
       "\n",
       "          Volume_Bid       Open_Ask       High_Ask        Low_Ask  \\\n",
       "count  354694.000000  354694.000000  354694.000000  354694.000000   \n",
       "mean        0.013636       1.801681       1.801959       1.801403   \n",
       "std         0.012004       0.091689       0.091719       0.091655   \n",
       "min         0.000000       1.615252       1.616172       1.615092   \n",
       "25%         0.005797       1.734402       1.734662       1.734153   \n",
       "50%         0.010599       1.804842       1.805075       1.804595   \n",
       "75%         0.017857       1.855442       1.855702       1.855202   \n",
       "max         1.000000       2.069812       2.070778       2.067052   \n",
       "\n",
       "           Close_Ask     Volume_Ask   Volume_Delta  Volume_Delta_abs  \\\n",
       "count  354694.000000  354694.000000  354694.000000     354694.000000   \n",
       "mean        1.801681       0.013593       0.629471          0.003893   \n",
       "std         0.091689       0.011920       0.004936          0.006651   \n",
       "min         1.615245       0.000000       0.000000          0.000000   \n",
       "25%         1.734402       0.005797       0.628112          0.000783   \n",
       "50%         1.804843       0.010555       0.629500          0.002166   \n",
       "75%         1.855442       0.017790       0.630837          0.004939   \n",
       "max         2.069802       0.579609       1.000000          1.000000   \n",
       "\n",
       "          Open_Delta     High_Delta      Low_Delta   Close_Delta  \\\n",
       "count  354694.000000  354694.000000  354694.000000  3.546940e+05   \n",
       "mean        0.912002       0.912279       0.912270  9.119296e-01   \n",
       "std         0.018467       0.017149       0.017005  1.719723e-02   \n",
       "min         0.484534       0.285714       0.271547 -2.453763e-14   \n",
       "25%         0.902479       0.902479       0.902479  9.024794e-01   \n",
       "50%         0.913577       0.914286       0.914050  9.133412e-01   \n",
       "75%         0.923022       0.923022       0.923022  9.227863e-01   \n",
       "max         0.999056       1.000000       0.999764  9.990555e-01   \n",
       "\n",
       "             New_day       New_week     Y_High_Bid      Y_Low_Ask  \n",
       "count  354694.000000  354694.000000  354694.000000  354694.000000  \n",
       "mean        0.000727       0.000147       1.801587       1.801403  \n",
       "std         0.026960       0.012107       0.091719       0.091655  \n",
       "min         0.000000       0.000000       1.615848       1.615092  \n",
       "25%         0.000000       0.000000       1.734294       1.734153  \n",
       "50%         0.000000       0.000000       1.804728       1.804595  \n",
       "75%         0.000000       0.000000       1.855348       1.855202  \n",
       "max         1.000000       1.000000       2.070358       2.067052  "
      ]
     },
     "execution_count": 15,
     "metadata": {},
     "output_type": "execute_result"
    }
   ],
   "source": []
  },
  {
   "attachments": {
    "9a8db982-8fcb-426d-b321-dc15d076e361.png": {
     "image/png": "[encoded data removed]"
    }
   },
   "cell_type": "markdown",
   "metadata": {},
   "source": [
    "_____________________________![image.png](attachment:9a8db982-8fcb-426d-b321-dc15d076e361.png)"
   ]
  },
  {
   "cell_type": "code",
   "execution_count": 23,
   "metadata": {},
   "outputs": [
    {
     "data": {
      "text/plain": [
       "(354694, 20)"
      ]
     },
     "execution_count": 23,
     "metadata": {},
     "output_type": "execute_result"
    }
   ],
   "source": [
    "data.shape"
   ]
  },
  {
   "cell_type": "code",
   "execution_count": 16,
   "metadata": {},
   "outputs": [
    {
     "data": {
      "text/plain": [
       "(354694, 20)"
      ]
     },
     "execution_count": 16,
     "metadata": {},
     "output_type": "execute_result"
    }
   ],
   "source": []
  },
  {
   "cell_type": "markdown",
   "metadata": {},
   "source": [
    "#### Now just press 'CTRL' and 'ENTER' keys on the next cell."
   ]
  },
  {
   "cell_type": "code",
   "execution_count": 25,
   "metadata": {},
   "outputs": [
    {
     "data": {
      "text/plain": [
       "<Figure size 1200x500 with 0 Axes>"
      ]
     },
     "metadata": {},
     "output_type": "display_data"
    },
    {
     "data": {
      "image/png": "[encoded data removed]",
      "text/plain": [
       "<Figure size 1611.38x800 with 1 Axes>"
      ]
     },
     "metadata": {},
     "output_type": "display_data"
    }
   ],
   "source": [
    "fig = plt.figure(figsize=(12, 5))\n",
    "plt.rc('axes', titlesize= 30 ) \n",
    "sns.set_style('whitegrid')\n",
    "sns.set_context(rc={'legend.fontsize': 20.0}) \n",
    "\n",
    "sns.displot( \n",
    "            data[['Open_Delta', 'Close_Delta']],\n",
    "            height=8,\n",
    "            aspect=1.7,\n",
    "            kde=True,\n",
    "            element=\"step\",\n",
    "            bins=100,\n",
    "            alpha=0.03,          \n",
    "                        \n",
    ")\n",
    "\n",
    "plt.title('Open_Delta & Close_Delta Price Distribution')\n",
    "plt.xlabel('Price Delta', size= 20)\n",
    "plt.ylabel('Numbers', size= 20)\n",
    "plt.show();"
   ]
  },
  {
   "cell_type": "markdown",
   "metadata": {},
   "source": [
    "<html> <h3 style=\"font-style:italic; color:blue;\"> Date Transformation </h3> </html>"
   ]
  },
  {
   "cell_type": "code",
   "execution_count": 19,
   "metadata": {},
   "outputs": [],
   "source": [
    "# We will predict the Highest and Lowest prices DURING the next 5 minutes. \n",
    "\n",
    "# To do this in the data output (vector of answers), we shift prices sequentially to 5 minutes up, \n",
    "# and find max and min prices during these 5 minutes\n",
    "# Then you need to delete the 5 last rows since there are no prices for the next 5 minutes. \n",
    "# Therefore, we will create an array of answers \"data_ay\" with the Highest and Lowest prices shifted sequentially to 5 rows up."
   ]
  },
  {
   "attachments": {
    "e304ed0e-c9b9-4162-86a3-a6d8107cbc36.png": {
     "image/png": "[encoded data removed]"
    }
   },
   "cell_type": "markdown",
   "metadata": {},
   "source": [
    "_________________________![image.png](attachment:e304ed0e-c9b9-4162-86a3-a6d8107cbc36.png)"
   ]
  },
  {
   "cell_type": "code",
   "execution_count": 26,
   "metadata": {},
   "outputs": [
    {
     "data": {
      "text/plain": [
       "354694"
      ]
     },
     "execution_count": 26,
     "metadata": {},
     "output_type": "execute_result"
    }
   ],
   "source": [
    "n=data.shape[0]\n",
    "n"
   ]
  },
  {
   "cell_type": "code",
   "execution_count": 20,
   "metadata": {},
   "outputs": [
    {
     "data": {
      "text/plain": [
       "354694"
      ]
     },
     "execution_count": 20,
     "metadata": {},
     "output_type": "execute_result"
    }
   ],
   "source": []
  },
  {
   "attachments": {
    "feab4059-209e-4467-9622-8e2eafdb304b.png": {
     "image/png": "[encoded data removed]"
    }
   },
   "cell_type": "markdown",
   "metadata": {},
   "source": [
    "_________________________![image.png](attachment:feab4059-209e-4467-9622-8e2eafdb304b.png)"
   ]
  },
  {
   "cell_type": "code",
   "execution_count": 27,
   "metadata": {},
   "outputs": [
    {
     "data": {
      "text/plain": [
       "20"
      ]
     },
     "execution_count": 27,
     "metadata": {},
     "output_type": "execute_result"
    }
   ],
   "source": [
    "p=data.shape[1]\n",
    "p"
   ]
  },
  {
   "cell_type": "code",
   "execution_count": 21,
   "metadata": {},
   "outputs": [
    {
     "data": {
      "text/plain": [
       "20"
      ]
     },
     "execution_count": 21,
     "metadata": {},
     "output_type": "execute_result"
    }
   ],
   "source": []
  },
  {
   "attachments": {
    "6761bc27-2115-436c-b09f-07f73ed53e67.png": {
     "image/png": "[encoded data removed]"
    }
   },
   "cell_type": "markdown",
   "metadata": {},
   "source": [
    "__________________![image.png](attachment:6761bc27-2115-436c-b09f-07f73ed53e67.png)"
   ]
  },
  {
   "cell_type": "code",
   "execution_count": 28,
   "metadata": {},
   "outputs": [],
   "source": [
    "data_ax = data.drop(['Y_High_Bid', 'Y_Low_Ask'],axis=1)\n"
   ]
  },
  {
   "cell_type": "code",
   "execution_count": null,
   "metadata": {},
   "outputs": [],
   "source": []
  },
  {
   "attachments": {
    "6e70d75b-dd41-4216-b55c-b9f5d3e0d0ee.png": {
     "image/png": "[encoded data removed]"
    }
   },
   "cell_type": "markdown",
   "metadata": {},
   "source": [
    "________________![image.png](attachment:6e70d75b-dd41-4216-b55c-b9f5d3e0d0ee.png)"
   ]
  },
  {
   "cell_type": "code",
   "execution_count": 33,
   "metadata": {},
   "outputs": [
    {
     "name": "stdout",
     "output_type": "stream",
     "text": [
      "<class 'pandas.core.frame.DataFrame'>\n",
      "RangeIndex: 354694 entries, 0 to 354693\n",
      "Data columns (total 18 columns):\n",
      " #   Column            Non-Null Count   Dtype  \n",
      "---  ------            --------------   -----  \n",
      " 0   Open_Bid          354694 non-null  float32\n",
      " 1   High_Bid          354694 non-null  float32\n",
      " 2   Low_Bid           354694 non-null  float32\n",
      " 3   Close_Bid         354694 non-null  float32\n",
      " 4   Volume_Bid        354694 non-null  float32\n",
      " 5   Open_Ask          354694 non-null  float32\n",
      " 6   High_Ask          354694 non-null  float32\n",
      " 7   Low_Ask           354694 non-null  float32\n",
      " 8   Close_Ask         354694 non-null  float32\n",
      " 9   Volume_Ask        354694 non-null  float32\n",
      " 10  Volume_Delta      354694 non-null  float32\n",
      " 11  Volume_Delta_abs  354694 non-null  float32\n",
      " 12  Open_Delta        354694 non-null  float32\n",
      " 13  High_Delta        354694 non-null  float32\n",
      " 14  Low_Delta         354694 non-null  float32\n",
      " 15  Close_Delta       354694 non-null  float32\n",
      " 16  New_day           354694 non-null  int8   \n",
      " 17  New_week          354694 non-null  int8   \n",
      "dtypes: float32(16), int8(2)\n",
      "memory usage: 22.3 MB\n"
     ]
    }
   ],
   "source": [
    "data_ax.info()"
   ]
  },
  {
   "cell_type": "code",
   "execution_count": 27,
   "metadata": {},
   "outputs": [
    {
     "name": "stdout",
     "output_type": "stream",
     "text": [
      "<class 'pandas.core.frame.DataFrame'>\n",
      "RangeIndex: 354694 entries, 0 to 354693\n",
      "Data columns (total 18 columns):\n",
      " #   Column            Non-Null Count   Dtype  \n",
      "---  ------            --------------   -----  \n",
      " 0   Open_Bid          354694 non-null  float32\n",
      " 1   High_Bid          354694 non-null  float32\n",
      " 2   Low_Bid           354694 non-null  float32\n",
      " 3   Close_Bid         354694 non-null  float32\n",
      " 4   Volume_Bid        354694 non-null  float32\n",
      " 5   Open_Ask          354694 non-null  float32\n",
      " 6   High_Ask          354694 non-null  float32\n",
      " 7   Low_Ask           354694 non-null  float32\n",
      " 8   Close_Ask         354694 non-null  float32\n",
      " 9   Volume_Ask        354694 non-null  float32\n",
      " 10  Volume_Delta      354694 non-null  float32\n",
      " 11  Volume_Delta_abs  354694 non-null  float32\n",
      " 12  Open_Delta        354694 non-null  float32\n",
      " 13  High_Delta        354694 non-null  float32\n",
      " 14  Low_Delta         354694 non-null  float32\n",
      " 15  Close_Delta       354694 non-null  float32\n",
      " 16  New_day           354694 non-null  int8   \n",
      " 17  New_week          354694 non-null  int8   \n",
      "dtypes: float32(16), int8(2)\n",
      "memory usage: 22.3 MB\n"
     ]
    }
   ],
   "source": []
  },
  {
   "attachments": {
    "f4e8e693-899b-4e74-bab9-8fd0ac8be78c.png": {
     "image/png": "[encoded data removed]"
    }
   },
   "cell_type": "markdown",
   "metadata": {},
   "source": [
    "__________________________![image.png](attachment:f4e8e693-899b-4e74-bab9-8fd0ac8be78c.png)"
   ]
  },
  {
   "cell_type": "code",
   "execution_count": 35,
   "metadata": {},
   "outputs": [
    {
     "data": {
      "text/plain": [
       "(354694, 18)"
      ]
     },
     "execution_count": 35,
     "metadata": {},
     "output_type": "execute_result"
    }
   ],
   "source": [
    "data_ax.shape"
   ]
  },
  {
   "cell_type": "code",
   "execution_count": 29,
   "metadata": {},
   "outputs": [
    {
     "data": {
      "text/plain": [
       "(354694, 18)"
      ]
     },
     "execution_count": 29,
     "metadata": {},
     "output_type": "execute_result"
    }
   ],
   "source": []
  },
  {
   "attachments": {
    "585dd4f1-9c19-4ebf-b27a-777e9e310457.png": {
     "image/png": "[encoded data removed]"
    }
   },
   "cell_type": "markdown",
   "metadata": {},
   "source": [
    "__________________________![image.png](attachment:585dd4f1-9c19-4ebf-b27a-777e9e310457.png)"
   ]
  },
  {
   "cell_type": "code",
   "execution_count": 37,
   "metadata": {},
   "outputs": [],
   "source": [
    "data_ay = data[['Y_High_Bid','Y_Low_Ask']]"
   ]
  },
  {
   "cell_type": "code",
   "execution_count": null,
   "metadata": {},
   "outputs": [],
   "source": []
  },
  {
   "attachments": {
    "71ad9fd4-6414-454b-9cb1-0e1fbb82c4c9.png": {
     "image/png": "[encoded data removed]"
    }
   },
   "cell_type": "markdown",
   "metadata": {},
   "source": [
    "________________![image.png](attachment:71ad9fd4-6414-454b-9cb1-0e1fbb82c4c9.png)"
   ]
  },
  {
   "cell_type": "code",
   "execution_count": 40,
   "metadata": {},
   "outputs": [
    {
     "data": {
      "text/plain": [
       "(354694, 2)"
      ]
     },
     "execution_count": 40,
     "metadata": {},
     "output_type": "execute_result"
    }
   ],
   "source": [
    "data_ay.shape"
   ]
  },
  {
   "cell_type": "code",
   "execution_count": 31,
   "metadata": {},
   "outputs": [
    {
     "data": {
      "text/plain": [
       "(354694, 2)"
      ]
     },
     "execution_count": 31,
     "metadata": {},
     "output_type": "execute_result"
    }
   ],
   "source": []
  },
  {
   "attachments": {
    "2a3e72cf-e549-416e-b1de-8de35e46841c.png": {
     "image/png": "[encoded data removed]"
    }
   },
   "cell_type": "markdown",
   "metadata": {},
   "source": [
    "___________________![image.png](attachment:2a3e72cf-e549-416e-b1de-8de35e46841c.png)"
   ]
  },
  {
   "cell_type": "code",
   "execution_count": 42,
   "metadata": {},
   "outputs": [
    {
     "data": {
      "text/html": [
       "<div>\n",
       "<style scoped>\n",
       "    .dataframe tbody tr th:only-of-type {\n",
       "        vertical-align: middle;\n",
       "    }\n",
       "\n",
       "    .dataframe tbody tr th {\n",
       "        vertical-align: top;\n",
       "    }\n",
       "\n",
       "    .dataframe thead th {\n",
       "        text-align: right;\n",
       "    }\n",
       "</style>\n",
       "<table border=\"1\" class=\"dataframe\">\n",
       "  <thead>\n",
       "    <tr style=\"text-align: right;\">\n",
       "      <th></th>\n",
       "      <th>Y_High_Bid</th>\n",
       "      <th>Y_Low_Ask</th>\n",
       "    </tr>\n",
       "  </thead>\n",
       "  <tbody>\n",
       "    <tr>\n",
       "      <th>0</th>\n",
       "      <td>1.829628</td>\n",
       "      <td>1.829386</td>\n",
       "    </tr>\n",
       "    <tr>\n",
       "      <th>1</th>\n",
       "      <td>1.830104</td>\n",
       "      <td>1.829916</td>\n",
       "    </tr>\n",
       "    <tr>\n",
       "      <th>2</th>\n",
       "      <td>1.830604</td>\n",
       "      <td>1.830516</td>\n",
       "    </tr>\n",
       "    <tr>\n",
       "      <th>3</th>\n",
       "      <td>1.830704</td>\n",
       "      <td>1.831046</td>\n",
       "    </tr>\n",
       "    <tr>\n",
       "      <th>4</th>\n",
       "      <td>1.830674</td>\n",
       "      <td>1.830886</td>\n",
       "    </tr>\n",
       "    <tr>\n",
       "      <th>5</th>\n",
       "      <td>1.830568</td>\n",
       "      <td>1.830046</td>\n",
       "    </tr>\n",
       "  </tbody>\n",
       "</table>\n",
       "</div>"
      ],
      "text/plain": [
       "   Y_High_Bid  Y_Low_Ask\n",
       "0    1.829628   1.829386\n",
       "1    1.830104   1.829916\n",
       "2    1.830604   1.830516\n",
       "3    1.830704   1.831046\n",
       "4    1.830674   1.830886\n",
       "5    1.830568   1.830046"
      ]
     },
     "execution_count": 42,
     "metadata": {},
     "output_type": "execute_result"
    }
   ],
   "source": [
    "data_ay.head(6)"
   ]
  },
  {
   "cell_type": "code",
   "execution_count": 36,
   "metadata": {},
   "outputs": [
    {
     "data": {
      "text/html": [
       "<div>\n",
       "<style scoped>\n",
       "    .dataframe tbody tr th:only-of-type {\n",
       "        vertical-align: middle;\n",
       "    }\n",
       "\n",
       "    .dataframe tbody tr th {\n",
       "        vertical-align: top;\n",
       "    }\n",
       "\n",
       "    .dataframe thead th {\n",
       "        text-align: right;\n",
       "    }\n",
       "</style>\n",
       "<table border=\"1\" class=\"dataframe\">\n",
       "  <thead>\n",
       "    <tr style=\"text-align: right;\">\n",
       "      <th></th>\n",
       "      <th>Y_High_Bid</th>\n",
       "      <th>Y_Low_Ask</th>\n",
       "    </tr>\n",
       "  </thead>\n",
       "  <tbody>\n",
       "    <tr>\n",
       "      <th>0</th>\n",
       "      <td>1.829628</td>\n",
       "      <td>1.829386</td>\n",
       "    </tr>\n",
       "    <tr>\n",
       "      <th>1</th>\n",
       "      <td>1.830104</td>\n",
       "      <td>1.829916</td>\n",
       "    </tr>\n",
       "    <tr>\n",
       "      <th>2</th>\n",
       "      <td>1.830604</td>\n",
       "      <td>1.830516</td>\n",
       "    </tr>\n",
       "    <tr>\n",
       "      <th>3</th>\n",
       "      <td>1.830704</td>\n",
       "      <td>1.831046</td>\n",
       "    </tr>\n",
       "    <tr>\n",
       "      <th>4</th>\n",
       "      <td>1.830674</td>\n",
       "      <td>1.830886</td>\n",
       "    </tr>\n",
       "    <tr>\n",
       "      <th>5</th>\n",
       "      <td>1.830568</td>\n",
       "      <td>1.830046</td>\n",
       "    </tr>\n",
       "  </tbody>\n",
       "</table>\n",
       "</div>"
      ],
      "text/plain": [
       "   Y_High_Bid  Y_Low_Ask\n",
       "0    1.829628   1.829386\n",
       "1    1.830104   1.829916\n",
       "2    1.830604   1.830516\n",
       "3    1.830704   1.831046\n",
       "4    1.830674   1.830886\n",
       "5    1.830568   1.830046"
      ]
     },
     "execution_count": 36,
     "metadata": {},
     "output_type": "execute_result"
    }
   ],
   "source": []
  },
  {
   "attachments": {
    "37fbba51-5971-4d8d-9ed0-07d57ca94359.png": {
     "image/png": "[encoded data removed]"
    }
   },
   "cell_type": "markdown",
   "metadata": {},
   "source": [
    "_________________________![image.png](attachment:37fbba51-5971-4d8d-9ed0-07d57ca94359.png)"
   ]
  },
  {
   "cell_type": "code",
   "execution_count": 44,
   "metadata": {},
   "outputs": [
    {
     "data": {
      "text/html": [
       "<div>\n",
       "<style scoped>\n",
       "    .dataframe tbody tr th:only-of-type {\n",
       "        vertical-align: middle;\n",
       "    }\n",
       "\n",
       "    .dataframe tbody tr th {\n",
       "        vertical-align: top;\n",
       "    }\n",
       "\n",
       "    .dataframe thead th {\n",
       "        text-align: right;\n",
       "    }\n",
       "</style>\n",
       "<table border=\"1\" class=\"dataframe\">\n",
       "  <thead>\n",
       "    <tr style=\"text-align: right;\">\n",
       "      <th></th>\n",
       "      <th>Y_High_Bid</th>\n",
       "      <th>Y_Low_Ask</th>\n",
       "    </tr>\n",
       "  </thead>\n",
       "  <tbody>\n",
       "    <tr>\n",
       "      <th>354684</th>\n",
       "      <td>1.824508</td>\n",
       "      <td>1.824852</td>\n",
       "    </tr>\n",
       "    <tr>\n",
       "      <th>354685</th>\n",
       "      <td>1.824508</td>\n",
       "      <td>1.824952</td>\n",
       "    </tr>\n",
       "    <tr>\n",
       "      <th>354686</th>\n",
       "      <td>1.824478</td>\n",
       "      <td>1.824852</td>\n",
       "    </tr>\n",
       "    <tr>\n",
       "      <th>354687</th>\n",
       "      <td>1.824448</td>\n",
       "      <td>1.824852</td>\n",
       "    </tr>\n",
       "    <tr>\n",
       "      <th>354688</th>\n",
       "      <td>1.824478</td>\n",
       "      <td>1.824952</td>\n",
       "    </tr>\n",
       "    <tr>\n",
       "      <th>354689</th>\n",
       "      <td>1.824348</td>\n",
       "      <td>1.824752</td>\n",
       "    </tr>\n",
       "    <tr>\n",
       "      <th>354690</th>\n",
       "      <td>1.824148</td>\n",
       "      <td>1.824552</td>\n",
       "    </tr>\n",
       "    <tr>\n",
       "      <th>354691</th>\n",
       "      <td>1.824090</td>\n",
       "      <td>1.824252</td>\n",
       "    </tr>\n",
       "    <tr>\n",
       "      <th>354692</th>\n",
       "      <td>1.823748</td>\n",
       "      <td>1.823852</td>\n",
       "    </tr>\n",
       "    <tr>\n",
       "      <th>354693</th>\n",
       "      <td>1.823463</td>\n",
       "      <td>1.823852</td>\n",
       "    </tr>\n",
       "  </tbody>\n",
       "</table>\n",
       "</div>"
      ],
      "text/plain": [
       "        Y_High_Bid  Y_Low_Ask\n",
       "354684    1.824508   1.824852\n",
       "354685    1.824508   1.824952\n",
       "354686    1.824478   1.824852\n",
       "354687    1.824448   1.824852\n",
       "354688    1.824478   1.824952\n",
       "354689    1.824348   1.824752\n",
       "354690    1.824148   1.824552\n",
       "354691    1.824090   1.824252\n",
       "354692    1.823748   1.823852\n",
       "354693    1.823463   1.823852"
      ]
     },
     "execution_count": 44,
     "metadata": {},
     "output_type": "execute_result"
    }
   ],
   "source": [
    "data_ay.tail(10)"
   ]
  },
  {
   "cell_type": "code",
   "execution_count": 50,
   "metadata": {},
   "outputs": [
    {
     "data": {
      "text/html": [
       "<div>\n",
       "<style scoped>\n",
       "    .dataframe tbody tr th:only-of-type {\n",
       "        vertical-align: middle;\n",
       "    }\n",
       "\n",
       "    .dataframe tbody tr th {\n",
       "        vertical-align: top;\n",
       "    }\n",
       "\n",
       "    .dataframe thead th {\n",
       "        text-align: right;\n",
       "    }\n",
       "</style>\n",
       "<table border=\"1\" class=\"dataframe\">\n",
       "  <thead>\n",
       "    <tr style=\"text-align: right;\">\n",
       "      <th></th>\n",
       "      <th>Y_High_Bid</th>\n",
       "      <th>Y_Low_Ask</th>\n",
       "    </tr>\n",
       "  </thead>\n",
       "  <tbody>\n",
       "    <tr>\n",
       "      <th>354684</th>\n",
       "      <td>1.824508</td>\n",
       "      <td>1.824852</td>\n",
       "    </tr>\n",
       "    <tr>\n",
       "      <th>354685</th>\n",
       "      <td>1.824508</td>\n",
       "      <td>1.824952</td>\n",
       "    </tr>\n",
       "    <tr>\n",
       "      <th>354686</th>\n",
       "      <td>1.824478</td>\n",
       "      <td>1.824852</td>\n",
       "    </tr>\n",
       "    <tr>\n",
       "      <th>354687</th>\n",
       "      <td>1.824448</td>\n",
       "      <td>1.824852</td>\n",
       "    </tr>\n",
       "    <tr>\n",
       "      <th>354688</th>\n",
       "      <td>1.824478</td>\n",
       "      <td>1.824952</td>\n",
       "    </tr>\n",
       "    <tr>\n",
       "      <th>354689</th>\n",
       "      <td>1.824348</td>\n",
       "      <td>1.824752</td>\n",
       "    </tr>\n",
       "    <tr>\n",
       "      <th>354690</th>\n",
       "      <td>1.824148</td>\n",
       "      <td>1.824552</td>\n",
       "    </tr>\n",
       "    <tr>\n",
       "      <th>354691</th>\n",
       "      <td>1.824090</td>\n",
       "      <td>1.824252</td>\n",
       "    </tr>\n",
       "    <tr>\n",
       "      <th>354692</th>\n",
       "      <td>1.823748</td>\n",
       "      <td>1.823852</td>\n",
       "    </tr>\n",
       "    <tr>\n",
       "      <th>354693</th>\n",
       "      <td>1.823463</td>\n",
       "      <td>1.823852</td>\n",
       "    </tr>\n",
       "  </tbody>\n",
       "</table>\n",
       "</div>"
      ],
      "text/plain": [
       "        Y_High_Bid  Y_Low_Ask\n",
       "354684    1.824508   1.824852\n",
       "354685    1.824508   1.824952\n",
       "354686    1.824478   1.824852\n",
       "354687    1.824448   1.824852\n",
       "354688    1.824478   1.824952\n",
       "354689    1.824348   1.824752\n",
       "354690    1.824148   1.824552\n",
       "354691    1.824090   1.824252\n",
       "354692    1.823748   1.823852\n",
       "354693    1.823463   1.823852"
      ]
     },
     "execution_count": 50,
     "metadata": {},
     "output_type": "execute_result"
    }
   ],
   "source": []
  },
  {
   "attachments": {
    "c2336e2d-3c9f-46d7-8154-d7169e0f2b52.png": {
     "image/png": "[encoded data removed]"
    }
   },
   "cell_type": "markdown",
   "metadata": {},
   "source": [
    "______________________![image.png](attachment:c2336e2d-3c9f-46d7-8154-d7169e0f2b52.png)"
   ]
  },
  {
   "cell_type": "code",
   "execution_count": 46,
   "metadata": {},
   "outputs": [],
   "source": [
    "data_ay_ = data_ay.shift(-1)"
   ]
  },
  {
   "cell_type": "code",
   "execution_count": 52,
   "metadata": {},
   "outputs": [],
   "source": []
  },
  {
   "attachments": {
    "9f5def32-1021-4d98-9c49-426d4e61d5e9.png": {
     "image/png": "[encoded data removed]"
    }
   },
   "cell_type": "markdown",
   "metadata": {},
   "source": [
    "____________________![image.png](attachment:9f5def32-1021-4d98-9c49-426d4e61d5e9.png)"
   ]
  },
  {
   "cell_type": "code",
   "execution_count": 48,
   "metadata": {},
   "outputs": [
    {
     "data": {
      "text/html": [
       "<div>\n",
       "<style scoped>\n",
       "    .dataframe tbody tr th:only-of-type {\n",
       "        vertical-align: middle;\n",
       "    }\n",
       "\n",
       "    .dataframe tbody tr th {\n",
       "        vertical-align: top;\n",
       "    }\n",
       "\n",
       "    .dataframe thead th {\n",
       "        text-align: right;\n",
       "    }\n",
       "</style>\n",
       "<table border=\"1\" class=\"dataframe\">\n",
       "  <thead>\n",
       "    <tr style=\"text-align: right;\">\n",
       "      <th></th>\n",
       "      <th>Y_High_Bid</th>\n",
       "      <th>Y_Low_Ask</th>\n",
       "    </tr>\n",
       "  </thead>\n",
       "  <tbody>\n",
       "    <tr>\n",
       "      <th>0</th>\n",
       "      <td>1.829628</td>\n",
       "      <td>1.829386</td>\n",
       "    </tr>\n",
       "    <tr>\n",
       "      <th>1</th>\n",
       "      <td>1.830104</td>\n",
       "      <td>1.829916</td>\n",
       "    </tr>\n",
       "    <tr>\n",
       "      <th>2</th>\n",
       "      <td>1.830604</td>\n",
       "      <td>1.830516</td>\n",
       "    </tr>\n",
       "    <tr>\n",
       "      <th>3</th>\n",
       "      <td>1.830704</td>\n",
       "      <td>1.831046</td>\n",
       "    </tr>\n",
       "    <tr>\n",
       "      <th>4</th>\n",
       "      <td>1.830674</td>\n",
       "      <td>1.830886</td>\n",
       "    </tr>\n",
       "    <tr>\n",
       "      <th>5</th>\n",
       "      <td>1.830568</td>\n",
       "      <td>1.830046</td>\n",
       "    </tr>\n",
       "  </tbody>\n",
       "</table>\n",
       "</div>"
      ],
      "text/plain": [
       "   Y_High_Bid  Y_Low_Ask\n",
       "0    1.829628   1.829386\n",
       "1    1.830104   1.829916\n",
       "2    1.830604   1.830516\n",
       "3    1.830704   1.831046\n",
       "4    1.830674   1.830886\n",
       "5    1.830568   1.830046"
      ]
     },
     "execution_count": 48,
     "metadata": {},
     "output_type": "execute_result"
    }
   ],
   "source": [
    "data_ay.head(6)"
   ]
  },
  {
   "cell_type": "code",
   "execution_count": 54,
   "metadata": {},
   "outputs": [
    {
     "data": {
      "text/html": [
       "<div>\n",
       "<style scoped>\n",
       "    .dataframe tbody tr th:only-of-type {\n",
       "        vertical-align: middle;\n",
       "    }\n",
       "\n",
       "    .dataframe tbody tr th {\n",
       "        vertical-align: top;\n",
       "    }\n",
       "\n",
       "    .dataframe thead th {\n",
       "        text-align: right;\n",
       "    }\n",
       "</style>\n",
       "<table border=\"1\" class=\"dataframe\">\n",
       "  <thead>\n",
       "    <tr style=\"text-align: right;\">\n",
       "      <th></th>\n",
       "      <th>Y_High_Bid</th>\n",
       "      <th>Y_Low_Ask</th>\n",
       "    </tr>\n",
       "  </thead>\n",
       "  <tbody>\n",
       "    <tr>\n",
       "      <th>0</th>\n",
       "      <td>1.830104</td>\n",
       "      <td>1.829916</td>\n",
       "    </tr>\n",
       "    <tr>\n",
       "      <th>1</th>\n",
       "      <td>1.830604</td>\n",
       "      <td>1.830516</td>\n",
       "    </tr>\n",
       "    <tr>\n",
       "      <th>2</th>\n",
       "      <td>1.830704</td>\n",
       "      <td>1.831046</td>\n",
       "    </tr>\n",
       "    <tr>\n",
       "      <th>3</th>\n",
       "      <td>1.830674</td>\n",
       "      <td>1.830886</td>\n",
       "    </tr>\n",
       "    <tr>\n",
       "      <th>4</th>\n",
       "      <td>1.830568</td>\n",
       "      <td>1.830046</td>\n",
       "    </tr>\n",
       "    <tr>\n",
       "      <th>5</th>\n",
       "      <td>1.830244</td>\n",
       "      <td>1.830076</td>\n",
       "    </tr>\n",
       "  </tbody>\n",
       "</table>\n",
       "</div>"
      ],
      "text/plain": [
       "   Y_High_Bid  Y_Low_Ask\n",
       "0    1.830104   1.829916\n",
       "1    1.830604   1.830516\n",
       "2    1.830704   1.831046\n",
       "3    1.830674   1.830886\n",
       "4    1.830568   1.830046\n",
       "5    1.830244   1.830076"
      ]
     },
     "execution_count": 54,
     "metadata": {},
     "output_type": "execute_result"
    }
   ],
   "source": []
  },
  {
   "attachments": {
    "fc142207-1818-4a9d-aa15-b0b8d03b3018.png": {
     "image/png": "[encoded data removed]"
    }
   },
   "cell_type": "markdown",
   "metadata": {},
   "source": [
    "____________________![image.png](attachment:fc142207-1818-4a9d-aa15-b0b8d03b3018.png)"
   ]
  },
  {
   "cell_type": "code",
   "execution_count": 50,
   "metadata": {},
   "outputs": [
    {
     "data": {
      "text/html": [
       "<div>\n",
       "<style scoped>\n",
       "    .dataframe tbody tr th:only-of-type {\n",
       "        vertical-align: middle;\n",
       "    }\n",
       "\n",
       "    .dataframe tbody tr th {\n",
       "        vertical-align: top;\n",
       "    }\n",
       "\n",
       "    .dataframe thead th {\n",
       "        text-align: right;\n",
       "    }\n",
       "</style>\n",
       "<table border=\"1\" class=\"dataframe\">\n",
       "  <thead>\n",
       "    <tr style=\"text-align: right;\">\n",
       "      <th></th>\n",
       "      <th>Y_High_Bid</th>\n",
       "      <th>Y_Low_Ask</th>\n",
       "    </tr>\n",
       "  </thead>\n",
       "  <tbody>\n",
       "    <tr>\n",
       "      <th>354684</th>\n",
       "      <td>1.824508</td>\n",
       "      <td>1.824852</td>\n",
       "    </tr>\n",
       "    <tr>\n",
       "      <th>354685</th>\n",
       "      <td>1.824508</td>\n",
       "      <td>1.824952</td>\n",
       "    </tr>\n",
       "    <tr>\n",
       "      <th>354686</th>\n",
       "      <td>1.824478</td>\n",
       "      <td>1.824852</td>\n",
       "    </tr>\n",
       "    <tr>\n",
       "      <th>354687</th>\n",
       "      <td>1.824448</td>\n",
       "      <td>1.824852</td>\n",
       "    </tr>\n",
       "    <tr>\n",
       "      <th>354688</th>\n",
       "      <td>1.824478</td>\n",
       "      <td>1.824952</td>\n",
       "    </tr>\n",
       "    <tr>\n",
       "      <th>354689</th>\n",
       "      <td>1.824348</td>\n",
       "      <td>1.824752</td>\n",
       "    </tr>\n",
       "    <tr>\n",
       "      <th>354690</th>\n",
       "      <td>1.824148</td>\n",
       "      <td>1.824552</td>\n",
       "    </tr>\n",
       "    <tr>\n",
       "      <th>354691</th>\n",
       "      <td>1.824090</td>\n",
       "      <td>1.824252</td>\n",
       "    </tr>\n",
       "    <tr>\n",
       "      <th>354692</th>\n",
       "      <td>1.823748</td>\n",
       "      <td>1.823852</td>\n",
       "    </tr>\n",
       "    <tr>\n",
       "      <th>354693</th>\n",
       "      <td>1.823463</td>\n",
       "      <td>1.823852</td>\n",
       "    </tr>\n",
       "  </tbody>\n",
       "</table>\n",
       "</div>"
      ],
      "text/plain": [
       "        Y_High_Bid  Y_Low_Ask\n",
       "354684    1.824508   1.824852\n",
       "354685    1.824508   1.824952\n",
       "354686    1.824478   1.824852\n",
       "354687    1.824448   1.824852\n",
       "354688    1.824478   1.824952\n",
       "354689    1.824348   1.824752\n",
       "354690    1.824148   1.824552\n",
       "354691    1.824090   1.824252\n",
       "354692    1.823748   1.823852\n",
       "354693    1.823463   1.823852"
      ]
     },
     "execution_count": 50,
     "metadata": {},
     "output_type": "execute_result"
    }
   ],
   "source": [
    "data_ay.tail(10)"
   ]
  },
  {
   "cell_type": "code",
   "execution_count": 56,
   "metadata": {},
   "outputs": [
    {
     "data": {
      "text/html": [
       "<div>\n",
       "<style scoped>\n",
       "    .dataframe tbody tr th:only-of-type {\n",
       "        vertical-align: middle;\n",
       "    }\n",
       "\n",
       "    .dataframe tbody tr th {\n",
       "        vertical-align: top;\n",
       "    }\n",
       "\n",
       "    .dataframe thead th {\n",
       "        text-align: right;\n",
       "    }\n",
       "</style>\n",
       "<table border=\"1\" class=\"dataframe\">\n",
       "  <thead>\n",
       "    <tr style=\"text-align: right;\">\n",
       "      <th></th>\n",
       "      <th>Y_High_Bid</th>\n",
       "      <th>Y_Low_Ask</th>\n",
       "    </tr>\n",
       "  </thead>\n",
       "  <tbody>\n",
       "    <tr>\n",
       "      <th>354684</th>\n",
       "      <td>1.824508</td>\n",
       "      <td>1.824952</td>\n",
       "    </tr>\n",
       "    <tr>\n",
       "      <th>354685</th>\n",
       "      <td>1.824478</td>\n",
       "      <td>1.824852</td>\n",
       "    </tr>\n",
       "    <tr>\n",
       "      <th>354686</th>\n",
       "      <td>1.824448</td>\n",
       "      <td>1.824852</td>\n",
       "    </tr>\n",
       "    <tr>\n",
       "      <th>354687</th>\n",
       "      <td>1.824478</td>\n",
       "      <td>1.824952</td>\n",
       "    </tr>\n",
       "    <tr>\n",
       "      <th>354688</th>\n",
       "      <td>1.824348</td>\n",
       "      <td>1.824752</td>\n",
       "    </tr>\n",
       "    <tr>\n",
       "      <th>354689</th>\n",
       "      <td>1.824148</td>\n",
       "      <td>1.824552</td>\n",
       "    </tr>\n",
       "    <tr>\n",
       "      <th>354690</th>\n",
       "      <td>1.824090</td>\n",
       "      <td>1.824252</td>\n",
       "    </tr>\n",
       "    <tr>\n",
       "      <th>354691</th>\n",
       "      <td>1.823748</td>\n",
       "      <td>1.823852</td>\n",
       "    </tr>\n",
       "    <tr>\n",
       "      <th>354692</th>\n",
       "      <td>1.823463</td>\n",
       "      <td>1.823852</td>\n",
       "    </tr>\n",
       "    <tr>\n",
       "      <th>354693</th>\n",
       "      <td>NaN</td>\n",
       "      <td>NaN</td>\n",
       "    </tr>\n",
       "  </tbody>\n",
       "</table>\n",
       "</div>"
      ],
      "text/plain": [
       "        Y_High_Bid  Y_Low_Ask\n",
       "354684    1.824508   1.824952\n",
       "354685    1.824478   1.824852\n",
       "354686    1.824448   1.824852\n",
       "354687    1.824478   1.824952\n",
       "354688    1.824348   1.824752\n",
       "354689    1.824148   1.824552\n",
       "354690    1.824090   1.824252\n",
       "354691    1.823748   1.823852\n",
       "354692    1.823463   1.823852\n",
       "354693         NaN        NaN"
      ]
     },
     "execution_count": 56,
     "metadata": {},
     "output_type": "execute_result"
    }
   ],
   "source": []
  },
  {
   "cell_type": "markdown",
   "metadata": {},
   "source": [
    "#### Now just press 'CTRL' and 'ENTER' keys on the next cell."
   ]
  },
  {
   "cell_type": "code",
   "execution_count": 52,
   "metadata": {},
   "outputs": [
    {
     "name": "stderr",
     "output_type": "stream",
     "text": [
      "C:\\Users\\Admin\\AppData\\Local\\Temp\\ipykernel_10408\\3966826218.py:6: SettingWithCopyWarning: \n",
      "A value is trying to be set on a copy of a slice from a DataFrame.\n",
      "Try using .loc[row_indexer,col_indexer] = value instead\n",
      "\n",
      "See the caveats in the documentation: https://pandas.pydata.org/pandas-docs/stable/user_guide/indexing.html#returning-a-view-versus-a-copy\n",
      "  data_ay['Y_High_Bid_5'] = data_ay['Y_High_Bid'].rolling(window=indexer).max()\n",
      "C:\\Users\\Admin\\AppData\\Local\\Temp\\ipykernel_10408\\3966826218.py:7: SettingWithCopyWarning: \n",
      "A value is trying to be set on a copy of a slice from a DataFrame.\n",
      "Try using .loc[row_indexer,col_indexer] = value instead\n",
      "\n",
      "See the caveats in the documentation: https://pandas.pydata.org/pandas-docs/stable/user_guide/indexing.html#returning-a-view-versus-a-copy\n",
      "  data_ay['Y_Low_Ask_5']  = data_ay['Y_Low_Ask'].rolling(window=indexer).min()\n"
     ]
    }
   ],
   "source": [
    "# create new colomns: MIN_Lowest(Low_Ask) and MAX_Highest(High_Bid) prices of DURING NEXT 5 minutes\n",
    "\n",
    "# Forward-looking window\n",
    "indexer = pd.api.indexers.FixedForwardWindowIndexer(window_size=5)\n",
    "\n",
    "data_ay['Y_High_Bid_5'] = data_ay['Y_High_Bid'].rolling(window=indexer).max()\n",
    "data_ay['Y_Low_Ask_5']  = data_ay['Y_Low_Ask'].rolling(window=indexer).min()"
   ]
  },
  {
   "attachments": {
    "31f0c5af-51c3-4aff-8652-b2fd4d2c000f.png": {
     "image/png": "[encoded data removed]"
    }
   },
   "cell_type": "markdown",
   "metadata": {},
   "source": [
    "___________________![image.png](attachment:31f0c5af-51c3-4aff-8652-b2fd4d2c000f.png)"
   ]
  },
  {
   "cell_type": "code",
   "execution_count": 54,
   "metadata": {},
   "outputs": [
    {
     "data": {
      "text/html": [
       "<div>\n",
       "<style scoped>\n",
       "    .dataframe tbody tr th:only-of-type {\n",
       "        vertical-align: middle;\n",
       "    }\n",
       "\n",
       "    .dataframe tbody tr th {\n",
       "        vertical-align: top;\n",
       "    }\n",
       "\n",
       "    .dataframe thead th {\n",
       "        text-align: right;\n",
       "    }\n",
       "</style>\n",
       "<table border=\"1\" class=\"dataframe\">\n",
       "  <thead>\n",
       "    <tr style=\"text-align: right;\">\n",
       "      <th></th>\n",
       "      <th>Y_High_Bid</th>\n",
       "      <th>Y_Low_Ask</th>\n",
       "      <th>Y_High_Bid_5</th>\n",
       "      <th>Y_Low_Ask_5</th>\n",
       "    </tr>\n",
       "  </thead>\n",
       "  <tbody>\n",
       "    <tr>\n",
       "      <th>0</th>\n",
       "      <td>1.829628</td>\n",
       "      <td>1.829386</td>\n",
       "      <td>1.830704</td>\n",
       "      <td>1.829386</td>\n",
       "    </tr>\n",
       "    <tr>\n",
       "      <th>1</th>\n",
       "      <td>1.830104</td>\n",
       "      <td>1.829916</td>\n",
       "      <td>1.830704</td>\n",
       "      <td>1.829916</td>\n",
       "    </tr>\n",
       "    <tr>\n",
       "      <th>2</th>\n",
       "      <td>1.830604</td>\n",
       "      <td>1.830516</td>\n",
       "      <td>1.830704</td>\n",
       "      <td>1.830046</td>\n",
       "    </tr>\n",
       "    <tr>\n",
       "      <th>3</th>\n",
       "      <td>1.830704</td>\n",
       "      <td>1.831046</td>\n",
       "      <td>1.830704</td>\n",
       "      <td>1.829896</td>\n",
       "    </tr>\n",
       "    <tr>\n",
       "      <th>4</th>\n",
       "      <td>1.830674</td>\n",
       "      <td>1.830886</td>\n",
       "      <td>1.830968</td>\n",
       "      <td>1.829896</td>\n",
       "    </tr>\n",
       "    <tr>\n",
       "      <th>5</th>\n",
       "      <td>1.830568</td>\n",
       "      <td>1.830046</td>\n",
       "      <td>1.831624</td>\n",
       "      <td>1.829896</td>\n",
       "    </tr>\n",
       "  </tbody>\n",
       "</table>\n",
       "</div>"
      ],
      "text/plain": [
       "   Y_High_Bid  Y_Low_Ask  Y_High_Bid_5  Y_Low_Ask_5\n",
       "0    1.829628   1.829386      1.830704     1.829386\n",
       "1    1.830104   1.829916      1.830704     1.829916\n",
       "2    1.830604   1.830516      1.830704     1.830046\n",
       "3    1.830704   1.831046      1.830704     1.829896\n",
       "4    1.830674   1.830886      1.830968     1.829896\n",
       "5    1.830568   1.830046      1.831624     1.829896"
      ]
     },
     "execution_count": 54,
     "metadata": {},
     "output_type": "execute_result"
    }
   ],
   "source": [
    "data_ay.head(6)"
   ]
  },
  {
   "cell_type": "code",
   "execution_count": 60,
   "metadata": {},
   "outputs": [
    {
     "data": {
      "text/html": [
       "<div>\n",
       "<style scoped>\n",
       "    .dataframe tbody tr th:only-of-type {\n",
       "        vertical-align: middle;\n",
       "    }\n",
       "\n",
       "    .dataframe tbody tr th {\n",
       "        vertical-align: top;\n",
       "    }\n",
       "\n",
       "    .dataframe thead th {\n",
       "        text-align: right;\n",
       "    }\n",
       "</style>\n",
       "<table border=\"1\" class=\"dataframe\">\n",
       "  <thead>\n",
       "    <tr style=\"text-align: right;\">\n",
       "      <th></th>\n",
       "      <th>Y_High_Bid</th>\n",
       "      <th>Y_Low_Ask</th>\n",
       "      <th>Y_High_Bid_5</th>\n",
       "      <th>Y_Low_Ask_5</th>\n",
       "    </tr>\n",
       "  </thead>\n",
       "  <tbody>\n",
       "    <tr>\n",
       "      <th>0</th>\n",
       "      <td>1.830104</td>\n",
       "      <td>1.829916</td>\n",
       "      <td>1.830704</td>\n",
       "      <td>1.829916</td>\n",
       "    </tr>\n",
       "    <tr>\n",
       "      <th>1</th>\n",
       "      <td>1.830604</td>\n",
       "      <td>1.830516</td>\n",
       "      <td>1.830704</td>\n",
       "      <td>1.830046</td>\n",
       "    </tr>\n",
       "    <tr>\n",
       "      <th>2</th>\n",
       "      <td>1.830704</td>\n",
       "      <td>1.831046</td>\n",
       "      <td>1.830704</td>\n",
       "      <td>1.829896</td>\n",
       "    </tr>\n",
       "    <tr>\n",
       "      <th>3</th>\n",
       "      <td>1.830674</td>\n",
       "      <td>1.830886</td>\n",
       "      <td>1.830968</td>\n",
       "      <td>1.829896</td>\n",
       "    </tr>\n",
       "    <tr>\n",
       "      <th>4</th>\n",
       "      <td>1.830568</td>\n",
       "      <td>1.830046</td>\n",
       "      <td>1.831624</td>\n",
       "      <td>1.829896</td>\n",
       "    </tr>\n",
       "    <tr>\n",
       "      <th>5</th>\n",
       "      <td>1.830244</td>\n",
       "      <td>1.830076</td>\n",
       "      <td>1.831624</td>\n",
       "      <td>1.829896</td>\n",
       "    </tr>\n",
       "  </tbody>\n",
       "</table>\n",
       "</div>"
      ],
      "text/plain": [
       "   Y_High_Bid  Y_Low_Ask  Y_High_Bid_5  Y_Low_Ask_5\n",
       "0    1.830104   1.829916      1.830704     1.829916\n",
       "1    1.830604   1.830516      1.830704     1.830046\n",
       "2    1.830704   1.831046      1.830704     1.829896\n",
       "3    1.830674   1.830886      1.830968     1.829896\n",
       "4    1.830568   1.830046      1.831624     1.829896\n",
       "5    1.830244   1.830076      1.831624     1.829896"
      ]
     },
     "execution_count": 60,
     "metadata": {},
     "output_type": "execute_result"
    }
   ],
   "source": []
  },
  {
   "attachments": {
    "d38764a0-5d98-42e7-93e7-84226f43af79.png": {
     "image/png": "[encoded data removed]"
    }
   },
   "cell_type": "markdown",
   "metadata": {},
   "source": [
    "_______________________![image.png](attachment:d38764a0-5d98-42e7-93e7-84226f43af79.png)"
   ]
  },
  {
   "cell_type": "code",
   "execution_count": 56,
   "metadata": {},
   "outputs": [
    {
     "data": {
      "text/html": [
       "<div>\n",
       "<style scoped>\n",
       "    .dataframe tbody tr th:only-of-type {\n",
       "        vertical-align: middle;\n",
       "    }\n",
       "\n",
       "    .dataframe tbody tr th {\n",
       "        vertical-align: top;\n",
       "    }\n",
       "\n",
       "    .dataframe thead th {\n",
       "        text-align: right;\n",
       "    }\n",
       "</style>\n",
       "<table border=\"1\" class=\"dataframe\">\n",
       "  <thead>\n",
       "    <tr style=\"text-align: right;\">\n",
       "      <th></th>\n",
       "      <th>Y_High_Bid</th>\n",
       "      <th>Y_Low_Ask</th>\n",
       "      <th>Y_High_Bid_5</th>\n",
       "      <th>Y_Low_Ask_5</th>\n",
       "    </tr>\n",
       "  </thead>\n",
       "  <tbody>\n",
       "    <tr>\n",
       "      <th>354684</th>\n",
       "      <td>1.824508</td>\n",
       "      <td>1.824852</td>\n",
       "      <td>1.824508</td>\n",
       "      <td>1.824852</td>\n",
       "    </tr>\n",
       "    <tr>\n",
       "      <th>354685</th>\n",
       "      <td>1.824508</td>\n",
       "      <td>1.824952</td>\n",
       "      <td>1.824508</td>\n",
       "      <td>1.824752</td>\n",
       "    </tr>\n",
       "    <tr>\n",
       "      <th>354686</th>\n",
       "      <td>1.824478</td>\n",
       "      <td>1.824852</td>\n",
       "      <td>1.824478</td>\n",
       "      <td>1.824552</td>\n",
       "    </tr>\n",
       "    <tr>\n",
       "      <th>354687</th>\n",
       "      <td>1.824448</td>\n",
       "      <td>1.824852</td>\n",
       "      <td>1.824478</td>\n",
       "      <td>1.824252</td>\n",
       "    </tr>\n",
       "    <tr>\n",
       "      <th>354688</th>\n",
       "      <td>1.824478</td>\n",
       "      <td>1.824952</td>\n",
       "      <td>1.824478</td>\n",
       "      <td>1.823852</td>\n",
       "    </tr>\n",
       "    <tr>\n",
       "      <th>354689</th>\n",
       "      <td>1.824348</td>\n",
       "      <td>1.824752</td>\n",
       "      <td>1.824348</td>\n",
       "      <td>1.823852</td>\n",
       "    </tr>\n",
       "    <tr>\n",
       "      <th>354690</th>\n",
       "      <td>1.824148</td>\n",
       "      <td>1.824552</td>\n",
       "      <td>NaN</td>\n",
       "      <td>NaN</td>\n",
       "    </tr>\n",
       "    <tr>\n",
       "      <th>354691</th>\n",
       "      <td>1.824090</td>\n",
       "      <td>1.824252</td>\n",
       "      <td>NaN</td>\n",
       "      <td>NaN</td>\n",
       "    </tr>\n",
       "    <tr>\n",
       "      <th>354692</th>\n",
       "      <td>1.823748</td>\n",
       "      <td>1.823852</td>\n",
       "      <td>NaN</td>\n",
       "      <td>NaN</td>\n",
       "    </tr>\n",
       "    <tr>\n",
       "      <th>354693</th>\n",
       "      <td>1.823463</td>\n",
       "      <td>1.823852</td>\n",
       "      <td>NaN</td>\n",
       "      <td>NaN</td>\n",
       "    </tr>\n",
       "  </tbody>\n",
       "</table>\n",
       "</div>"
      ],
      "text/plain": [
       "        Y_High_Bid  Y_Low_Ask  Y_High_Bid_5  Y_Low_Ask_5\n",
       "354684    1.824508   1.824852      1.824508     1.824852\n",
       "354685    1.824508   1.824952      1.824508     1.824752\n",
       "354686    1.824478   1.824852      1.824478     1.824552\n",
       "354687    1.824448   1.824852      1.824478     1.824252\n",
       "354688    1.824478   1.824952      1.824478     1.823852\n",
       "354689    1.824348   1.824752      1.824348     1.823852\n",
       "354690    1.824148   1.824552           NaN          NaN\n",
       "354691    1.824090   1.824252           NaN          NaN\n",
       "354692    1.823748   1.823852           NaN          NaN\n",
       "354693    1.823463   1.823852           NaN          NaN"
      ]
     },
     "execution_count": 56,
     "metadata": {},
     "output_type": "execute_result"
    }
   ],
   "source": [
    "data_ay.tail(10)"
   ]
  },
  {
   "cell_type": "code",
   "execution_count": 62,
   "metadata": {},
   "outputs": [
    {
     "data": {
      "text/html": [
       "<div>\n",
       "<style scoped>\n",
       "    .dataframe tbody tr th:only-of-type {\n",
       "        vertical-align: middle;\n",
       "    }\n",
       "\n",
       "    .dataframe tbody tr th {\n",
       "        vertical-align: top;\n",
       "    }\n",
       "\n",
       "    .dataframe thead th {\n",
       "        text-align: right;\n",
       "    }\n",
       "</style>\n",
       "<table border=\"1\" class=\"dataframe\">\n",
       "  <thead>\n",
       "    <tr style=\"text-align: right;\">\n",
       "      <th></th>\n",
       "      <th>Y_High_Bid</th>\n",
       "      <th>Y_Low_Ask</th>\n",
       "      <th>Y_High_Bid_5</th>\n",
       "      <th>Y_Low_Ask_5</th>\n",
       "    </tr>\n",
       "  </thead>\n",
       "  <tbody>\n",
       "    <tr>\n",
       "      <th>354684</th>\n",
       "      <td>1.824508</td>\n",
       "      <td>1.824952</td>\n",
       "      <td>1.824508</td>\n",
       "      <td>1.824752</td>\n",
       "    </tr>\n",
       "    <tr>\n",
       "      <th>354685</th>\n",
       "      <td>1.824478</td>\n",
       "      <td>1.824852</td>\n",
       "      <td>1.824478</td>\n",
       "      <td>1.824552</td>\n",
       "    </tr>\n",
       "    <tr>\n",
       "      <th>354686</th>\n",
       "      <td>1.824448</td>\n",
       "      <td>1.824852</td>\n",
       "      <td>1.824478</td>\n",
       "      <td>1.824252</td>\n",
       "    </tr>\n",
       "    <tr>\n",
       "      <th>354687</th>\n",
       "      <td>1.824478</td>\n",
       "      <td>1.824952</td>\n",
       "      <td>1.824478</td>\n",
       "      <td>1.823852</td>\n",
       "    </tr>\n",
       "    <tr>\n",
       "      <th>354688</th>\n",
       "      <td>1.824348</td>\n",
       "      <td>1.824752</td>\n",
       "      <td>1.824348</td>\n",
       "      <td>1.823852</td>\n",
       "    </tr>\n",
       "    <tr>\n",
       "      <th>354689</th>\n",
       "      <td>1.824148</td>\n",
       "      <td>1.824552</td>\n",
       "      <td>NaN</td>\n",
       "      <td>NaN</td>\n",
       "    </tr>\n",
       "    <tr>\n",
       "      <th>354690</th>\n",
       "      <td>1.824090</td>\n",
       "      <td>1.824252</td>\n",
       "      <td>NaN</td>\n",
       "      <td>NaN</td>\n",
       "    </tr>\n",
       "    <tr>\n",
       "      <th>354691</th>\n",
       "      <td>1.823748</td>\n",
       "      <td>1.823852</td>\n",
       "      <td>NaN</td>\n",
       "      <td>NaN</td>\n",
       "    </tr>\n",
       "    <tr>\n",
       "      <th>354692</th>\n",
       "      <td>1.823463</td>\n",
       "      <td>1.823852</td>\n",
       "      <td>NaN</td>\n",
       "      <td>NaN</td>\n",
       "    </tr>\n",
       "    <tr>\n",
       "      <th>354693</th>\n",
       "      <td>NaN</td>\n",
       "      <td>NaN</td>\n",
       "      <td>NaN</td>\n",
       "      <td>NaN</td>\n",
       "    </tr>\n",
       "  </tbody>\n",
       "</table>\n",
       "</div>"
      ],
      "text/plain": [
       "        Y_High_Bid  Y_Low_Ask  Y_High_Bid_5  Y_Low_Ask_5\n",
       "354684    1.824508   1.824952      1.824508     1.824752\n",
       "354685    1.824478   1.824852      1.824478     1.824552\n",
       "354686    1.824448   1.824852      1.824478     1.824252\n",
       "354687    1.824478   1.824952      1.824478     1.823852\n",
       "354688    1.824348   1.824752      1.824348     1.823852\n",
       "354689    1.824148   1.824552           NaN          NaN\n",
       "354690    1.824090   1.824252           NaN          NaN\n",
       "354691    1.823748   1.823852           NaN          NaN\n",
       "354692    1.823463   1.823852           NaN          NaN\n",
       "354693         NaN        NaN           NaN          NaN"
      ]
     },
     "execution_count": 62,
     "metadata": {},
     "output_type": "execute_result"
    }
   ],
   "source": []
  },
  {
   "attachments": {
    "9ee5b5ae-36c2-4667-80f4-0b44ab817433.png": {
     "image/png": "[encoded data removed]"
    }
   },
   "cell_type": "markdown",
   "metadata": {},
   "source": [
    "__________________________![image.png](attachment:9ee5b5ae-36c2-4667-80f4-0b44ab817433.png)"
   ]
  },
  {
   "cell_type": "code",
   "execution_count": 58,
   "metadata": {},
   "outputs": [],
   "source": [
    "data_ay = data_ay.drop(['Y_High_Bid', 'Y_Low_Ask'],axis=1)"
   ]
  },
  {
   "cell_type": "code",
   "execution_count": null,
   "metadata": {},
   "outputs": [],
   "source": []
  },
  {
   "attachments": {
    "69998979-62d6-4d99-a0b9-4decd15e990f.png": {
     "image/png": "[encoded data removed]"
    }
   },
   "cell_type": "markdown",
   "metadata": {},
   "source": [
    "____________________![image.png](attachment:69998979-62d6-4d99-a0b9-4decd15e990f.png)"
   ]
  },
  {
   "cell_type": "code",
   "execution_count": 60,
   "metadata": {},
   "outputs": [
    {
     "data": {
      "text/html": [
       "<div>\n",
       "<style scoped>\n",
       "    .dataframe tbody tr th:only-of-type {\n",
       "        vertical-align: middle;\n",
       "    }\n",
       "\n",
       "    .dataframe tbody tr th {\n",
       "        vertical-align: top;\n",
       "    }\n",
       "\n",
       "    .dataframe thead th {\n",
       "        text-align: right;\n",
       "    }\n",
       "</style>\n",
       "<table border=\"1\" class=\"dataframe\">\n",
       "  <thead>\n",
       "    <tr style=\"text-align: right;\">\n",
       "      <th></th>\n",
       "      <th>Y_High_Bid_5</th>\n",
       "      <th>Y_Low_Ask_5</th>\n",
       "    </tr>\n",
       "  </thead>\n",
       "  <tbody>\n",
       "    <tr>\n",
       "      <th>354688</th>\n",
       "      <td>1.824478</td>\n",
       "      <td>1.823852</td>\n",
       "    </tr>\n",
       "    <tr>\n",
       "      <th>354689</th>\n",
       "      <td>1.824348</td>\n",
       "      <td>1.823852</td>\n",
       "    </tr>\n",
       "    <tr>\n",
       "      <th>354690</th>\n",
       "      <td>NaN</td>\n",
       "      <td>NaN</td>\n",
       "    </tr>\n",
       "    <tr>\n",
       "      <th>354691</th>\n",
       "      <td>NaN</td>\n",
       "      <td>NaN</td>\n",
       "    </tr>\n",
       "    <tr>\n",
       "      <th>354692</th>\n",
       "      <td>NaN</td>\n",
       "      <td>NaN</td>\n",
       "    </tr>\n",
       "    <tr>\n",
       "      <th>354693</th>\n",
       "      <td>NaN</td>\n",
       "      <td>NaN</td>\n",
       "    </tr>\n",
       "  </tbody>\n",
       "</table>\n",
       "</div>"
      ],
      "text/plain": [
       "        Y_High_Bid_5  Y_Low_Ask_5\n",
       "354688      1.824478     1.823852\n",
       "354689      1.824348     1.823852\n",
       "354690           NaN          NaN\n",
       "354691           NaN          NaN\n",
       "354692           NaN          NaN\n",
       "354693           NaN          NaN"
      ]
     },
     "execution_count": 60,
     "metadata": {},
     "output_type": "execute_result"
    }
   ],
   "source": [
    "data_ay.tail(6)"
   ]
  },
  {
   "cell_type": "code",
   "execution_count": 66,
   "metadata": {},
   "outputs": [
    {
     "data": {
      "text/html": [
       "<div>\n",
       "<style scoped>\n",
       "    .dataframe tbody tr th:only-of-type {\n",
       "        vertical-align: middle;\n",
       "    }\n",
       "\n",
       "    .dataframe tbody tr th {\n",
       "        vertical-align: top;\n",
       "    }\n",
       "\n",
       "    .dataframe thead th {\n",
       "        text-align: right;\n",
       "    }\n",
       "</style>\n",
       "<table border=\"1\" class=\"dataframe\">\n",
       "  <thead>\n",
       "    <tr style=\"text-align: right;\">\n",
       "      <th></th>\n",
       "      <th>Y_High_Bid_5</th>\n",
       "      <th>Y_Low_Ask_5</th>\n",
       "    </tr>\n",
       "  </thead>\n",
       "  <tbody>\n",
       "    <tr>\n",
       "      <th>354688</th>\n",
       "      <td>1.824348</td>\n",
       "      <td>1.823852</td>\n",
       "    </tr>\n",
       "    <tr>\n",
       "      <th>354689</th>\n",
       "      <td>NaN</td>\n",
       "      <td>NaN</td>\n",
       "    </tr>\n",
       "    <tr>\n",
       "      <th>354690</th>\n",
       "      <td>NaN</td>\n",
       "      <td>NaN</td>\n",
       "    </tr>\n",
       "    <tr>\n",
       "      <th>354691</th>\n",
       "      <td>NaN</td>\n",
       "      <td>NaN</td>\n",
       "    </tr>\n",
       "    <tr>\n",
       "      <th>354692</th>\n",
       "      <td>NaN</td>\n",
       "      <td>NaN</td>\n",
       "    </tr>\n",
       "    <tr>\n",
       "      <th>354693</th>\n",
       "      <td>NaN</td>\n",
       "      <td>NaN</td>\n",
       "    </tr>\n",
       "  </tbody>\n",
       "</table>\n",
       "</div>"
      ],
      "text/plain": [
       "        Y_High_Bid_5  Y_Low_Ask_5\n",
       "354688      1.824348     1.823852\n",
       "354689           NaN          NaN\n",
       "354690           NaN          NaN\n",
       "354691           NaN          NaN\n",
       "354692           NaN          NaN\n",
       "354693           NaN          NaN"
      ]
     },
     "execution_count": 66,
     "metadata": {},
     "output_type": "execute_result"
    }
   ],
   "source": []
  },
  {
   "cell_type": "markdown",
   "metadata": {},
   "source": [
    "#### Now just press 'CTRL' and 'ENTER' keys on the next 2 cells."
   ]
  },
  {
   "cell_type": "code",
   "execution_count": 62,
   "metadata": {},
   "outputs": [],
   "source": [
    "# delete the 5 last rows in data_ay (because we don't have answers for the last 5 minutes)\n",
    "\n",
    "for i in range(5):\n",
    "        data_ay.drop(data_ay.shape[0]-1, axis=0, inplace=True)\n"
   ]
  },
  {
   "cell_type": "code",
   "execution_count": 64,
   "metadata": {},
   "outputs": [],
   "source": [
    "# delete the last 5 rows in data_ax (because we don't have answers for the last 5 minutes)\n",
    "\n",
    "for i in range(5):\n",
    "    data_ax.drop(data_ax.shape[0]-1, axis=0, inplace=True)"
   ]
  },
  {
   "attachments": {
    "85d69f40-a645-471c-98e4-efb920bfc01b.png": {
     "image/png": "[encoded data removed]"
    }
   },
   "cell_type": "markdown",
   "metadata": {},
   "source": [
    "_______________________![image.png](attachment:85d69f40-a645-471c-98e4-efb920bfc01b.png)"
   ]
  },
  {
   "cell_type": "code",
   "execution_count": 66,
   "metadata": {},
   "outputs": [
    {
     "data": {
      "text/plain": [
       "(354689, 2)"
      ]
     },
     "execution_count": 66,
     "metadata": {},
     "output_type": "execute_result"
    }
   ],
   "source": [
    "data_ay.shape"
   ]
  },
  {
   "cell_type": "code",
   "execution_count": 70,
   "metadata": {},
   "outputs": [
    {
     "data": {
      "text/plain": [
       "(354689, 2)"
      ]
     },
     "execution_count": 70,
     "metadata": {},
     "output_type": "execute_result"
    }
   ],
   "source": []
  },
  {
   "attachments": {
    "505d3dc3-0958-4691-96e1-7086c3890499.png": {
     "image/png": "[encoded data removed]"
    }
   },
   "cell_type": "markdown",
   "metadata": {},
   "source": [
    "____________________![image.png](attachment:505d3dc3-0958-4691-96e1-7086c3890499.png)"
   ]
  },
  {
   "cell_type": "code",
   "execution_count": 68,
   "metadata": {},
   "outputs": [
    {
     "data": {
      "text/plain": [
       "(354689, 18)"
      ]
     },
     "execution_count": 68,
     "metadata": {},
     "output_type": "execute_result"
    }
   ],
   "source": [
    "data_ax.shape"
   ]
  },
  {
   "cell_type": "code",
   "execution_count": 74,
   "metadata": {},
   "outputs": [
    {
     "data": {
      "text/plain": [
       "(354689, 18)"
      ]
     },
     "execution_count": 74,
     "metadata": {},
     "output_type": "execute_result"
    }
   ],
   "source": []
  },
  {
   "cell_type": "markdown",
   "metadata": {},
   "source": [
    "#### Now just press 'CTRL' and 'ENTER' keys on the next cell."
   ]
  },
  {
   "cell_type": "code",
   "execution_count": 70,
   "metadata": {},
   "outputs": [
    {
     "name": "stdout",
     "output_type": "stream",
     "text": [
      "data_a:\n",
      "[[1.8286e+00 1.8296e+00 1.8285e+00 1.8295e+00 9.7176e-03 1.8297e+00\n",
      "  1.8309e+00 1.8294e+00 1.8302e+00 9.0501e-03 6.2905e-01 7.0896e-04\n",
      "  7.5183e-01 6.9138e-01 8.0142e-01 8.3684e-01 1.0000e+00 1.0000e+00]\n",
      " [1.8295e+00 1.8301e+00 1.8294e+00 1.8300e+00 7.1508e-03 1.8299e+00\n",
      "  1.8307e+00 1.8299e+00 1.8306e+00 9.9463e-03 6.3137e-01 2.9690e-03\n",
      "  8.9823e-01 8.6517e-01 8.7792e-01 8.5195e-01 0.0000e+00 0.0000e+00]]\n",
      "\n",
      "\n",
      "[[1.8243e+00 1.8244e+00 1.8243e+00 1.8243e+00 2.5520e-03 1.8250e+00\n",
      "  1.8251e+00 1.8249e+00 1.8250e+00 2.3750e-03 6.2938e-01 1.8801e-04\n",
      "  8.5053e-01 8.5762e-01 8.7178e-01 8.5762e-01 0.0000e+00 0.0000e+00]\n",
      " [1.8244e+00 1.8245e+00 1.8243e+00 1.8243e+00 1.7923e-03 1.8250e+00\n",
      "  1.8251e+00 1.8250e+00 1.8250e+00 1.3867e-03 6.2923e-01 4.3086e-04\n",
      "  8.6470e-01 8.6470e-01 8.5762e-01 8.5762e-01 0.0000e+00 0.0000e+00]]\n",
      "numpy size: =  (354689, 18)\n",
      "type:  float32\n"
     ]
    }
   ],
   "source": [
    "# Create inputs Numpy\n",
    "\n",
    "data_a = np.array(data_ax) \n",
    "\n",
    "with np.printoptions(precision=4):\n",
    "    print(\"data_a:\")\n",
    "    print(data_a[:2,:])  \n",
    "    print('\\n')\n",
    "    print(data_a[-2:,:]) \n",
    "\n",
    "print(\"numpy size: = \", data_a.shape)\n",
    "print(\"type: \", data_a.dtype) \n"
   ]
  },
  {
   "cell_type": "code",
   "execution_count": 76,
   "metadata": {},
   "outputs": [
    {
     "name": "stdout",
     "output_type": "stream",
     "text": [
      "data_a:\n",
      "[[1.8286e+00 1.8296e+00 1.8285e+00 1.8295e+00 9.7176e-03 1.8297e+00\n",
      "  1.8309e+00 1.8294e+00 1.8302e+00 9.0501e-03 6.2905e-01 7.0896e-04\n",
      "  7.5183e-01 6.9138e-01 8.0142e-01 8.3684e-01 1.0000e+00 1.0000e+00]\n",
      " [1.8295e+00 1.8301e+00 1.8294e+00 1.8300e+00 7.1508e-03 1.8299e+00\n",
      "  1.8307e+00 1.8299e+00 1.8306e+00 9.9463e-03 6.3137e-01 2.9690e-03\n",
      "  8.9823e-01 8.6517e-01 8.7792e-01 8.5195e-01 0.0000e+00 0.0000e+00]]\n",
      "\n",
      "\n",
      "[[1.8243e+00 1.8244e+00 1.8243e+00 1.8243e+00 2.5520e-03 1.8250e+00\n",
      "  1.8251e+00 1.8249e+00 1.8250e+00 2.3750e-03 6.2938e-01 1.8801e-04\n",
      "  8.5053e-01 8.5762e-01 8.7178e-01 8.5762e-01 0.0000e+00 0.0000e+00]\n",
      " [1.8244e+00 1.8245e+00 1.8243e+00 1.8243e+00 1.7923e-03 1.8250e+00\n",
      "  1.8251e+00 1.8250e+00 1.8250e+00 1.3867e-03 6.2923e-01 4.3086e-04\n",
      "  8.6470e-01 8.6470e-01 8.5762e-01 8.5762e-01 0.0000e+00 0.0000e+00]]\n",
      "numpy size: =  (354689, 18)\n",
      "type:  float32\n"
     ]
    }
   ],
   "source": [
    "# Chech the result:\n",
    "# Your result from running the cell above must match the result in this cell."
   ]
  },
  {
   "cell_type": "markdown",
   "metadata": {},
   "source": [
    "#### Now just press 'CTRL' and 'ENTER' keys on the next cell."
   ]
  },
  {
   "cell_type": "code",
   "execution_count": 72,
   "metadata": {},
   "outputs": [
    {
     "name": "stdout",
     "output_type": "stream",
     "text": [
      "data_a:\n",
      "[[1.83070397 1.829386  ]\n",
      " [1.83070397 1.829916  ]\n",
      " [1.83070397 1.83004606]]\n",
      "\n",
      "\n",
      "[[1.82447803 1.82455206]\n",
      " [1.82447803 1.82425201]\n",
      " [1.82447803 1.82385194]]\n",
      "numpy size: =  (354689, 2)\n",
      "type:  float64\n"
     ]
    }
   ],
   "source": [
    "# Create outputs Numpy\n",
    "\n",
    "data_y = np.array(data_ay) \n",
    "\n",
    "print(\"data_a:\")\n",
    "print(data_y[:3,:])  \n",
    "print('\\n')\n",
    "print(data_y[-3:,:]) \n",
    "\n",
    "print(\"numpy size: = \", data_y.shape)\n",
    "print(\"type: \", data_y.dtype) "
   ]
  },
  {
   "cell_type": "code",
   "execution_count": 78,
   "metadata": {},
   "outputs": [
    {
     "name": "stdout",
     "output_type": "stream",
     "text": [
      "data_a:\n",
      "[[1.83070397 1.829916  ]\n",
      " [1.83070397 1.83004606]\n",
      " [1.83070397 1.82989597]]\n",
      "\n",
      "\n",
      "[[1.82447803 1.82425201]\n",
      " [1.82447803 1.82385194]\n",
      " [1.82434797 1.82385194]]\n",
      "numpy size: =  (354689, 2)\n",
      "type:  float64\n"
     ]
    }
   ],
   "source": [
    "# Chech the result:\n",
    "# Your result from running the cell above must match the result in this cell."
   ]
  },
  {
   "cell_type": "code",
   "execution_count": null,
   "metadata": {},
   "outputs": [],
   "source": []
  },
  {
   "cell_type": "markdown",
   "metadata": {},
   "source": [
    "<html> <h3 style=\"font-style:italic; color:blue;\"> Create the 3D inputs tensor, and 2D outputs matrix </h3> </html>"
   ]
  },
  {
   "cell_type": "code",
   "execution_count": 82,
   "metadata": {},
   "outputs": [],
   "source": [
    "# We will analyse only part of the dataset since training the neural network with \n",
    "# an entire dataset would require massive computer power.\n",
    "\n",
    "# n_small = 30,000 rows (minutes), which equals around 1 month.\n",
    "\n",
    "# We need a three-dimensional data tensor: [(n_small-N ), N, 18] and\n",
    "# two-dimensional array of answers [(n_small-N ), 2] with the High and Low prices DURING the next 5 minutes\n",
    "\n",
    "# where N=50 is the number of minutes for analysis at each step; those are looking backwards \n",
    "\n",
    "# Therefore, we need:\n",
    "# three-dimensional data tensor of sliced graphs [(n_small - N - 5), N, 18] and\n",
    "# two-dimensional matrix of answers Y[(n_small - N - 5), 2] with the High and Low prices shifted sequentially to 5 rows up."
   ]
  },
  {
   "attachments": {
    "a40acf43-52bc-4f48-b4aa-6bb9cf888cec.png": {
     "image/png": "[encoded data removed]"
    }
   },
   "cell_type": "markdown",
   "metadata": {},
   "source": [
    "________________________![image.png](attachment:a40acf43-52bc-4f48-b4aa-6bb9cf888cec.png)"
   ]
  },
  {
   "cell_type": "code",
   "execution_count": 74,
   "metadata": {},
   "outputs": [],
   "source": [
    "from tqdm import tqdm"
   ]
  },
  {
   "cell_type": "code",
   "execution_count": null,
   "metadata": {},
   "outputs": [],
   "source": []
  },
  {
   "attachments": {
    "9bb66efa-420d-4d83-975f-9bbc427a2942.png": {
     "image/png": "[encoded data removed]"
    }
   },
   "cell_type": "markdown",
   "metadata": {},
   "source": [
    "___________________________![image.png](attachment:9bb66efa-420d-4d83-975f-9bbc427a2942.png)"
   ]
  },
  {
   "cell_type": "code",
   "execution_count": 77,
   "metadata": {},
   "outputs": [
    {
     "name": "stdout",
     "output_type": "stream",
     "text": [
      "Size of a three-dimensional inputs tensor:  29950 50 18\n"
     ]
    }
   ],
   "source": [
    "n_small = 30000\n",
    "N=50\n",
    "\n",
    "L=n_small-N\n",
    "t=data_a.shape[1]\n",
    "print('Size of a three-dimensional inputs tensor: ',L,N,t)"
   ]
  },
  {
   "cell_type": "code",
   "execution_count": 86,
   "metadata": {},
   "outputs": [
    {
     "name": "stdout",
     "output_type": "stream",
     "text": [
      "Size of a three-dimensional inputs tensor:  29950 50 18\n"
     ]
    }
   ],
   "source": []
  },
  {
   "cell_type": "markdown",
   "metadata": {},
   "source": [
    "#### Now just press 'CTRL' and 'ENTER' keys on the next 3 cells."
   ]
  },
  {
   "cell_type": "code",
   "execution_count": 79,
   "metadata": {},
   "outputs": [],
   "source": [
    "# create imputs zeros 3D tensors with 'float32'\n",
    "\n",
    "data_b = np.zeros( (L, N, t), dtype= 'float32' ) "
   ]
  },
  {
   "cell_type": "code",
   "execution_count": 81,
   "metadata": {},
   "outputs": [],
   "source": [
    "# create a two-dimensional zeros vector of answers - normalised the High_Bid and Low_Ask prices DURING next 5 minutes\n",
    "\n",
    "Y = np.zeros((L, 2), dtype= 'float32') # We will predict two prices - normalised High_Bid and normalised Low_Ask"
   ]
  },
  {
   "cell_type": "code",
   "execution_count": 83,
   "metadata": {},
   "outputs": [
    {
     "name": "stdout",
     "output_type": "stream",
     "text": [
      "L = n_small - N - 5 =  29945 29950\n"
     ]
    },
    {
     "name": "stderr",
     "output_type": "stream",
     "text": [
      "100%|██████████| 29950/29950 [00:00<00:00, 40821.50it/s]"
     ]
    },
    {
     "name": "stdout",
     "output_type": "stream",
     "text": [
      "29949\n",
      "data_b: \n",
      " [[[1.828604   1.829628   1.828544   ... 0.8368359  1.         1.        ]\n",
      "  [1.829504   1.830104   1.829398   ... 0.851948   0.         0.        ]\n",
      "  [1.830098   1.830604   1.829998   ... 0.85572606 0.         0.        ]\n",
      "  ...\n",
      "  [1.828188   1.828198   1.828058   ... 0.9048406  0.         0.        ]\n",
      "  [1.828178   1.828178   1.827978   ... 0.90247935 0.         0.        ]\n",
      "  [1.827998   1.828058   1.827968   ... 0.90247935 0.         0.        ]]\n",
      "\n",
      " [[1.829504   1.830104   1.829398   ... 0.851948   0.         0.        ]\n",
      "  [1.830098   1.830604   1.829998   ... 0.85572606 0.         0.        ]\n",
      "  [1.830534   1.830704   1.830504   ... 0.91239667 0.         0.        ]\n",
      "  ...\n",
      "  [1.828178   1.828178   1.827978   ... 0.90247935 0.         0.        ]\n",
      "  [1.827998   1.828058   1.827968   ... 0.90247935 0.         0.        ]\n",
      "  [1.828048   1.828158   1.827898   ... 0.89681226 0.         0.        ]]\n",
      "\n",
      " [[1.830098   1.830604   1.829998   ... 0.85572606 0.         0.        ]\n",
      "  [1.830534   1.830704   1.830504   ... 0.91239667 0.         0.        ]\n",
      "  [1.830674   1.830674   1.830448   ... 0.86375445 0.         0.        ]\n",
      "  ...\n",
      "  [1.827998   1.828058   1.827968   ... 0.90247935 0.         0.        ]\n",
      "  [1.828048   1.828158   1.827898   ... 0.89681226 0.         0.        ]\n",
      "  [1.828158   1.828178   1.828108   ... 0.89350647 0.         0.        ]]\n",
      "\n",
      " ...\n",
      "\n",
      " [[1.801748   1.801848   1.801528   ... 0.9142857  0.         0.        ]\n",
      "  [1.801548   1.801728   1.801538   ... 0.91829985 0.         0.        ]\n",
      "  [1.801638   1.801748   1.801588   ... 0.92136955 0.         0.        ]\n",
      "  ...\n",
      "  [1.800525   1.800525   1.799828   ... 0.92302245 0.         0.        ]\n",
      "  [1.799918   1.800008   1.799758   ... 0.927745   0.         0.        ]\n",
      "  [1.799878   1.799878   1.799568   ... 0.9237308  0.         0.        ]]\n",
      "\n",
      " [[1.801548   1.801728   1.801538   ... 0.91829985 0.         0.        ]\n",
      "  [1.801638   1.801748   1.801588   ... 0.92136955 0.         0.        ]\n",
      "  [1.801668   1.801728   1.801502   ... 0.92136955 0.         0.        ]\n",
      "  ...\n",
      "  [1.799918   1.800008   1.799758   ... 0.927745   0.         0.        ]\n",
      "  [1.799878   1.799878   1.799568   ... 0.9237308  0.         0.        ]\n",
      "  [1.799918   1.799918   1.799398   ... 0.9260921  0.         0.        ]]\n",
      "\n",
      " [[1.801638   1.801748   1.801588   ... 0.92136955 0.         0.        ]\n",
      "  [1.801668   1.801728   1.801502   ... 0.92136955 0.         0.        ]\n",
      "  [1.801618   1.801748   1.801428   ... 0.9142857  0.         0.        ]\n",
      "  ...\n",
      "  [1.799878   1.799878   1.799568   ... 0.9237308  0.         0.        ]\n",
      "  [1.799918   1.799918   1.799398   ... 0.9260921  0.         0.        ]\n",
      "  [1.799588   1.799838   1.799218   ... 0.91829985 0.         0.        ]]]\n",
      "Numpy size:         (29950, 50, 18) \n",
      "\n",
      "[[1.828328 1.828342]\n",
      " [1.828358 1.828342]\n",
      " [1.828388 1.828546]\n",
      " [1.828388 1.828602]\n",
      " [1.828388 1.828602]]\n",
      "[[1.801078 1.800705]\n",
      " [1.801078 1.800142]\n",
      " [1.801078 1.800095]\n",
      " [1.800908 1.799901]\n",
      " [1.800908 1.799742]\n",
      " [1.800525 1.799565]\n",
      " [1.800008 1.798795]\n",
      " [1.799918 1.798795]\n",
      " [1.800258 1.798795]\n",
      " [1.800318 1.798795]]\n",
      "Numpy size:          (29950, 2)\n"
     ]
    },
    {
     "name": "stderr",
     "output_type": "stream",
     "text": [
      "\n"
     ]
    }
   ],
   "source": [
    "# fill the imputs 3D tansor (data_b) \n",
    "# and the array of answers Y \n",
    "\n",
    "#print('L = n - N = ', n-N, L)\n",
    "print('L = n_small - N - 5 = ', n_small-N-5, L)\n",
    "#for k in tqdm(range(L-1)):\n",
    "for k in tqdm(range(L)):\n",
    "    data_b[k, :, :] = data_a[k:k+N, :]   \n",
    "                                          \n",
    "    Y[k,0] = data_y[k+N-1,0]   # normalised Y_High_Bid - max 5 minutes future price\n",
    "    Y[k,1] = data_y[k+N-1,1]   # normalised Y_Low_Ask -  min 5 minutes future price\n",
    "\n",
    "print(k) # index value (for control)\n",
    "    \n",
    "print('data_b:', '\\n', data_b)\n",
    "print(\"Numpy size:        \", data_b.shape, '\\n')\n",
    "\n",
    "print( Y[:5,:])\n",
    "print( Y[-10:,:])\n",
    "print(      \"Numpy size:         \", Y.shape)"
   ]
  },
  {
   "cell_type": "code",
   "execution_count": 92,
   "metadata": {},
   "outputs": [
    {
     "name": "stdout",
     "output_type": "stream",
     "text": [
      "L = n_small - N - 5 =  29945 29950\n"
     ]
    },
    {
     "name": "stderr",
     "output_type": "stream",
     "text": [
      "100%|██████████| 29950/29950 [00:00<00:00, 347057.11it/s]"
     ]
    },
    {
     "name": "stdout",
     "output_type": "stream",
     "text": [
      "29949\n",
      "data_b: \n",
      " [[[1.828604   1.829628   1.828544   ... 0.8368359  1.         1.        ]\n",
      "  [1.829504   1.830104   1.829398   ... 0.851948   0.         0.        ]\n",
      "  [1.830098   1.830604   1.829998   ... 0.85572606 0.         0.        ]\n",
      "  ...\n",
      "  [1.828188   1.828198   1.828058   ... 0.9048406  0.         0.        ]\n",
      "  [1.828178   1.828178   1.827978   ... 0.90247935 0.         0.        ]\n",
      "  [1.827998   1.828058   1.827968   ... 0.90247935 0.         0.        ]]\n",
      "\n",
      " [[1.829504   1.830104   1.829398   ... 0.851948   0.         0.        ]\n",
      "  [1.830098   1.830604   1.829998   ... 0.85572606 0.         0.        ]\n",
      "  [1.830534   1.830704   1.830504   ... 0.91239667 0.         0.        ]\n",
      "  ...\n",
      "  [1.828178   1.828178   1.827978   ... 0.90247935 0.         0.        ]\n",
      "  [1.827998   1.828058   1.827968   ... 0.90247935 0.         0.        ]\n",
      "  [1.828048   1.828158   1.827898   ... 0.89681226 0.         0.        ]]\n",
      "\n",
      " [[1.830098   1.830604   1.829998   ... 0.85572606 0.         0.        ]\n",
      "  [1.830534   1.830704   1.830504   ... 0.91239667 0.         0.        ]\n",
      "  [1.830674   1.830674   1.830448   ... 0.86375445 0.         0.        ]\n",
      "  ...\n",
      "  [1.827998   1.828058   1.827968   ... 0.90247935 0.         0.        ]\n",
      "  [1.828048   1.828158   1.827898   ... 0.89681226 0.         0.        ]\n",
      "  [1.828158   1.828178   1.828108   ... 0.89350647 0.         0.        ]]\n",
      "\n",
      " ...\n",
      "\n",
      " [[1.801748   1.801848   1.801528   ... 0.9142857  0.         0.        ]\n",
      "  [1.801548   1.801728   1.801538   ... 0.91829985 0.         0.        ]\n",
      "  [1.801638   1.801748   1.801588   ... 0.92136955 0.         0.        ]\n",
      "  ...\n",
      "  [1.800525   1.800525   1.799828   ... 0.92302245 0.         0.        ]\n",
      "  [1.799918   1.800008   1.799758   ... 0.927745   0.         0.        ]\n",
      "  [1.799878   1.799878   1.799568   ... 0.9237308  0.         0.        ]]\n",
      "\n",
      " [[1.801548   1.801728   1.801538   ... 0.91829985 0.         0.        ]\n",
      "  [1.801638   1.801748   1.801588   ... 0.92136955 0.         0.        ]\n",
      "  [1.801668   1.801728   1.801502   ... 0.92136955 0.         0.        ]\n",
      "  ...\n",
      "  [1.799918   1.800008   1.799758   ... 0.927745   0.         0.        ]\n",
      "  [1.799878   1.799878   1.799568   ... 0.9237308  0.         0.        ]\n",
      "  [1.799918   1.799918   1.799398   ... 0.9260921  0.         0.        ]]\n",
      "\n",
      " [[1.801638   1.801748   1.801588   ... 0.92136955 0.         0.        ]\n",
      "  [1.801668   1.801728   1.801502   ... 0.92136955 0.         0.        ]\n",
      "  [1.801618   1.801748   1.801428   ... 0.9142857  0.         0.        ]\n",
      "  ...\n",
      "  [1.799878   1.799878   1.799568   ... 0.9237308  0.         0.        ]\n",
      "  [1.799918   1.799918   1.799398   ... 0.9260921  0.         0.        ]\n",
      "  [1.799588   1.799838   1.799218   ... 0.91829985 0.         0.        ]]]\n",
      "Numpy size:         (29950, 50, 18) \n",
      "\n",
      "[[1.828358 1.828342]\n",
      " [1.828388 1.828546]\n",
      " [1.828388 1.828602]\n",
      " [1.828388 1.828602]\n",
      " [1.828388 1.828602]]\n",
      "[[1.801078 1.800142]\n",
      " [1.801078 1.800095]\n",
      " [1.800908 1.799901]\n",
      " [1.800908 1.799742]\n",
      " [1.800525 1.799565]\n",
      " [1.800008 1.798795]\n",
      " [1.799918 1.798795]\n",
      " [1.800258 1.798795]\n",
      " [1.800318 1.798795]\n",
      " [1.800318 1.798795]]\n",
      "Numpy size:          (29950, 2)\n"
     ]
    },
    {
     "name": "stderr",
     "output_type": "stream",
     "text": [
      "\n"
     ]
    }
   ],
   "source": [
    "# Chech the result:\n",
    "# Your result from running the cell above must match the result in this cell."
   ]
  },
  {
   "cell_type": "markdown",
   "metadata": {},
   "source": [
    "#### Now just press 'CTRL' and 'ENTER' keys on the next cell."
   ]
  },
  {
   "cell_type": "code",
   "execution_count": 85,
   "metadata": {},
   "outputs": [
    {
     "name": "stdout",
     "output_type": "stream",
     "text": [
      "random int =  16487\n",
      "data_b: \t\t Y:\n",
      "Y_High_Bid  \t\t Y_High_Bid\n",
      "1.812938 \t\t 1.812938\n",
      "1.812776 \t\t 1.812776\n",
      "1.812718 \t\t 1.812718\n",
      "1.812478 \t\t 1.812478\n",
      "1.812228 \t\t 1.812238\n",
      "1.812191 \t\t 1.812428\n",
      "1.811978 \t\t 1.812428\n",
      "1.811978 \t\t 1.812428\n",
      "1.812238 \t\t 1.812428\n",
      "1.812428 \t\t 1.812428\n",
      "1.812378 \t\t 1.812378\n",
      "1.812258 \t\t 1.812258\n",
      "1.812184 \t\t 1.812184\n",
      "1.811928 \t\t 1.811928\n",
      "1.811668 \t\t 1.811668\n"
     ]
    }
   ],
   "source": [
    "# Control of the correctness of filling the array Y \n",
    "# (should show MAX of the normalised prices High_Bid and Low_Ask - during 5 next minutes(step) ahead)\n",
    "\n",
    "\n",
    "import random\n",
    "\n",
    "pp = random.randint(50, L) # (any number before 29950) - just to look at the middle of data_b\n",
    "print('random int = ', pp)\n",
    "\n",
    "print('data_b:', '\\t\\t','Y:')\n",
    "print('Y_High_Bid ','\\t\\t','Y_High_Bid')\n",
    "\n",
    "for i in range(15):\n",
    "    print(data_b[pp+i,N-1,1], '\\t\\t', Y[pp+i,0])"
   ]
  },
  {
   "cell_type": "code",
   "execution_count": 94,
   "metadata": {},
   "outputs": [
    {
     "name": "stdout",
     "output_type": "stream",
     "text": [
      "random int =  23368\n",
      "data_b: \t\t Y:\n",
      "Y_High_Bid  \t\t Y_High_Bid\n",
      "1.847478 \t\t 1.847648\n",
      "1.847568 \t\t 1.847648\n",
      "1.847648 \t\t 1.847568\n",
      "1.847568 \t\t 1.847558\n",
      "1.847558 \t\t 1.847508\n",
      "1.847468 \t\t 1.847508\n",
      "1.847508 \t\t 1.847508\n",
      "1.847508 \t\t 1.847558\n",
      "1.847418 \t\t 1.847808\n",
      "1.847488 \t\t 1.848198\n",
      "1.847494 \t\t 1.848248\n",
      "1.847358 \t\t 1.848248\n",
      "1.847558 \t\t 1.848248\n",
      "1.847808 \t\t 1.848588\n",
      "1.848198 \t\t 1.848588\n"
     ]
    }
   ],
   "source": [
    "# Chech the result:\n",
    "# Your result from running the cell above must match the result in this cell."
   ]
  },
  {
   "cell_type": "code",
   "execution_count": 96,
   "metadata": {},
   "outputs": [],
   "source": [
    "# Each rows of Y above must have maximum of prices of 5 minute ahead"
   ]
  },
  {
   "attachments": {
    "9ab05117-ce0f-49fe-ae30-4179c03e73c9.png": {
     "image/png": "[encoded data removed]"
    }
   },
   "cell_type": "markdown",
   "metadata": {},
   "source": [
    "_________________________![image.png](attachment:9ab05117-ce0f-49fe-ae30-4179c03e73c9.png)"
   ]
  },
  {
   "cell_type": "code",
   "execution_count": 87,
   "metadata": {},
   "outputs": [],
   "source": [
    "data = []\n",
    "data_ax = []\n",
    "data_ay = []\n",
    "data_a = []\n",
    "data_y = []\n"
   ]
  },
  {
   "cell_type": "code",
   "execution_count": null,
   "metadata": {},
   "outputs": [],
   "source": []
  },
  {
   "cell_type": "markdown",
   "metadata": {},
   "source": [
    "<html> <h2 style=\"font-style:italic; olor:blue;\"> Train Test Split </h2> </html>\n",
    "\n",
    "- 90% for training and validation\n",
    "- 10% for testing"
   ]
  },
  {
   "attachments": {
    "6a4fcda7-5078-4e89-a50c-2fb67dd43772.png": {
     "image/png": "[encoded data removed]"
    }
   },
   "cell_type": "markdown",
   "metadata": {},
   "source": [
    "_________________________![image.png](attachment:6a4fcda7-5078-4e89-a50c-2fb67dd43772.png)"
   ]
  },
  {
   "cell_type": "code",
   "execution_count": 89,
   "metadata": {},
   "outputs": [],
   "source": [
    "from sklearn.model_selection import train_test_split"
   ]
  },
  {
   "cell_type": "code",
   "execution_count": 102,
   "metadata": {},
   "outputs": [],
   "source": []
  },
  {
   "cell_type": "markdown",
   "metadata": {},
   "source": [
    "<html> <h3 style=\"font-style:bold; color:red;\"> !!! Use parameters: shuffle = False, stratify = None\n",
    "\n",
    "Otherwise, the whole time series will be mixed up!\n",
    "</h3> </html>"
   ]
  },
  {
   "attachments": {
    "22312254-f6d6-4496-9f85-cbcf4a99e7e2.png": {
     "image/png": "[encoded data removed]"
    }
   },
   "cell_type": "markdown",
   "metadata": {},
   "source": [
    "________________![image.png](attachment:22312254-f6d6-4496-9f85-cbcf4a99e7e2.png)"
   ]
  },
  {
   "cell_type": "code",
   "execution_count": 91,
   "metadata": {},
   "outputs": [],
   "source": [
    "x_train, x_test, y_train, y_test = train_test_split(data_b, Y, test_size=0.1,\n",
    "                                                   shuffle = False, stratify = None, random_state=101)"
   ]
  },
  {
   "cell_type": "code",
   "execution_count": null,
   "metadata": {},
   "outputs": [],
   "source": []
  },
  {
   "attachments": {
    "b79a1273-ab1d-4525-a6db-27b4639b35ca.png": {
     "image/png": "[encoded data removed]"
    }
   },
   "cell_type": "markdown",
   "metadata": {},
   "source": [
    "_____________![image.png](attachment:b79a1273-ab1d-4525-a6db-27b4639b35ca.png)"
   ]
  },
  {
   "cell_type": "code",
   "execution_count": 93,
   "metadata": {},
   "outputs": [
    {
     "name": "stdout",
     "output_type": "stream",
     "text": [
      "(26955, 50, 18)\n",
      "(26955, 2)\n",
      "(2995, 50, 18)\n",
      "(2995, 2)\n"
     ]
    }
   ],
   "source": [
    "print(x_train.shape)\n",
    "print(y_train.shape)\n",
    "print(x_test.shape)\n",
    "print(y_test.shape)"
   ]
  },
  {
   "cell_type": "code",
   "execution_count": 107,
   "metadata": {},
   "outputs": [
    {
     "name": "stdout",
     "output_type": "stream",
     "text": [
      "(26955, 50, 18)\n",
      "(26955, 2)\n",
      "(2995, 50, 18)\n",
      "(2995, 2)\n"
     ]
    }
   ],
   "source": []
  },
  {
   "cell_type": "code",
   "execution_count": null,
   "metadata": {},
   "outputs": [],
   "source": []
  },
  {
   "cell_type": "markdown",
   "metadata": {
    "id": "L2xo84xhHWmt"
   },
   "source": [
    "<html> <h2 style=\"color:blue;\"> Training </h2> </html>"
   ]
  },
  {
   "cell_type": "markdown",
   "metadata": {},
   "source": [
    "<html> <h3 style=\"color:blue;\"> LSTM </h3> </html>"
   ]
  },
  {
   "attachments": {
    "4d8d6d7f-f33d-4c92-8483-9bbd9a2466c8.png": {
     "image/png": "[encoded data removed]"
    }
   },
   "cell_type": "markdown",
   "metadata": {},
   "source": [
    "___________________________![image.png](attachment:4d8d6d7f-f33d-4c92-8483-9bbd9a2466c8.png)"
   ]
  },
  {
   "cell_type": "code",
   "execution_count": 95,
   "metadata": {},
   "outputs": [
    {
     "name": "stderr",
     "output_type": "stream",
     "text": [
      "C:\\Users\\Admin\\anaconda3\\Lib\\site-packages\\keras\\src\\layers\\rnn\\rnn.py:204: UserWarning: Do not pass an `input_shape`/`input_dim` argument to a layer. When using Sequential models, prefer using an `Input(shape)` object as the first layer in the model instead.\n",
      "  super().__init__(**kwargs)\n"
     ]
    }
   ],
   "source": [
    "model = keras.Sequential([\n",
    "    \n",
    "    keras.layers.LSTM(100, activation='relu', input_shape=(50, 18)),\n",
    "    keras.layers.Dense(2)\n",
    "])"
   ]
  },
  {
   "cell_type": "code",
   "execution_count": 112,
   "metadata": {
    "colab": {
     "base_uri": "https://localhost:8080/"
    },
    "id": "MSsIt1q-Hauo",
    "outputId": "4d3cf7c7-1e02-467d-c727-1096a5df2987"
   },
   "outputs": [
    {
     "name": "stderr",
     "output_type": "stream",
     "text": [
      "C:\\Users\\vital\\anaconda3\\Lib\\site-packages\\keras\\src\\layers\\rnn\\rnn.py:204: UserWarning: Do not pass an `input_shape`/`input_dim` argument to a layer. When using Sequential models, prefer using an `Input(shape)` object as the first layer in the model instead.\n",
      "  super().__init__(**kwargs)\n"
     ]
    }
   ],
   "source": []
  },
  {
   "attachments": {
    "6aa5d24d-9b71-4ce1-ba05-8a4491077cda.png": {
     "image/png": "[encoded data removed]"
    }
   },
   "cell_type": "markdown",
   "metadata": {},
   "source": [
    "_________________________![image.png](attachment:6aa5d24d-9b71-4ce1-ba05-8a4491077cda.png)"
   ]
  },
  {
   "cell_type": "code",
   "execution_count": 97,
   "metadata": {},
   "outputs": [
    {
     "data": {
      "text/html": [
       "<pre style=\"white-space:pre;overflow-x:auto;line-height:normal;font-family:Menlo,'DejaVu Sans Mono',consolas,'Courier New',monospace\"><span style=\"font-weight: bold\">Model: \"sequential\"</span>\n",
       "</pre>\n"
      ],
      "text/plain": [
       "\u001b[1mModel: \"sequential\"\u001b[0m\n"
      ]
     },
     "metadata": {},
     "output_type": "display_data"
    },
    {
     "data": {
      "text/html": [
       "<pre style=\"white-space:pre;overflow-x:auto;line-height:normal;font-family:Menlo,'DejaVu Sans Mono',consolas,'Courier New',monospace\">┏━━━━━━━━━━━━━━━━━━━━━━━━━━━━━━━━━┳━━━━━━━━━━━━━━━━━━━━━━━━┳━━━━━━━━━━━━━━━┓\n",
       "┃<span style=\"font-weight: bold\"> Layer (type)                    </span>┃<span style=\"font-weight: bold\"> Output Shape           </span>┃<span style=\"font-weight: bold\">       Param # </span>┃\n",
       "┡━━━━━━━━━━━━━━━━━━━━━━━━━━━━━━━━━╇━━━━━━━━━━━━━━━━━━━━━━━━╇━━━━━━━━━━━━━━━┩\n",
       "│ lstm (<span style=\"color: #0087ff; text-decoration-color: #0087ff\">LSTM</span>)                     │ (<span style=\"color: #00d7ff; text-decoration-color: #00d7ff\">None</span>, <span style=\"color: #00af00; text-decoration-color: #00af00\">100</span>)            │        <span style=\"color: #00af00; text-decoration-color: #00af00\">47,600</span> │\n",
       "├─────────────────────────────────┼────────────────────────┼───────────────┤\n",
       "│ dense (<span style=\"color: #0087ff; text-decoration-color: #0087ff\">Dense</span>)                   │ (<span style=\"color: #00d7ff; text-decoration-color: #00d7ff\">None</span>, <span style=\"color: #00af00; text-decoration-color: #00af00\">2</span>)              │           <span style=\"color: #00af00; text-decoration-color: #00af00\">202</span> │\n",
       "└─────────────────────────────────┴────────────────────────┴───────────────┘\n",
       "</pre>\n"
      ],
      "text/plain": [
       "┏━━━━━━━━━━━━━━━━━━━━━━━━━━━━━━━━━┳━━━━━━━━━━━━━━━━━━━━━━━━┳━━━━━━━━━━━━━━━┓\n",
       "┃\u001b[1m \u001b[0m\u001b[1mLayer (type)                   \u001b[0m\u001b[1m \u001b[0m┃\u001b[1m \u001b[0m\u001b[1mOutput Shape          \u001b[0m\u001b[1m \u001b[0m┃\u001b[1m \u001b[0m\u001b[1m      Param #\u001b[0m\u001b[1m \u001b[0m┃\n",
       "┡━━━━━━━━━━━━━━━━━━━━━━━━━━━━━━━━━╇━━━━━━━━━━━━━━━━━━━━━━━━╇━━━━━━━━━━━━━━━┩\n",
       "│ lstm (\u001b[38;5;33mLSTM\u001b[0m)                     │ (\u001b[38;5;45mNone\u001b[0m, \u001b[38;5;34m100\u001b[0m)            │        \u001b[38;5;34m47,600\u001b[0m │\n",
       "├─────────────────────────────────┼────────────────────────┼───────────────┤\n",
       "│ dense (\u001b[38;5;33mDense\u001b[0m)                   │ (\u001b[38;5;45mNone\u001b[0m, \u001b[38;5;34m2\u001b[0m)              │           \u001b[38;5;34m202\u001b[0m │\n",
       "└─────────────────────────────────┴────────────────────────┴───────────────┘\n"
      ]
     },
     "metadata": {},
     "output_type": "display_data"
    },
    {
     "data": {
      "text/html": [
       "<pre style=\"white-space:pre;overflow-x:auto;line-height:normal;font-family:Menlo,'DejaVu Sans Mono',consolas,'Courier New',monospace\"><span style=\"font-weight: bold\"> Total params: </span><span style=\"color: #00af00; text-decoration-color: #00af00\">47,802</span> (186.73 KB)\n",
       "</pre>\n"
      ],
      "text/plain": [
       "\u001b[1m Total params: \u001b[0m\u001b[38;5;34m47,802\u001b[0m (186.73 KB)\n"
      ]
     },
     "metadata": {},
     "output_type": "display_data"
    },
    {
     "data": {
      "text/html": [
       "<pre style=\"white-space:pre;overflow-x:auto;line-height:normal;font-family:Menlo,'DejaVu Sans Mono',consolas,'Courier New',monospace\"><span style=\"font-weight: bold\"> Trainable params: </span><span style=\"color: #00af00; text-decoration-color: #00af00\">47,802</span> (186.73 KB)\n",
       "</pre>\n"
      ],
      "text/plain": [
       "\u001b[1m Trainable params: \u001b[0m\u001b[38;5;34m47,802\u001b[0m (186.73 KB)\n"
      ]
     },
     "metadata": {},
     "output_type": "display_data"
    },
    {
     "data": {
      "text/html": [
       "<pre style=\"white-space:pre;overflow-x:auto;line-height:normal;font-family:Menlo,'DejaVu Sans Mono',consolas,'Courier New',monospace\"><span style=\"font-weight: bold\"> Non-trainable params: </span><span style=\"color: #00af00; text-decoration-color: #00af00\">0</span> (0.00 B)\n",
       "</pre>\n"
      ],
      "text/plain": [
       "\u001b[1m Non-trainable params: \u001b[0m\u001b[38;5;34m0\u001b[0m (0.00 B)\n"
      ]
     },
     "metadata": {},
     "output_type": "display_data"
    },
    {
     "name": "stdout",
     "output_type": "stream",
     "text": [
      "None\n"
     ]
    }
   ],
   "source": [
    "print(model.summary())"
   ]
  },
  {
   "cell_type": "code",
   "execution_count": 114,
   "metadata": {},
   "outputs": [
    {
     "data": {
      "text/html": [
       "<pre style=\"white-space:pre;overflow-x:auto;line-height:normal;font-family:Menlo,'DejaVu Sans Mono',consolas,'Courier New',monospace\"><span style=\"font-weight: bold\">Model: \"sequential\"</span>\n",
       "</pre>\n"
      ],
      "text/plain": [
       "\u001b[1mModel: \"sequential\"\u001b[0m\n"
      ]
     },
     "metadata": {},
     "output_type": "display_data"
    },
    {
     "data": {
      "text/html": [
       "<pre style=\"white-space:pre;overflow-x:auto;line-height:normal;font-family:Menlo,'DejaVu Sans Mono',consolas,'Courier New',monospace\">┏━━━━━━━━━━━━━━━━━━━━━━━━━━━━━━━━━┳━━━━━━━━━━━━━━━━━━━━━━━━┳━━━━━━━━━━━━━━━┓\n",
       "┃<span style=\"font-weight: bold\"> Layer (type)                    </span>┃<span style=\"font-weight: bold\"> Output Shape           </span>┃<span style=\"font-weight: bold\">       Param # </span>┃\n",
       "┡━━━━━━━━━━━━━━━━━━━━━━━━━━━━━━━━━╇━━━━━━━━━━━━━━━━━━━━━━━━╇━━━━━━━━━━━━━━━┩\n",
       "│ lstm (<span style=\"color: #0087ff; text-decoration-color: #0087ff\">LSTM</span>)                     │ (<span style=\"color: #00d7ff; text-decoration-color: #00d7ff\">None</span>, <span style=\"color: #00af00; text-decoration-color: #00af00\">100</span>)            │        <span style=\"color: #00af00; text-decoration-color: #00af00\">47,600</span> │\n",
       "├─────────────────────────────────┼────────────────────────┼───────────────┤\n",
       "│ dense (<span style=\"color: #0087ff; text-decoration-color: #0087ff\">Dense</span>)                   │ (<span style=\"color: #00d7ff; text-decoration-color: #00d7ff\">None</span>, <span style=\"color: #00af00; text-decoration-color: #00af00\">2</span>)              │           <span style=\"color: #00af00; text-decoration-color: #00af00\">202</span> │\n",
       "└─────────────────────────────────┴────────────────────────┴───────────────┘\n",
       "</pre>\n"
      ],
      "text/plain": [
       "┏━━━━━━━━━━━━━━━━━━━━━━━━━━━━━━━━━┳━━━━━━━━━━━━━━━━━━━━━━━━┳━━━━━━━━━━━━━━━┓\n",
       "┃\u001b[1m \u001b[0m\u001b[1mLayer (type)                   \u001b[0m\u001b[1m \u001b[0m┃\u001b[1m \u001b[0m\u001b[1mOutput Shape          \u001b[0m\u001b[1m \u001b[0m┃\u001b[1m \u001b[0m\u001b[1m      Param #\u001b[0m\u001b[1m \u001b[0m┃\n",
       "┡━━━━━━━━━━━━━━━━━━━━━━━━━━━━━━━━━╇━━━━━━━━━━━━━━━━━━━━━━━━╇━━━━━━━━━━━━━━━┩\n",
       "│ lstm (\u001b[38;5;33mLSTM\u001b[0m)                     │ (\u001b[38;5;45mNone\u001b[0m, \u001b[38;5;34m100\u001b[0m)            │        \u001b[38;5;34m47,600\u001b[0m │\n",
       "├─────────────────────────────────┼────────────────────────┼───────────────┤\n",
       "│ dense (\u001b[38;5;33mDense\u001b[0m)                   │ (\u001b[38;5;45mNone\u001b[0m, \u001b[38;5;34m2\u001b[0m)              │           \u001b[38;5;34m202\u001b[0m │\n",
       "└─────────────────────────────────┴────────────────────────┴───────────────┘\n"
      ]
     },
     "metadata": {},
     "output_type": "display_data"
    },
    {
     "data": {
      "text/html": [
       "<pre style=\"white-space:pre;overflow-x:auto;line-height:normal;font-family:Menlo,'DejaVu Sans Mono',consolas,'Courier New',monospace\"><span style=\"font-weight: bold\"> Total params: </span><span style=\"color: #00af00; text-decoration-color: #00af00\">47,802</span> (186.73 KB)\n",
       "</pre>\n"
      ],
      "text/plain": [
       "\u001b[1m Total params: \u001b[0m\u001b[38;5;34m47,802\u001b[0m (186.73 KB)\n"
      ]
     },
     "metadata": {},
     "output_type": "display_data"
    },
    {
     "data": {
      "text/html": [
       "<pre style=\"white-space:pre;overflow-x:auto;line-height:normal;font-family:Menlo,'DejaVu Sans Mono',consolas,'Courier New',monospace\"><span style=\"font-weight: bold\"> Trainable params: </span><span style=\"color: #00af00; text-decoration-color: #00af00\">47,802</span> (186.73 KB)\n",
       "</pre>\n"
      ],
      "text/plain": [
       "\u001b[1m Trainable params: \u001b[0m\u001b[38;5;34m47,802\u001b[0m (186.73 KB)\n"
      ]
     },
     "metadata": {},
     "output_type": "display_data"
    },
    {
     "data": {
      "text/html": [
       "<pre style=\"white-space:pre;overflow-x:auto;line-height:normal;font-family:Menlo,'DejaVu Sans Mono',consolas,'Courier New',monospace\"><span style=\"font-weight: bold\"> Non-trainable params: </span><span style=\"color: #00af00; text-decoration-color: #00af00\">0</span> (0.00 B)\n",
       "</pre>\n"
      ],
      "text/plain": [
       "\u001b[1m Non-trainable params: \u001b[0m\u001b[38;5;34m0\u001b[0m (0.00 B)\n"
      ]
     },
     "metadata": {},
     "output_type": "display_data"
    },
    {
     "name": "stdout",
     "output_type": "stream",
     "text": [
      "None\n"
     ]
    }
   ],
   "source": []
  },
  {
   "cell_type": "markdown",
   "metadata": {},
   "source": [
    "<html> <h3 style=\"font-style:italic; color:blue;\"> Callbacks </h3> </html>"
   ]
  },
  {
   "attachments": {
    "8be9a46e-ce3b-4b4a-9c89-25d7ba033d03.png": {
     "image/png": "[encoded data removed]"
    }
   },
   "cell_type": "markdown",
   "metadata": {},
   "source": [
    "__________________________![image.png](attachment:8be9a46e-ce3b-4b4a-9c89-25d7ba033d03.png)"
   ]
  },
  {
   "cell_type": "code",
   "execution_count": 101,
   "metadata": {},
   "outputs": [],
   "source": [
    "model.compile(optimizer=\"adam\", loss=\"mse\", metrics=[\"mae\"])"
   ]
  },
  {
   "cell_type": "code",
   "execution_count": 117,
   "metadata": {
    "id": "nxsl9eGBBgX1"
   },
   "outputs": [],
   "source": []
  },
  {
   "attachments": {},
   "cell_type": "markdown",
   "metadata": {},
   "source": [
    "#### Now just press 'CTRL' and 'ENTER' keys on the next cell."
   ]
  },
  {
   "cell_type": "code",
   "execution_count": 103,
   "metadata": {},
   "outputs": [],
   "source": [
    "# Early Stopping parameters\n",
    "\n",
    "es = EarlyStopping(monitor='val_loss', mode='min', patience=5, verbose=1)\n",
    "mc = ModelCheckpoint('best_model_LSTM_GOLD.keras', monitor='val_loss', mode='min', verbose=1, save_best_only=True)"
   ]
  },
  {
   "cell_type": "markdown",
   "metadata": {},
   "source": [
    "<html> <h4 style=\"font-style:bold; color:red;\"> If you are using your own laptop without a GPU (Graphics processing unit), \n",
    "\n",
    "please change the following parameter in the next cell  </h4> </html>\n",
    "<html> <h3 style=\"font-style:bold; color:blue;\">\n",
    "epochs=10\n",
    "</h3> </html>\n"
   ]
  },
  {
   "attachments": {
    "84fb1bd1-406e-4fd2-a086-5998ad9e1dcd.png": {
     "image/png": "[encoded data removed]"
    }
   },
   "cell_type": "markdown",
   "metadata": {},
   "source": [
    "__________________________![image.png](attachment:84fb1bd1-406e-4fd2-a086-5998ad9e1dcd.png)"
   ]
  },
  {
   "cell_type": "code",
   "execution_count": null,
   "metadata": {},
   "outputs": [
    {
     "name": "stdout",
     "output_type": "stream",
     "text": [
      "Epoch 1/20\n",
      "\u001b[1m1212/1213\u001b[0m \u001b[32m━━━━━━━━━━━━━━━━━━━\u001b[0m\u001b[37m━\u001b[0m \u001b[1m0s\u001b[0m 44ms/step - loss: 0.0854 - mae: 0.0724\n",
      "Epoch 1: val_loss improved from inf to 0.00005, saving model to best_model_LSTM_GOLD.keras\n",
      "\u001b[1m1213/1213\u001b[0m \u001b[32m━━━━━━━━━━━━━━━━━━━━\u001b[0m\u001b[37m\u001b[0m \u001b[1m67s\u001b[0m 46ms/step - loss: 0.0853 - mae: 0.0723 - val_loss: 5.3932e-05 - val_mae: 0.0065\n",
      "Epoch 2/20\n",
      "\u001b[1m 437/1213\u001b[0m \u001b[32m━━━━━━━\u001b[0m\u001b[37m━━━━━━━━━━━━━\u001b[0m \u001b[1m40s\u001b[0m 53ms/step - loss: 3.5345e-05 - mae: 0.0048"
     ]
    }
   ],
   "source": [
    "history = model.fit(x_train,y_train, batch_size=20, epochs=20,\n",
    "                   validation_split=0.1, shuffle=True,\n",
    "                   verbose=1, callbacks= [es, mc])"
   ]
  },
  {
   "cell_type": "code",
   "execution_count": 124,
   "metadata": {},
   "outputs": [
    {
     "name": "stdout",
     "output_type": "stream",
     "text": [
      "Epoch 1/20\n",
      "\u001b[1m1211/1213\u001b[0m \u001b[32m━━━━━━━━━━━━━━━━━━━\u001b[0m\u001b[37m━\u001b[0m \u001b[1m0s\u001b[0m 12ms/step - loss: 0.0529 - mae: 0.0523\n",
      "Epoch 1: val_loss improved from inf to 0.00002, saving model to best_model_LSTM_GOLD.keras\n",
      "\u001b[1m1213/1213\u001b[0m \u001b[32m━━━━━━━━━━━━━━━━━━━━\u001b[0m\u001b[37m\u001b[0m \u001b[1m17s\u001b[0m 12ms/step - loss: 0.0527 - mae: 0.0522 - val_loss: 2.0870e-05 - val_mae: 0.0033\n",
      "Epoch 2/20\n",
      "\u001b[1m1210/1213\u001b[0m \u001b[32m━━━━━━━━━━━━━━━━━━━\u001b[0m\u001b[37m━\u001b[0m \u001b[1m0s\u001b[0m 12ms/step - loss: 1.9688e-05 - mae: 0.0035\n",
      "Epoch 2: val_loss improved from 0.00002 to 0.00002, saving model to best_model_LSTM_GOLD.keras\n",
      "\u001b[1m1213/1213\u001b[0m \u001b[32m━━━━━━━━━━━━━━━━━━━━\u001b[0m\u001b[37m\u001b[0m \u001b[1m15s\u001b[0m 12ms/step - loss: 1.9688e-05 - mae: 0.0035 - val_loss: 1.8964e-05 - val_mae: 0.0032\n",
      "Epoch 3/20\n",
      "\u001b[1m1212/1213\u001b[0m \u001b[32m━━━━━━━━━━━━━━━━━━━\u001b[0m\u001b[37m━\u001b[0m \u001b[1m0s\u001b[0m 12ms/step - loss: 2.0251e-05 - mae: 0.0035\n",
      "Epoch 3: val_loss did not improve from 0.00002\n",
      "\u001b[1m1213/1213\u001b[0m \u001b[32m━━━━━━━━━━━━━━━━━━━━\u001b[0m\u001b[37m\u001b[0m \u001b[1m15s\u001b[0m 12ms/step - loss: 2.0252e-05 - mae: 0.0035 - val_loss: 1.9401e-05 - val_mae: 0.0038\n",
      "Epoch 4/20\n",
      "\u001b[1m1210/1213\u001b[0m \u001b[32m━━━━━━━━━━━━━━━━━━━\u001b[0m\u001b[37m━\u001b[0m \u001b[1m0s\u001b[0m 11ms/step - loss: 2.3436e-05 - mae: 0.0038\n",
      "Epoch 4: val_loss improved from 0.00002 to 0.00002, saving model to best_model_LSTM_GOLD.keras\n",
      "\u001b[1m1213/1213\u001b[0m \u001b[32m━━━━━━━━━━━━━━━━━━━━\u001b[0m\u001b[37m\u001b[0m \u001b[1m15s\u001b[0m 12ms/step - loss: 2.3450e-05 - mae: 0.0038 - val_loss: 1.8706e-05 - val_mae: 0.0037\n",
      "Epoch 5/20\n",
      "\u001b[1m1211/1213\u001b[0m \u001b[32m━━━━━━━━━━━━━━━━━━━\u001b[0m\u001b[37m━\u001b[0m \u001b[1m0s\u001b[0m 12ms/step - loss: 3.0718e-05 - mae: 0.0044\n",
      "Epoch 5: val_loss did not improve from 0.00002\n",
      "\u001b[1m1213/1213\u001b[0m \u001b[32m━━━━━━━━━━━━━━━━━━━━\u001b[0m\u001b[37m\u001b[0m \u001b[1m15s\u001b[0m 12ms/step - loss: 3.0722e-05 - mae: 0.0044 - val_loss: 3.8604e-05 - val_mae: 0.0055\n",
      "Epoch 6/20\n",
      "\u001b[1m1210/1213\u001b[0m \u001b[32m━━━━━━━━━━━━━━━━━━━\u001b[0m\u001b[37m━\u001b[0m \u001b[1m0s\u001b[0m 12ms/step - loss: 2.9905e-05 - mae: 0.0044\n",
      "Epoch 6: val_loss improved from 0.00002 to 0.00000, saving model to best_model_LSTM_GOLD.keras\n",
      "\u001b[1m1213/1213\u001b[0m \u001b[32m━━━━━━━━━━━━━━━━━━━━\u001b[0m\u001b[37m\u001b[0m \u001b[1m15s\u001b[0m 12ms/step - loss: 2.9904e-05 - mae: 0.0044 - val_loss: 3.9406e-06 - val_mae: 0.0015\n",
      "Epoch 7/20\n",
      "\u001b[1m1212/1213\u001b[0m \u001b[32m━━━━━━━━━━━━━━━━━━━\u001b[0m\u001b[37m━\u001b[0m \u001b[1m0s\u001b[0m 11ms/step - loss: 3.2089e-05 - mae: 0.0044\n",
      "Epoch 7: val_loss did not improve from 0.00000\n",
      "\u001b[1m1213/1213\u001b[0m \u001b[32m━━━━━━━━━━━━━━━━━━━━\u001b[0m\u001b[37m\u001b[0m \u001b[1m14s\u001b[0m 12ms/step - loss: 3.2080e-05 - mae: 0.0044 - val_loss: 7.1235e-06 - val_mae: 0.0023\n",
      "Epoch 8/20\n",
      "\u001b[1m1211/1213\u001b[0m \u001b[32m━━━━━━━━━━━━━━━━━━━\u001b[0m\u001b[37m━\u001b[0m \u001b[1m0s\u001b[0m 11ms/step - loss: 2.4646e-05 - mae: 0.0039\n",
      "Epoch 8: val_loss did not improve from 0.00000\n",
      "\u001b[1m1213/1213\u001b[0m \u001b[32m━━━━━━━━━━━━━━━━━━━━\u001b[0m\u001b[37m\u001b[0m \u001b[1m14s\u001b[0m 12ms/step - loss: 2.4644e-05 - mae: 0.0039 - val_loss: 4.7874e-06 - val_mae: 0.0018\n",
      "Epoch 9/20\n",
      "\u001b[1m1210/1213\u001b[0m \u001b[32m━━━━━━━━━━━━━━━━━━━\u001b[0m\u001b[37m━\u001b[0m \u001b[1m0s\u001b[0m 12ms/step - loss: 1.7988e-05 - mae: 0.0033\n",
      "Epoch 9: val_loss improved from 0.00000 to 0.00000, saving model to best_model_LSTM_GOLD.keras\n",
      "\u001b[1m1213/1213\u001b[0m \u001b[32m━━━━━━━━━━━━━━━━━━━━\u001b[0m\u001b[37m\u001b[0m \u001b[1m15s\u001b[0m 12ms/step - loss: 1.7992e-05 - mae: 0.0033 - val_loss: 3.0009e-06 - val_mae: 0.0013\n",
      "Epoch 10/20\n",
      "\u001b[1m1211/1213\u001b[0m \u001b[32m━━━━━━━━━━━━━━━━━━━\u001b[0m\u001b[37m━\u001b[0m \u001b[1m0s\u001b[0m 12ms/step - loss: 1.6848e-05 - mae: 0.0033\n",
      "Epoch 10: val_loss did not improve from 0.00000\n",
      "\u001b[1m1213/1213\u001b[0m \u001b[32m━━━━━━━━━━━━━━━━━━━━\u001b[0m\u001b[37m\u001b[0m \u001b[1m15s\u001b[0m 12ms/step - loss: 1.6850e-05 - mae: 0.0033 - val_loss: 4.5427e-06 - val_mae: 0.0019\n",
      "Epoch 11/20\n",
      "\u001b[1m1209/1213\u001b[0m \u001b[32m━━━━━━━━━━━━━━━━━━━\u001b[0m\u001b[37m━\u001b[0m \u001b[1m0s\u001b[0m 12ms/step - loss: 1.5444e-05 - mae: 0.0031\n",
      "Epoch 11: val_loss did not improve from 0.00000\n",
      "\u001b[1m1213/1213\u001b[0m \u001b[32m━━━━━━━━━━━━━━━━━━━━\u001b[0m\u001b[37m\u001b[0m \u001b[1m15s\u001b[0m 12ms/step - loss: 1.5445e-05 - mae: 0.0031 - val_loss: 1.4737e-05 - val_mae: 0.0037\n",
      "Epoch 12/20\n",
      "\u001b[1m1211/1213\u001b[0m \u001b[32m━━━━━━━━━━━━━━━━━━━\u001b[0m\u001b[37m━\u001b[0m \u001b[1m0s\u001b[0m 12ms/step - loss: 1.8235e-05 - mae: 0.0034\n",
      "Epoch 12: val_loss did not improve from 0.00000\n",
      "\u001b[1m1213/1213\u001b[0m \u001b[32m━━━━━━━━━━━━━━━━━━━━\u001b[0m\u001b[37m\u001b[0m \u001b[1m15s\u001b[0m 12ms/step - loss: 1.8231e-05 - mae: 0.0034 - val_loss: 4.9655e-06 - val_mae: 0.0020\n",
      "Epoch 13/20\n",
      "\u001b[1m1211/1213\u001b[0m \u001b[32m━━━━━━━━━━━━━━━━━━━\u001b[0m\u001b[37m━\u001b[0m \u001b[1m0s\u001b[0m 12ms/step - loss: 4.7521e-05 - mae: 0.0030\n",
      "Epoch 13: val_loss improved from 0.00000 to 0.00000, saving model to best_model_LSTM_GOLD.keras\n",
      "\u001b[1m1213/1213\u001b[0m \u001b[32m━━━━━━━━━━━━━━━━━━━━\u001b[0m\u001b[37m\u001b[0m \u001b[1m15s\u001b[0m 12ms/step - loss: 4.7766e-05 - mae: 0.0030 - val_loss: 1.9344e-06 - val_mae: 0.0010\n",
      "Epoch 14/20\n",
      "\u001b[1m1212/1213\u001b[0m \u001b[32m━━━━━━━━━━━━━━━━━━━\u001b[0m\u001b[37m━\u001b[0m \u001b[1m0s\u001b[0m 12ms/step - loss: 1.8937e-06 - mae: 0.0011\n",
      "Epoch 14: val_loss improved from 0.00000 to 0.00000, saving model to best_model_LSTM_GOLD.keras\n",
      "\u001b[1m1213/1213\u001b[0m \u001b[32m━━━━━━━━━━━━━━━━━━━━\u001b[0m\u001b[37m\u001b[0m \u001b[1m15s\u001b[0m 12ms/step - loss: 1.8937e-06 - mae: 0.0011 - val_loss: 1.5162e-06 - val_mae: 9.1248e-04\n",
      "Epoch 15/20\n",
      "\u001b[1m1212/1213\u001b[0m \u001b[32m━━━━━━━━━━━━━━━━━━━\u001b[0m\u001b[37m━\u001b[0m \u001b[1m0s\u001b[0m 12ms/step - loss: 3.0338e-06 - mae: 0.0013\n",
      "Epoch 15: val_loss improved from 0.00000 to 0.00000, saving model to best_model_LSTM_GOLD.keras\n",
      "\u001b[1m1213/1213\u001b[0m \u001b[32m━━━━━━━━━━━━━━━━━━━━\u001b[0m\u001b[37m\u001b[0m \u001b[1m15s\u001b[0m 12ms/step - loss: 3.0354e-06 - mae: 0.0013 - val_loss: 1.3340e-06 - val_mae: 8.2486e-04\n",
      "Epoch 16/20\n",
      "\u001b[1m1209/1213\u001b[0m \u001b[32m━━━━━━━━━━━━━━━━━━━\u001b[0m\u001b[37m━\u001b[0m \u001b[1m0s\u001b[0m 12ms/step - loss: 8.9042e-06 - mae: 0.0024\n",
      "Epoch 16: val_loss did not improve from 0.00000\n",
      "\u001b[1m1213/1213\u001b[0m \u001b[32m━━━━━━━━━━━━━━━━━━━━\u001b[0m\u001b[37m\u001b[0m \u001b[1m15s\u001b[0m 12ms/step - loss: 8.9064e-06 - mae: 0.0024 - val_loss: 2.9851e-05 - val_mae: 0.0054\n",
      "Epoch 17/20\n",
      "\u001b[1m1212/1213\u001b[0m \u001b[32m━━━━━━━━━━━━━━━━━━━\u001b[0m\u001b[37m━\u001b[0m \u001b[1m0s\u001b[0m 12ms/step - loss: 1.1023e-05 - mae: 0.0027\n",
      "Epoch 17: val_loss did not improve from 0.00000\n",
      "\u001b[1m1213/1213\u001b[0m \u001b[32m━━━━━━━━━━━━━━━━━━━━\u001b[0m\u001b[37m\u001b[0m \u001b[1m15s\u001b[0m 12ms/step - loss: 1.1022e-05 - mae: 0.0027 - val_loss: 3.5438e-06 - val_mae: 0.0017\n",
      "Epoch 18/20\n",
      "\u001b[1m1211/1213\u001b[0m \u001b[32m━━━━━━━━━━━━━━━━━━━\u001b[0m\u001b[37m━\u001b[0m \u001b[1m0s\u001b[0m 12ms/step - loss: 1.0073e-05 - mae: 0.0026\n",
      "Epoch 18: val_loss did not improve from 0.00000\n",
      "\u001b[1m1213/1213\u001b[0m \u001b[32m━━━━━━━━━━━━━━━━━━━━\u001b[0m\u001b[37m\u001b[0m \u001b[1m15s\u001b[0m 12ms/step - loss: 1.0072e-05 - mae: 0.0026 - val_loss: 1.5843e-05 - val_mae: 0.0038\n",
      "Epoch 19/20\n",
      "\u001b[1m1210/1213\u001b[0m \u001b[32m━━━━━━━━━━━━━━━━━━━\u001b[0m\u001b[37m━\u001b[0m \u001b[1m0s\u001b[0m 12ms/step - loss: 9.9131e-06 - mae: 0.0025\n",
      "Epoch 19: val_loss did not improve from 0.00000\n",
      "\u001b[1m1213/1213\u001b[0m \u001b[32m━━━━━━━━━━━━━━━━━━━━\u001b[0m\u001b[37m\u001b[0m \u001b[1m15s\u001b[0m 12ms/step - loss: 9.9127e-06 - mae: 0.0025 - val_loss: 2.1386e-05 - val_mae: 0.0045\n",
      "Epoch 20/20\n",
      "\u001b[1m1213/1213\u001b[0m \u001b[32m━━━━━━━━━━━━━━━━━━━━\u001b[0m\u001b[37m\u001b[0m \u001b[1m0s\u001b[0m 12ms/step - loss: 8.9535e-06 - mae: 0.0022\n",
      "Epoch 20: val_loss did not improve from 0.00000\n",
      "\u001b[1m1213/1213\u001b[0m \u001b[32m━━━━━━━━━━━━━━━━━━━━\u001b[0m\u001b[37m\u001b[0m \u001b[1m16s\u001b[0m 13ms/step - loss: 8.9534e-06 - mae: 0.0022 - val_loss: 2.3260e-05 - val_mae: 0.0047\n",
      "Epoch 20: early stopping\n"
     ]
    }
   ],
   "source": []
  },
  {
   "attachments": {
    "5374a74e-a765-4c25-bc7d-865465d81e0f.png": {
     "image/png": "[encoded data removed]"
    }
   },
   "cell_type": "markdown",
   "metadata": {},
   "source": [
    "_______________________________![image.png](attachment:5374a74e-a765-4c25-bc7d-865465d81e0f.png)"
   ]
  },
  {
   "cell_type": "code",
   "execution_count": null,
   "metadata": {},
   "outputs": [],
   "source": [
    "LSTM_saved_best_model = keras.models.load_model('best_model_LSTM_GOLD.keras')"
   ]
  },
  {
   "cell_type": "code",
   "execution_count": 126,
   "metadata": {},
   "outputs": [],
   "source": []
  },
  {
   "cell_type": "markdown",
   "metadata": {},
   "source": [
    "<html> <h3 style=\"font-style:italic; color:blue;\"> Test </h3> </html>"
   ]
  },
  {
   "cell_type": "markdown",
   "metadata": {},
   "source": [
    "#### Now just press 'CTRL' and 'ENTER' keys on the next 4 cells."
   ]
  },
  {
   "cell_type": "code",
   "execution_count": null,
   "metadata": {},
   "outputs": [],
   "source": [
    "# Evaluate the quality of network training on test data, which the network has NOT seen.\n",
    "\n",
    "scores = LSTM_saved_best_model.evaluate(x_test, y_test, verbose=1)"
   ]
  },
  {
   "cell_type": "code",
   "execution_count": null,
   "metadata": {},
   "outputs": [],
   "source": [
    "scores"
   ]
  },
  {
   "cell_type": "code",
   "execution_count": null,
   "metadata": {},
   "outputs": [],
   "source": [
    "print(\"Mean squared error (mse): %.9f \" % (scores[0]))"
   ]
  },
  {
   "cell_type": "code",
   "execution_count": null,
   "metadata": {},
   "outputs": [],
   "source": [
    "print(\"Mean absolute error (mae): %.9f \" % (scores[1]))"
   ]
  },
  {
   "cell_type": "markdown",
   "metadata": {},
   "source": [
    "<html> <h2 style=\"font-style:italic; color:blue;\"> Visualisation </h2> </html>"
   ]
  },
  {
   "cell_type": "markdown",
   "metadata": {},
   "source": [
    "<html> <h3 style=\"font-style:italic; color:blue;\"> MSE training graphs </h3> </html>"
   ]
  },
  {
   "attachments": {
    "755df6ca-d924-4ac0-8421-2a259c73377c.png": {
     "image/png": "[encoded data removed]"
    }
   },
   "cell_type": "markdown",
   "metadata": {},
   "source": [
    "___________________________![image.png](attachment:755df6ca-d924-4ac0-8421-2a259c73377c.png)"
   ]
  },
  {
   "cell_type": "code",
   "execution_count": null,
   "metadata": {},
   "outputs": [],
   "source": [
    "plt.plot(history.history['loss'])\n",
    "plt.xlabel('Mean Squared Error',size=14)"
   ]
  },
  {
   "cell_type": "code",
   "execution_count": 141,
   "metadata": {},
   "outputs": [
    {
     "data": {
      "text/plain": [
       "Text(0.5, 0, 'Mean Squared Error')"
      ]
     },
     "execution_count": 141,
     "metadata": {},
     "output_type": "execute_result"
    },
    {
     "data": {
      "image/png": "[encoded data removed]",
      "text/plain": [
       "<Figure size 640x480 with 1 Axes>"
      ]
     },
     "metadata": {},
     "output_type": "display_data"
    }
   ],
   "source": []
  },
  {
   "cell_type": "markdown",
   "metadata": {},
   "source": [
    "#### Now just press 'CTRL' and 'ENTER' keys on the next 2 cells."
   ]
  },
  {
   "cell_type": "code",
   "execution_count": null,
   "metadata": {},
   "outputs": [],
   "source": [
    "# More detailed MSE graph\n",
    "\n",
    "history_dict = history.history\n",
    "\n",
    "mse_values = history_dict['loss']\n",
    "val_mse_values = history_dict['val_loss']\n",
    "\n",
    "epochs = range(1, len(mse_values) + 1)\n",
    "plt.figure(num=1, figsize=(15,7))\n",
    "plt.plot(epochs, mse_values, 'b', label='Training Mean Squared Error (MSE)')\n",
    "plt.plot(epochs, val_mse_values, marker='o', markeredgecolor='red', markerfacecolor='yellow', label='Validation Mean Squared Error (MSE)')\n",
    "plt.xlabel('Epochs', size=18)\n",
    "plt.ylabel('Mean Squared Error (MSE)', size=18)\n",
    "plt.legend()\n",
    "plt.show()"
   ]
  },
  {
   "cell_type": "code",
   "execution_count": 145,
   "metadata": {},
   "outputs": [
    {
     "data": {
      "image/png": "[encoded data removed]",
      "text/plain": [
       "<Figure size 1500x700 with 1 Axes>"
      ]
     },
     "metadata": {},
     "output_type": "display_data"
    }
   ],
   "source": [
    "# deleted the 1st epoch\n",
    "# to examine in detail the results of the remaining epochs\n",
    "\n",
    "history_dict = history.history\n",
    "\n",
    "mse_values = history_dict['loss'][1:]\n",
    "val_mse_values = history_dict['val_loss'][1:]\n",
    "\n",
    "epochs = range(1, len(mse_values) + 1)\n",
    "plt.figure(num=1, figsize=(15,7))\n",
    "plt.plot(epochs, mse_values, 'b', label='Training Mean Squared Error (MSE)')\n",
    "plt.plot(epochs, val_mse_values, marker='o', markeredgecolor='red', markerfacecolor='yellow', label='Validation Mean Squared Error (MSE)')\n",
    "plt.xlabel('Epochs', size=18)\n",
    "plt.ylabel('Mean Squared Error (MSE)', size=18)\n",
    "plt.legend()\n",
    "plt.show()"
   ]
  },
  {
   "cell_type": "markdown",
   "metadata": {},
   "source": [
    "<html> <h3 style=\"font-style:italic; color:blue;\"> MAE training graphs </h3> </html>"
   ]
  },
  {
   "attachments": {
    "18ec4952-06a9-4505-b2c2-b9cca555500c.png": {
     "image/png": "[encoded data removed]"
    }
   },
   "cell_type": "markdown",
   "metadata": {},
   "source": [
    "__________________![image.png](attachment:18ec4952-06a9-4505-b2c2-b9cca555500c.png)"
   ]
  },
  {
   "cell_type": "code",
   "execution_count": null,
   "metadata": {},
   "outputs": [],
   "source": [
    "plt.plot(history.history['mae'])\n",
    "plt.xlabel('Mean Absolute error',size=14)\n",
    "plt.show()"
   ]
  },
  {
   "cell_type": "code",
   "execution_count": 151,
   "metadata": {},
   "outputs": [
    {
     "data": {
      "image/png": "[encoded data removed]",
      "text/plain": [
       "<Figure size 640x480 with 1 Axes>"
      ]
     },
     "metadata": {},
     "output_type": "display_data"
    }
   ],
   "source": []
  },
  {
   "attachments": {
    "8233e730-22b4-4ce7-8de2-77416c7655a8.png": {
     "image/png": "[encoded data removed]"
    }
   },
   "cell_type": "markdown",
   "metadata": {},
   "source": [
    "____![image.png](attachment:8233e730-22b4-4ce7-8de2-77416c7655a8.png)"
   ]
  },
  {
   "cell_type": "code",
   "execution_count": null,
   "metadata": {},
   "outputs": [],
   "source": [
    "history_dict = history.history\n",
    "\n",
    "mae_values = history_dict['val_mae']\n",
    "val_mae_values = history_dict['val_mae']\n",
    "\n",
    "epochs = range(1, len(mae_values) +1)\n",
    "plt.figure(num=1, figsize=(15,7))\n",
    "plt.plot(epochs, mae_values, 'b', label='Training Mean Asolute Error(MAE)')\n",
    "plt.plot(epochs, val_mae_values, marker='o', markeredgecolor='green', markerfacecolor='yellow', label='validation Mean Absolute Error (MAE)')\n",
    "plt.xlabel('Epochs', size=18)\n",
    "plt.ylabel('Mean Absolute Error(MAE)', size=18)\n",
    "plt.legend()\n",
    "plt.show()"
   ]
  },
  {
   "cell_type": "code",
   "execution_count": 153,
   "metadata": {},
   "outputs": [
    {
     "data": {
      "image/png": "[encoded data removed]",
      "text/plain": [
       "<Figure size 1500x700 with 1 Axes>"
      ]
     },
     "metadata": {},
     "output_type": "display_data"
    }
   ],
   "source": []
  },
  {
   "cell_type": "code",
   "execution_count": null,
   "metadata": {},
   "outputs": [],
   "source": []
  },
  {
   "cell_type": "markdown",
   "metadata": {},
   "source": [
    "<html> <h3 style=\"font-style:italic; color:blue;\"> Prediction 5 minute ahead </h3> </html>"
   ]
  },
  {
   "attachments": {
    "973f4326-7a0b-462a-b278-ffd23c74d7c9.png": {
     "image/png": "[encoded data removed]"
    }
   },
   "cell_type": "markdown",
   "metadata": {},
   "source": [
    "![image.png](attachment:973f4326-7a0b-462a-b278-ffd23c74d7c9.png)"
   ]
  },
  {
   "cell_type": "code",
   "execution_count": null,
   "metadata": {},
   "outputs": [],
   "source": [
    "pred = LSTM_saved_best_model(x_test)\n",
    "print(pred)"
   ]
  },
  {
   "cell_type": "code",
   "execution_count": 156,
   "metadata": {},
   "outputs": [
    {
     "name": "stdout",
     "output_type": "stream",
     "text": [
      "tf.Tensor(\n",
      "[[1.7847013 1.7831059]\n",
      " [1.7841758 1.7829924]\n",
      " [1.7838504 1.7827185]\n",
      " ...\n",
      " [1.800886  1.8009316]\n",
      " [1.8011881 1.8008903]\n",
      " [1.8007932 1.800265 ]], shape=(2995, 2), dtype=float32)\n"
     ]
    }
   ],
   "source": []
  },
  {
   "cell_type": "code",
   "execution_count": null,
   "metadata": {},
   "outputs": [],
   "source": []
  },
  {
   "cell_type": "markdown",
   "metadata": {},
   "source": [
    "<html> <h3 style=\"font-style:italic; color:blue;\"> Price chart </h3> </html>"
   ]
  },
  {
   "cell_type": "markdown",
   "metadata": {},
   "source": [
    "#### Now just press 'CTRL' and 'ENTER' keys on the next cell."
   ]
  },
  {
   "cell_type": "code",
   "execution_count": null,
   "metadata": {},
   "outputs": [],
   "source": [
    "N1=2500  # The first minute for the chart  \n",
    "LL = 500  # Duration (in minutes) for the chart\n",
    "N2=N1+LL  # the last minute for the chart\n",
    "\n",
    "plt.ion()\n",
    "fig = plt.figure(figsize=(15,7))  \n",
    "\n",
    "ax1 = fig.add_subplot(111)\n",
    "line1, = ax1.plot(y_test[N1:N2,0], label='High_Bid')\n",
    "line2, = ax1.plot(pred[N1:N2,0], label='Predicted High_Bid')\n",
    "line3, = ax1.plot(y_test[N1:N2,1], label='Low_Ask')\n",
    "line4, = ax1.plot(pred[N1:N2,1], label='Predicted Low_Ask')\n",
    "\n",
    "plt.title('Real & Predicted Prices', size=22)\n",
    "plt.ylabel('GOLD Prices (thousands $)', size=18)\n",
    "plt.xlabel('$Minutes$', size=18)\n",
    "plt.legend(loc='upper right') \n",
    "\n",
    "plt.show()\n"
   ]
  },
  {
   "cell_type": "markdown",
   "metadata": {},
   "source": [
    "<html> <h3 style=\"font-style:italic; color:blue;\"> Error Chart </h3> </html>"
   ]
  },
  {
   "attachments": {
    "b507c905-e3a6-47e9-b65e-d4b512c82410.png": {
     "image/png": "[encoded data removed]"
    }
   },
   "cell_type": "markdown",
   "metadata": {},
   "source": [
    "__________________![image.png](attachment:b507c905-e3a6-47e9-b65e-d4b512c82410.png)"
   ]
  },
  {
   "cell_type": "code",
   "execution_count": null,
   "metadata": {},
   "outputs": [],
   "source": [
    "max_price = 2070.778\n",
    "min_price = 1614.71\n",
    "average_price = (max_price + min_price)/2"
   ]
  },
  {
   "cell_type": "code",
   "execution_count": null,
   "metadata": {},
   "outputs": [],
   "source": []
  },
  {
   "cell_type": "markdown",
   "metadata": {},
   "source": [
    "#### Now just press 'CTRL' and 'ENTER' keys on the next cell."
   ]
  },
  {
   "cell_type": "code",
   "execution_count": null,
   "metadata": {},
   "outputs": [],
   "source": [
    "N1=0  # The first minute for the chart  \n",
    "LL = 1500  # leigt (in minutes) for the chart\n",
    "N2=N1+LL  # the last minute for the chart\n",
    "# N2 should be < len(pred)\n",
    "\n",
    "plt.ion()\n",
    "fig = plt.figure(figsize=(15,7))  \n",
    "\n",
    "ax1 = fig.add_subplot(111)\n",
    "\n",
    "# in $ (absolute price)\n",
    "a = (pred[N1:N2,0] - y_test[N1:N2,0]) *1000\n",
    "b = (pred[N1:N2,1] - y_test[N1:N2,1]) *1000\n",
    "\n",
    "# in %\n",
    "#a = (pred[N1:N2,0] - y_test[N1:N2,0]) *1000/ average_price *100\n",
    "#b = (pred[N1:N2,1] - y_test[N1:N2,1]) *1000/ average_price *100\n",
    "\n",
    "\n",
    "line1, = ax1.plot(a, label='Predicted High_Bid Error')\n",
    "line2, = ax1.plot(b, label='Predicted Low_Ask Error')\n",
    "\n",
    "plt.title('Error GOLD price Chart', size=22)\n",
    "plt.ylabel('Predicted Error GOLD Prices', size=18)\n",
    "plt.xlabel('$Minutes$', size=18)\n",
    "plt.legend(loc='upper right') \n",
    "\n",
    "plt.show()"
   ]
  },
  {
   "cell_type": "code",
   "execution_count": null,
   "metadata": {},
   "outputs": [],
   "source": []
  },
  {
   "cell_type": "markdown",
   "metadata": {},
   "source": [
    "# Lab Logbook Requirement:"
   ]
  },
  {
   "cell_type": "markdown",
   "metadata": {},
   "source": [
    "<html> <h3 style=\"font-style:italic; color:blue;\">\n",
    "   \n",
    "1) Modify the practical session LSTM model parameter from 100 to be calculated using the formula: \n",
    "\n",
    "   ZY + 10\n",
    "   , where your SID is: XXXXXZY\n",
    "   \n",
    "3) Change the epochs to 10.\n",
    "4) Change the patience to 3\n",
    "5) Leave other parameters the same as in the practical session.\n",
    "6) Compile the model.\n",
    "6) Train your LSTM with the same datasets and demonstrate the received test MSE & MAE.\n",
    "Compare your test MSE & MAE with the MSE & MAE of the LSTM in the practical session.\n",
    "7) Please only add to your Lab Logbook print-screens of:\n",
    "- your LSTM architecture using model.summary(),\n",
    "- the resulting test MSE & MAE and\n",
    "- MAE detailed graph\n",
    "\n",
    "\n",
    "    \n",
    "</h3> </html>"
   ]
  },
  {
   "cell_type": "markdown",
   "metadata": {},
   "source": [
    "<html> <h3 style=\"color:red;\">\n",
    "NOTE: DON'T FORGET TO SAVE AND BACK UP YOUR COMPLETED JUPYTER NOTEBOOK AND LAB LOGBOOK ON GITHUB OR ONEDRIVE.\n",
    "</h3> </html>"
   ]
  },
  {
   "cell_type": "code",
   "execution_count": 446,
   "metadata": {},
   "outputs": [
    {
     "name": "stderr",
     "output_type": "stream",
     "text": [
      "C:\\Users\\Admin\\anaconda3\\Lib\\site-packages\\keras\\src\\layers\\rnn\\rnn.py:204: UserWarning: Do not pass an `input_shape`/`input_dim` argument to a layer. When using Sequential models, prefer using an `Input(shape)` object as the first layer in the model instead.\n",
      "  super().__init__(**kwargs)\n"
     ]
    }
   ],
   "source": [
    "#SID 26\n",
    "# ZY + 10\n",
    "#2*6 + 10\n",
    "#12 + 10 = 22\n",
    "\n",
    "model = keras.Sequential([\n",
    "    \n",
    "    keras.layers.LSTM(22, activation='relu', input_shape=(50, 18)),\n",
    "    keras.layers.Dense(2)\n",
    "])\n"
   ]
  },
  {
   "cell_type": "code",
   "execution_count": 448,
   "metadata": {},
   "outputs": [
    {
     "data": {
      "text/html": [
       "<pre style=\"white-space:pre;overflow-x:auto;line-height:normal;font-family:Menlo,'DejaVu Sans Mono',consolas,'Courier New',monospace\"><span style=\"font-weight: bold\">Model: \"sequential_3\"</span>\n",
       "</pre>\n"
      ],
      "text/plain": [
       "\u001b[1mModel: \"sequential_3\"\u001b[0m\n"
      ]
     },
     "metadata": {},
     "output_type": "display_data"
    },
    {
     "data": {
      "text/html": [
       "<pre style=\"white-space:pre;overflow-x:auto;line-height:normal;font-family:Menlo,'DejaVu Sans Mono',consolas,'Courier New',monospace\">┏━━━━━━━━━━━━━━━━━━━━━━━━━━━━━━━━━┳━━━━━━━━━━━━━━━━━━━━━━━━┳━━━━━━━━━━━━━━━┓\n",
       "┃<span style=\"font-weight: bold\"> Layer (type)                    </span>┃<span style=\"font-weight: bold\"> Output Shape           </span>┃<span style=\"font-weight: bold\">       Param # </span>┃\n",
       "┡━━━━━━━━━━━━━━━━━━━━━━━━━━━━━━━━━╇━━━━━━━━━━━━━━━━━━━━━━━━╇━━━━━━━━━━━━━━━┩\n",
       "│ lstm_3 (<span style=\"color: #0087ff; text-decoration-color: #0087ff\">LSTM</span>)                   │ (<span style=\"color: #00d7ff; text-decoration-color: #00d7ff\">None</span>, <span style=\"color: #00af00; text-decoration-color: #00af00\">22</span>)             │         <span style=\"color: #00af00; text-decoration-color: #00af00\">3,608</span> │\n",
       "├─────────────────────────────────┼────────────────────────┼───────────────┤\n",
       "│ dense_3 (<span style=\"color: #0087ff; text-decoration-color: #0087ff\">Dense</span>)                 │ (<span style=\"color: #00d7ff; text-decoration-color: #00d7ff\">None</span>, <span style=\"color: #00af00; text-decoration-color: #00af00\">2</span>)              │            <span style=\"color: #00af00; text-decoration-color: #00af00\">46</span> │\n",
       "└─────────────────────────────────┴────────────────────────┴───────────────┘\n",
       "</pre>\n"
      ],
      "text/plain": [
       "┏━━━━━━━━━━━━━━━━━━━━━━━━━━━━━━━━━┳━━━━━━━━━━━━━━━━━━━━━━━━┳━━━━━━━━━━━━━━━┓\n",
       "┃\u001b[1m \u001b[0m\u001b[1mLayer (type)                   \u001b[0m\u001b[1m \u001b[0m┃\u001b[1m \u001b[0m\u001b[1mOutput Shape          \u001b[0m\u001b[1m \u001b[0m┃\u001b[1m \u001b[0m\u001b[1m      Param #\u001b[0m\u001b[1m \u001b[0m┃\n",
       "┡━━━━━━━━━━━━━━━━━━━━━━━━━━━━━━━━━╇━━━━━━━━━━━━━━━━━━━━━━━━╇━━━━━━━━━━━━━━━┩\n",
       "│ lstm_3 (\u001b[38;5;33mLSTM\u001b[0m)                   │ (\u001b[38;5;45mNone\u001b[0m, \u001b[38;5;34m22\u001b[0m)             │         \u001b[38;5;34m3,608\u001b[0m │\n",
       "├─────────────────────────────────┼────────────────────────┼───────────────┤\n",
       "│ dense_3 (\u001b[38;5;33mDense\u001b[0m)                 │ (\u001b[38;5;45mNone\u001b[0m, \u001b[38;5;34m2\u001b[0m)              │            \u001b[38;5;34m46\u001b[0m │\n",
       "└─────────────────────────────────┴────────────────────────┴───────────────┘\n"
      ]
     },
     "metadata": {},
     "output_type": "display_data"
    },
    {
     "data": {
      "text/html": [
       "<pre style=\"white-space:pre;overflow-x:auto;line-height:normal;font-family:Menlo,'DejaVu Sans Mono',consolas,'Courier New',monospace\"><span style=\"font-weight: bold\"> Total params: </span><span style=\"color: #00af00; text-decoration-color: #00af00\">3,654</span> (14.27 KB)\n",
       "</pre>\n"
      ],
      "text/plain": [
       "\u001b[1m Total params: \u001b[0m\u001b[38;5;34m3,654\u001b[0m (14.27 KB)\n"
      ]
     },
     "metadata": {},
     "output_type": "display_data"
    },
    {
     "data": {
      "text/html": [
       "<pre style=\"white-space:pre;overflow-x:auto;line-height:normal;font-family:Menlo,'DejaVu Sans Mono',consolas,'Courier New',monospace\"><span style=\"font-weight: bold\"> Trainable params: </span><span style=\"color: #00af00; text-decoration-color: #00af00\">3,654</span> (14.27 KB)\n",
       "</pre>\n"
      ],
      "text/plain": [
       "\u001b[1m Trainable params: \u001b[0m\u001b[38;5;34m3,654\u001b[0m (14.27 KB)\n"
      ]
     },
     "metadata": {},
     "output_type": "display_data"
    },
    {
     "data": {
      "text/html": [
       "<pre style=\"white-space:pre;overflow-x:auto;line-height:normal;font-family:Menlo,'DejaVu Sans Mono',consolas,'Courier New',monospace\"><span style=\"font-weight: bold\"> Non-trainable params: </span><span style=\"color: #00af00; text-decoration-color: #00af00\">0</span> (0.00 B)\n",
       "</pre>\n"
      ],
      "text/plain": [
       "\u001b[1m Non-trainable params: \u001b[0m\u001b[38;5;34m0\u001b[0m (0.00 B)\n"
      ]
     },
     "metadata": {},
     "output_type": "display_data"
    },
    {
     "name": "stdout",
     "output_type": "stream",
     "text": [
      "None\n"
     ]
    }
   ],
   "source": [
    "print(model.summary())"
   ]
  },
  {
   "cell_type": "code",
   "execution_count": 450,
   "metadata": {},
   "outputs": [],
   "source": [
    "model.compile(optimizer=\"adam\", loss=\"mse\", metrics=[\"mae\"])"
   ]
  },
  {
   "cell_type": "code",
   "execution_count": 452,
   "metadata": {},
   "outputs": [],
   "source": [
    "es = EarlyStopping(monitor='val_loss', mode='min', patience=3, verbose=1)\n",
    "mc = ModelCheckpoint('best_LSTM_GOLD.keras', monitor='val_loss', mode='min', verbose=1, save_best_only=True)"
   ]
  },
  {
   "cell_type": "code",
   "execution_count": 456,
   "metadata": {},
   "outputs": [
    {
     "name": "stdout",
     "output_type": "stream",
     "text": [
      "Epoch 1/10\n",
      "\u001b[1m1212/1213\u001b[0m \u001b[32m━━━━━━━━━━━━━━━━━━━\u001b[0m\u001b[37m━\u001b[0m \u001b[1m0s\u001b[0m 22ms/step - loss: 0.1771 - mae: 0.1071\n",
      "Epoch 1: val_loss improved from inf to 0.00016, saving model to best_LSTM_GOLD.keras\n",
      "\u001b[1m1213/1213\u001b[0m \u001b[32m━━━━━━━━━━━━━━━━━━━━\u001b[0m\u001b[37m\u001b[0m \u001b[1m36s\u001b[0m 24ms/step - loss: 0.1768 - mae: 0.1070 - val_loss: 1.6398e-04 - val_mae: 0.0091\n",
      "Epoch 2/10\n",
      "\u001b[1m1212/1213\u001b[0m \u001b[32m━━━━━━━━━━━━━━━━━━━\u001b[0m\u001b[37m━\u001b[0m \u001b[1m0s\u001b[0m 23ms/step - loss: 7.3922e-05 - mae: 0.0065\n",
      "Epoch 2: val_loss improved from 0.00016 to 0.00004, saving model to best_LSTM_GOLD.keras\n",
      "\u001b[1m1213/1213\u001b[0m \u001b[32m━━━━━━━━━━━━━━━━━━━━\u001b[0m\u001b[37m\u001b[0m \u001b[1m41s\u001b[0m 24ms/step - loss: 7.3902e-05 - mae: 0.0065 - val_loss: 4.3401e-05 - val_mae: 0.0049\n",
      "Epoch 3/10\n",
      "\u001b[1m1212/1213\u001b[0m \u001b[32m━━━━━━━━━━━━━━━━━━━\u001b[0m\u001b[37m━\u001b[0m \u001b[1m0s\u001b[0m 22ms/step - loss: 3.7333e-05 - mae: 0.0047\n",
      "Epoch 3: val_loss improved from 0.00004 to 0.00002, saving model to best_LSTM_GOLD.keras\n",
      "\u001b[1m1213/1213\u001b[0m \u001b[32m━━━━━━━━━━━━━━━━━━━━\u001b[0m\u001b[37m\u001b[0m \u001b[1m40s\u001b[0m 23ms/step - loss: 3.7326e-05 - mae: 0.0047 - val_loss: 2.3023e-05 - val_mae: 0.0034\n",
      "Epoch 4/10\n",
      "\u001b[1m1212/1213\u001b[0m \u001b[32m━━━━━━━━━━━━━━━━━━━\u001b[0m\u001b[37m━\u001b[0m \u001b[1m0s\u001b[0m 23ms/step - loss: 3.0529e-05 - mae: 0.0043\n",
      "Epoch 4: val_loss did not improve from 0.00002\n",
      "\u001b[1m1213/1213\u001b[0m \u001b[32m━━━━━━━━━━━━━━━━━━━━\u001b[0m\u001b[37m\u001b[0m \u001b[1m29s\u001b[0m 24ms/step - loss: 3.0524e-05 - mae: 0.0043 - val_loss: 4.2411e-05 - val_mae: 0.0051\n",
      "Epoch 5/10\n",
      "\u001b[1m1212/1213\u001b[0m \u001b[32m━━━━━━━━━━━━━━━━━━━\u001b[0m\u001b[37m━\u001b[0m \u001b[1m0s\u001b[0m 20ms/step - loss: 2.4558e-05 - mae: 0.0037\n",
      "Epoch 5: val_loss improved from 0.00002 to 0.00001, saving model to best_LSTM_GOLD.keras\n",
      "\u001b[1m1213/1213\u001b[0m \u001b[32m━━━━━━━━━━━━━━━━━━━━\u001b[0m\u001b[37m\u001b[0m \u001b[1m37s\u001b[0m 21ms/step - loss: 2.4559e-05 - mae: 0.0037 - val_loss: 1.0451e-05 - val_mae: 0.0024\n",
      "Epoch 6/10\n",
      "\u001b[1m1212/1213\u001b[0m \u001b[32m━━━━━━━━━━━━━━━━━━━\u001b[0m\u001b[37m━\u001b[0m \u001b[1m0s\u001b[0m 22ms/step - loss: 1.9731e-05 - mae: 0.0034\n",
      "Epoch 6: val_loss did not improve from 0.00001\n",
      "\u001b[1m1213/1213\u001b[0m \u001b[32m━━━━━━━━━━━━━━━━━━━━\u001b[0m\u001b[37m\u001b[0m \u001b[1m43s\u001b[0m 22ms/step - loss: 1.9731e-05 - mae: 0.0034 - val_loss: 1.9335e-05 - val_mae: 0.0037\n",
      "Epoch 7/10\n",
      "\u001b[1m1212/1213\u001b[0m \u001b[32m━━━━━━━━━━━━━━━━━━━\u001b[0m\u001b[37m━\u001b[0m \u001b[1m0s\u001b[0m 21ms/step - loss: 2.1847e-05 - mae: 0.0035\n",
      "Epoch 7: val_loss improved from 0.00001 to 0.00001, saving model to best_LSTM_GOLD.keras\n",
      "\u001b[1m1213/1213\u001b[0m \u001b[32m━━━━━━━━━━━━━━━━━━━━\u001b[0m\u001b[37m\u001b[0m \u001b[1m40s\u001b[0m 22ms/step - loss: 2.1844e-05 - mae: 0.0035 - val_loss: 7.4766e-06 - val_mae: 0.0021\n",
      "Epoch 8/10\n",
      "\u001b[1m1213/1213\u001b[0m \u001b[32m━━━━━━━━━━━━━━━━━━━━\u001b[0m\u001b[37m\u001b[0m \u001b[1m0s\u001b[0m 21ms/step - loss: 1.7655e-05 - mae: 0.0032\n",
      "Epoch 8: val_loss did not improve from 0.00001\n",
      "\u001b[1m1213/1213\u001b[0m \u001b[32m━━━━━━━━━━━━━━━━━━━━\u001b[0m\u001b[37m\u001b[0m \u001b[1m26s\u001b[0m 21ms/step - loss: 1.7655e-05 - mae: 0.0032 - val_loss: 1.5916e-05 - val_mae: 0.0033\n",
      "Epoch 9/10\n",
      "\u001b[1m1212/1213\u001b[0m \u001b[32m━━━━━━━━━━━━━━━━━━━\u001b[0m\u001b[37m━\u001b[0m \u001b[1m0s\u001b[0m 21ms/step - loss: 1.9211e-05 - mae: 0.0034\n",
      "Epoch 9: val_loss did not improve from 0.00001\n",
      "\u001b[1m1213/1213\u001b[0m \u001b[32m━━━━━━━━━━━━━━━━━━━━\u001b[0m\u001b[37m\u001b[0m \u001b[1m41s\u001b[0m 22ms/step - loss: 1.9210e-05 - mae: 0.0034 - val_loss: 1.1847e-05 - val_mae: 0.0027\n",
      "Epoch 10/10\n",
      "\u001b[1m1213/1213\u001b[0m \u001b[32m━━━━━━━━━━━━━━━━━━━━\u001b[0m\u001b[37m\u001b[0m \u001b[1m0s\u001b[0m 23ms/step - loss: 1.8499e-05 - mae: 0.0034\n",
      "Epoch 10: val_loss did not improve from 0.00001\n",
      "\u001b[1m1213/1213\u001b[0m \u001b[32m━━━━━━━━━━━━━━━━━━━━\u001b[0m\u001b[37m\u001b[0m \u001b[1m43s\u001b[0m 24ms/step - loss: 1.8499e-05 - mae: 0.0034 - val_loss: 7.7678e-06 - val_mae: 0.0022\n",
      "Epoch 10: early stopping\n"
     ]
    }
   ],
   "source": [
    "history = model.fit(x_train, y_train, batch_size=20, epochs=10, validation_split=0.1, shuffle=True, verbose=1, callbacks=[es, mc])"
   ]
  },
  {
   "cell_type": "code",
   "execution_count": 458,
   "metadata": {},
   "outputs": [],
   "source": [
    "LSTM_saved_best_model = keras.models.load_model('best_model_LSTM_GOLD.keras')"
   ]
  },
  {
   "cell_type": "code",
   "execution_count": 460,
   "metadata": {},
   "outputs": [
    {
     "name": "stdout",
     "output_type": "stream",
     "text": [
      "\u001b[1m94/94\u001b[0m \u001b[32m━━━━━━━━━━━━━━━━━━━━\u001b[0m\u001b[37m\u001b[0m \u001b[1m3s\u001b[0m 17ms/step - loss: 3.1286e-06 - mae: 0.0015\n"
     ]
    }
   ],
   "source": [
    "scores = LSTM_saved_best_model.evaluate(x_test, y_test, verbose=1)"
   ]
  },
  {
   "cell_type": "code",
   "execution_count": 462,
   "metadata": {},
   "outputs": [
    {
     "data": {
      "text/plain": [
       "[2.4932871838245774e-06, 0.0013743849704042077]"
      ]
     },
     "execution_count": 462,
     "metadata": {},
     "output_type": "execute_result"
    }
   ],
   "source": [
    "scores"
   ]
  },
  {
   "cell_type": "code",
   "execution_count": 464,
   "metadata": {},
   "outputs": [
    {
     "name": "stdout",
     "output_type": "stream",
     "text": [
      "Mean squared error (mse): 0.000002493 \n"
     ]
    }
   ],
   "source": [
    "print(\"Mean squared error (mse): %.9f \" % (scores[0]))"
   ]
  },
  {
   "cell_type": "code",
   "execution_count": 468,
   "metadata": {},
   "outputs": [
    {
     "name": "stdout",
     "output_type": "stream",
     "text": [
      "Mean absolute error (mae): 0.001374385 \n"
     ]
    }
   ],
   "source": [
    "print(\"Mean absolute error (mae): %.9f \" %(scores[1]))"
   ]
  },
  {
   "cell_type": "code",
   "execution_count": 472,
   "metadata": {},
   "outputs": [
    {
     "data": {
      "text/plain": [
       "Text(0.5, 0, 'Mean Square Error')"
      ]
     },
     "execution_count": 472,
     "metadata": {},
     "output_type": "execute_result"
    },
    {
     "data": {
      "image/png": "[encoded data removed]",
      "text/plain": [
       "<Figure size 640x480 with 1 Axes>"
      ]
     },
     "metadata": {},
     "output_type": "display_data"
    }
   ],
   "source": [
    "plt.plot(history.history['loss'])\n",
    "plt.xlabel('Mean Square Error', size=14)"
   ]
  },
  {
   "cell_type": "code",
   "execution_count": 474,
   "metadata": {},
   "outputs": [
    {
     "data": {
      "image/png": "[encoded data removed]",
      "text/plain": [
       "<Figure size 640x480 with 1 Axes>"
      ]
     },
     "metadata": {},
     "output_type": "display_data"
    }
   ],
   "source": [
    "plt.plot(history.history['mae'])\n",
    "plt.xlabel('Mean Absolute error', size=14)\n",
    "plt.show()"
   ]
  },
  {
   "cell_type": "code",
   "execution_count": 478,
   "metadata": {},
   "outputs": [
    {
     "data": {
      "image/png": "[encoded data removed]",
      "text/plain": [
       "<Figure size 1500x700 with 1 Axes>"
      ]
     },
     "metadata": {},
     "output_type": "display_data"
    }
   ],
   "source": [
    "history_dict = history.history\n",
    "\n",
    "mae_values = history_dict['mae']\n",
    "val_mae_values = history_dict['val_mae']\n",
    "\n",
    "epochs = range(1, len(mae_values) + 1)\n",
    "plt.figure(num=1, figsize=(15, 7))\n",
    "plt.plot(epochs, mae_values, 'b', label= 'Train Mean Absolute Error(MAE)')\n",
    "plt.plot(epochs, val_mae_values, marker='o', markeredgecolor='green', markerfacecolor='yellow', label='validation Mean Absolute Error(MAE)')\n",
    "plt.xlabel('Epochs', size=18)\n",
    "plt.ylabel('Mean Asolute Error (MAE)', size=18)\n",
    "plt.legend()\n",
    "plt.show()"
   ]
  },
  {
   "cell_type": "code",
   "execution_count": null,
   "metadata": {},
   "outputs": [],
   "source": []
  }
 ],
 "metadata": {
  "accelerator": "GPU",
  "colab": {
   "authorship_tag": "ABX9TyOc7aEcdhSCW0YiNhSQpnrB",
   "collapsed_sections": [],
   "history_visible": true,
   "include_colab_link": true,
   "mount_file_id": "1DBujUnjswVdnDx01O3XAyGN5zvVr0Wwg",
   "name": "Copy of My_project.ipynb",
   "provenance": []
  },
  "kernelspec": {
   "display_name": "Python 3 (ipykernel)",
   "language": "python",
   "name": "python3"
  },
  "language_info": {
   "codemirror_mode": {
    "name": "ipython",
    "version": 3
   },
   "file_extension": ".py",
   "mimetype": "text/x-python",
   "name": "python",
   "nbconvert_exporter": "python",
   "pygments_lexer": "ipython3",
   "version": "3.12.4"
  }
 },
 "nbformat": 4,
 "nbformat_minor": 4
}
